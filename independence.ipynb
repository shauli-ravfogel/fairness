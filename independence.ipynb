{
 "cells": [
  {
   "cell_type": "code",
   "execution_count": 118,
   "metadata": {},
   "outputs": [
    {
     "name": "stdout",
     "output_type": "stream",
     "text": [
      "The autoreload extension is already loaded. To reload it, use:\n",
      "  %reload_ext autoreload\n"
     ]
    }
   ],
   "source": [
    "%load_ext autoreload\n",
    "%autoreload 2\n",
    "\n",
    "\n",
    "import sys\n",
    "import os\n",
    "\n",
    "from sklearn.linear_model import SGDClassifier, LinearRegression, Lasso, Ridge\n",
    "from sklearn.utils import shuffle\n",
    "from sklearn.decomposition import PCA\n",
    "import seaborn as sn\n",
    "import random\n",
    "from sklearn.metrics.pairwise import cosine_similarity\n",
    "from collections import defaultdict\n",
    "from sklearn.manifold import TSNE\n",
    "import tqdm\n",
    "import copy\n",
    "from sklearn.svm import LinearSVC \n",
    "\n",
    "from sklearn.cross_decomposition import PLSRegression\n",
    "from sklearn.decomposition import TruncatedSVD\n",
    "import torch\n",
    "from sklearn.linear_model import SGDClassifier\n",
    "from rlace import solve_adv_game\n",
    "\n",
    "from sklearn.svm import LinearSVC\n",
    "\n",
    "import sklearn\n",
    "from sklearn.linear_model import LogisticRegression\n",
    "import random\n",
    "import pickle\n",
    "import matplotlib.pyplot as plt\n",
    "from sklearn import cluster\n",
    "from sklearn import neural_network\n",
    "from gensim.models.keyedvectors import Word2VecKeyedVectors\n",
    "from gensim.models import KeyedVectors\n",
    "import numpy as np\n",
    "import warnings\n",
    "import argparse\n",
    "from sklearn.neural_network import MLPClassifier\n",
    "from collections import defaultdict\n",
    "import scipy\n",
    "from scipy import stats\n",
    "from scipy.stats import pearsonr\n",
    "import pandas as pd\n",
    "from rlace import init_classifier\n",
    "from collections import Counter\n",
    "from sklearn.linear_model import LogisticRegression"
   ]
  },
  {
   "cell_type": "code",
   "execution_count": 2,
   "metadata": {},
   "outputs": [],
   "source": [
    "bios_data_path = \"../WWW/rlace/bios/data/bios_data\"\n",
    "bios_encodings_path = \"../WWW/rlace/bios/data/encodings/freezed\"\n",
    "\n",
    "data = []\n",
    "for mode in [\"train\", \"dev\", \"test\"]:\n",
    "    with open(bios_data_path + \"/\" + \"{}.pickle\".format(mode), \"rb\") as f:\n",
    "        data.append(pickle.load(f))\n",
    "        \n",
    "train,dev,test = data\n",
    "gender2ind = {\"m\": 0, \"f\": 1}\n",
    "train_profs, dev_profs = np.array([d[\"p\"] for d in train]), np.array([d[\"p\"] for d in dev])\n",
    "train_gender, dev_gender = np.array([gender2ind[d[\"g\"]] for d in train]), np.array([gender2ind[d[\"g\"]] for d in dev])\n",
    "\n",
    "\n",
    "data = []\n",
    "for mode in [\"train\", \"dev\", \"test\"]:\n",
    "    with open(bios_encodings_path + \"/\" + \"{}_cls.npy\".format(mode), \"rb\") as f:\n",
    "        data.append(np.load(f))\n",
    "        \n",
    "train_x, dev_x, test_x = data\n",
    "pca = PCA(n_components=256, random_state=0)\n",
    "pca.fit(train_x)\n",
    "train_x = pca.transform(train_x)\n",
    "dev_x = pca.transform(dev_x)\n",
    "test_x = pca.transform(test_x)"
   ]
  },
  {
   "cell_type": "code",
   "execution_count": 36,
   "metadata": {},
   "outputs": [
    {
     "name": "stdout",
     "output_type": "stream",
     "text": [
      "Now examinaing dentist physician with frac= 0.1\n",
      "{'physician': 0.49725860493451113, 'dentist': 0.5027413950654889}\n",
      "{'physician': 0.3646055437100213, 'dentist': 0.6353944562899787}\n",
      "{'physician': 0.629911666159001, 'dentist': 0.3700883338409991}\n",
      "gender score 0.442583003350594\n",
      "------------------------\n",
      "{'dentist': 0.5012183978068839, 'physician': 0.49878160219311607}\n",
      "{'dentist': 0.906183368869936, 'physician': 0.09381663113006397}\n",
      "{'physician': 0.9037465732561681, 'dentist': 0.09625342674383186}\n",
      "gender score 0.5217788607980506\n",
      "gender score, prof1: 0.9984770027413951\n",
      "gender score, prof2: 0.999695400548279\n",
      "=========================\n",
      "Now examinaing dentist physician with frac= 0.2\n",
      "{'dentist': 0.49390801096558024, 'physician': 0.5060919890344198}\n",
      "{'dentist': 0.6494060310691441, 'physician': 0.3505939689308559}\n",
      "{'physician': 0.6615900091379836, 'dentist': 0.33840999086201645}\n",
      "gender score 0.47045385318306426\n",
      "------------------------\n",
      "{'dentist': 0.501827596710326, 'physician': 0.4981724032896741}\n",
      "{'dentist': 0.8056655498020103, 'physician': 0.19433445019798964}\n",
      "{'physician': 0.8020103563813585, 'dentist': 0.1979896436186415}\n",
      "gender score 0.5012183978068839\n",
      "gender score, prof1: 0.9911666159000914\n",
      "gender score, prof2: 0.9872068230277186\n",
      "=========================\n",
      "Now examinaing dentist physician with frac= 0.3\n",
      "{'physician': 0.5166006701187937, 'dentist': 0.4833993298812062}\n",
      "{'physician': 0.3926286932683521, 'dentist': 0.6073713067316479}\n",
      "{'dentist': 0.35942735303076456, 'physician': 0.6405726469692354}\n",
      "gender score 0.489491318915626\n",
      "------------------------\n",
      "{'physician': 0.5, 'dentist': 0.5}\n",
      "{'physician': 0.29150167529698445, 'dentist': 0.7084983247030155}\n",
      "{'dentist': 0.29150167529698445, 'physician': 0.7084983247030155}\n",
      "gender score 0.5118793786171185\n",
      "gender score, prof1: 0.9689308559244594\n",
      "gender score, prof2: 0.9317697228144989\n",
      "=========================\n",
      "Now examinaing dentist physician with frac= 0.4\n",
      "{'dentist': 0.4916235150776729, 'physician': 0.5083764849223271}\n",
      "{'dentist': 0.5601583917148949, 'physician': 0.4398416082851051}\n",
      "{'dentist': 0.4230886384404508, 'physician': 0.5769113615595491}\n",
      "gender score 0.48081023454157784\n",
      "------------------------\n",
      "{'dentist': 0.4952787084983247, 'physician': 0.5047212915016753}\n",
      "{'dentist': 0.6009747182455072, 'physician': 0.39902528175449287}\n",
      "{'dentist': 0.38958269875114226, 'physician': 0.6104173012488577}\n",
      "gender score 0.5091379835516296\n",
      "gender score, prof1: 0.931160523911057\n",
      "gender score, prof2: 0.8053609503502893\n",
      "=========================\n",
      "Now examinaing dentist physician with frac= 0.5\n",
      "{'physician': 0.5053304904051172, 'dentist': 0.4946695095948827}\n",
      "{'physician': 0.5013706975327444, 'dentist': 0.49862930246725556}\n",
      "{'physician': 0.5092902832774902, 'dentist': 0.4907097167225099}\n",
      "gender score 0.4998477002741395\n",
      "------------------------\n",
      "{'physician': 0.5039597928723728, 'dentist': 0.4960402071276272}\n",
      "{'physician': 0.49954310082241854, 'dentist': 0.5004568991775815}\n",
      "{'physician': 0.5083764849223271, 'dentist': 0.4916235150776729}\n",
      "gender score 0.5042643923240938\n",
      "gender score, prof1: 0.8936947913493756\n",
      "gender score, prof2: 0.8483094730429486\n",
      "=========================\n",
      "Now examinaing dentist physician with frac= 0.6\n",
      "{'physician': 0.5074626865671642, 'dentist': 0.4925373134328358}\n",
      "{'physician': 0.5723423697837344, 'dentist': 0.4276576302162656}\n",
      "{'physician': 0.442583003350594, 'dentist': 0.557416996649406}\n",
      "gender score 0.4896436186414864\n",
      "------------------------\n",
      "{'dentist': 0.4952787084983247, 'physician': 0.5047212915016753}\n",
      "{'physician': 0.60493451111788, 'dentist': 0.39506548888212}\n",
      "{'dentist': 0.5954919281145294, 'physician': 0.4045080718854706}\n",
      "gender score 0.523454157782516\n",
      "gender score, prof1: 0.8805970149253731\n",
      "gender score, prof2: 0.9689308559244594\n",
      "=========================\n",
      "Now examinaing dentist physician with frac= 0.7\n",
      "{'physician': 0.5062442887602803, 'dentist': 0.4937557112397198}\n",
      "{'physician': 0.6305208650624429, 'dentist': 0.36947913493755713}\n",
      "{'physician': 0.38196771245811756, 'dentist': 0.6180322875418824}\n",
      "gender score 0.4744136460554371\n",
      "------------------------\n",
      "{'physician': 0.5076149862930247, 'dentist': 0.49238501370697535}\n",
      "{'physician': 0.7100213219616205, 'dentist': 0.2899786780383795}\n",
      "{'physician': 0.30520865062442887, 'dentist': 0.6947913493755711}\n",
      "gender score 0.4815717331708803\n",
      "gender score, prof1: 0.9186719463904965\n",
      "gender score, prof2: 0.9945172098690223\n",
      "=========================\n",
      "Now examinaing dentist physician with frac= 0.8\n",
      "{'physician': 0.47852573865367043, 'dentist': 0.5214742613463296}\n",
      "{'physician': 0.6293024672555589, 'dentist': 0.37069753274444106}\n",
      "{'dentist': 0.6722509899482181, 'physician': 0.3277490100517819}\n",
      "gender score 0.4773073408467865\n",
      "------------------------\n",
      "{'physician': 0.5042643923240938, 'dentist': 0.4957356076759062}\n",
      "{'physician': 0.8090161437709412, 'dentist': 0.19098385622905878}\n",
      "{'dentist': 0.8004873591227536, 'physician': 0.19951264087724643}\n",
      "gender score 0.5287846481876333\n",
      "gender score, prof1: 0.9594882729211087\n",
      "gender score, prof2: 0.999390801096558\n",
      "=========================\n",
      "Now examinaing dentist physician with frac= 0.9\n",
      "{'physician': 0.46588486140724944, 'dentist': 0.5341151385927505}\n",
      "{'physician': 0.5945781297593664, 'dentist': 0.4054218702406336}\n",
      "{'dentist': 0.6628084069448675, 'physician': 0.3371915930551325}\n",
      "gender score 0.5124885775205604\n",
      "------------------------\n",
      "{'physician': 0.5036551934206518, 'dentist': 0.49634480657934815}\n",
      "{'physician': 0.9074017666768199, 'dentist': 0.09259823332318001}\n",
      "{'dentist': 0.9000913798355163, 'physician': 0.09990862016448371}\n",
      "gender score 0.5260432531221444\n",
      "gender score, prof1: 0.9905574169966495\n",
      "gender score, prof2: 0.999695400548279\n",
      "=========================\n"
     ]
    }
   ],
   "source": [
    "def get_probs(clf, x_train_projected, train_gender_binary):\n",
    "    preds = clf.predict(x_train_projected)\n",
    "    preds_male = clf.predict(x_train_projected[train_gender_binary==0])\n",
    "    preds_female = clf.predict(x_train_projected[train_gender_binary==1])\n",
    "    couner_preds, counter_preds_male, counter_preds_female = Counter(preds), Counter(preds_male),  Counter(preds_female)\n",
    "    probs_all = {k:v/sum(couner_preds.values()) for k,v in couner_preds.items()}\n",
    "    probs_male = {k:v/sum(counter_preds_male.values()) for k,v in counter_preds_male.items()}\n",
    "    probs_female = {k:v/sum(counter_preds_female.values()) for k,v in counter_preds_female.items()}\n",
    "    print(probs_all)\n",
    "    print(probs_male)\n",
    "    print(probs_female)\n",
    "    return\n",
    "\n",
    "    for k in probs_all.keys():\n",
    "        if k not in probs_male:\n",
    "            probs_male[k] = 1e-6\n",
    "        \n",
    "    preds_diffs = {k:abs(probs_all[k]-probs_male[k]) for k in probs_all.keys()}\n",
    "    print(preds_diffs)\n",
    "    \n",
    "for (prof1, prof2) in [(\"dentist\", \"physician\")]: #[(\"dentist\", \"physician\"), (\"psychologist\", \"professor\"),  (\"nurse\", \"physician\"), (\"professor\", \"attorney\"), (\"journalist\", \"attorney\"), (\"physician\", \"professor\"), (\"nurse\", \"attorney\"), (\"dentist\", \"journalist\")]:\n",
    "    for frac in [0.1, 0.2, 0.3, 0.4, 0.5, 0.6, 0.7, 0.8, 0.9]:\n",
    "        print(\"Now examinaing\", prof1, prof2, \"with frac=\", frac)\n",
    "        \n",
    "        with open(\"projs-balanced-binary-pca=128/{}-{}-prop={}.pickle\".format(prof1, prof2, frac), \"rb\") as f:\n",
    "            data = pickle.load(f)\n",
    "            x_train_binary, train_profs_binary, train_gender_binary = data[\"train\"][\"x\"], data[\"train\"][\"profs\"], data[\"train\"][\"gender\"]\n",
    "            x_dev_binary, dev_profs_binary, dev_gender_binary = data[\"dev\"][\"x\"], data[\"dev\"][\"profs\"], data[\"dev\"][\"gender\"]\n",
    "            output = data[\"output\"]\n",
    "            P = output[\"P\"]\n",
    "            x_train_projected = x_train_binary@P\n",
    "            clf = init_classifier()\n",
    "            clf.fit(x_train_projected, train_profs_binary)\n",
    "            get_probs(clf, x_train_projected, train_gender_binary)\n",
    "            \n",
    "            clf_gender = init_classifier()\n",
    "            clf_gender.fit(x_train_projected, train_gender_binary)\n",
    "            print(\"gender score\", clf_gender.score(x_train_projected, train_gender_binary))\n",
    "            \n",
    "            print(\"------------------------\")\n",
    "            \n",
    "            clf = init_classifier()\n",
    "            clf.fit(x_train_binary, train_profs_binary)\n",
    "            get_probs(clf, x_train_binary, train_gender_binary)\n",
    "            \n",
    "            clf_gender = init_classifier()\n",
    "            clf_gender.fit(x_train_projected, train_gender_binary)\n",
    "            print(\"gender score\", clf_gender.score(x_train_projected, train_gender_binary))\n",
    "\n",
    "            clf_gender = init_classifier()\n",
    "            clf_gender.fit(x_train_projected[train_profs_binary==prof1], train_gender_binary[train_profs_binary==prof1])\n",
    "            print(\"gender score, prof1:\", clf_gender.score(x_train_projected[train_profs_binary==prof1], train_gender_binary[train_profs_binary==prof1]))\n",
    "            \n",
    "            clf_gender = init_classifier()\n",
    "            clf_gender.fit(x_train_projected[train_profs_binary==prof2], train_gender_binary[train_profs_binary==prof2])\n",
    "            print(\"gender score, prof2:\", clf_gender.score(x_train_projected[train_profs_binary==prof2], train_gender_binary[train_profs_binary==prof2]))\n",
    "            \n",
    "            print(\"=========================\")\n",
    "            #preds = clf.predict(x_train_projected)\n",
    "            #preds_male = clf.predict(x_train_projected[train_gender_binary]==0)"
   ]
  },
  {
   "cell_type": "code",
   "execution_count": 100,
   "metadata": {},
   "outputs": [
    {
     "data": {
      "text/plain": [
       "{'score': 0.5001522997258605,\n",
       " 'P_before_svd': array([[ 2.95993030e-01, -3.07224870e-01,  3.36853676e-02, ...,\n",
       "          4.47473954e-04,  1.46941550e-03,  5.03013609e-03],\n",
       "        [-3.07224870e-01,  8.65928710e-01,  1.47001147e-02, ...,\n",
       "          1.95275235e-04,  6.41245046e-04,  2.19512428e-03],\n",
       "        [ 3.36853676e-02,  1.47001147e-02,  9.98388220e-01, ...,\n",
       "         -2.14107604e-05, -7.03086844e-05, -2.40682260e-04],\n",
       "        ...,\n",
       "        [ 4.47473954e-04,  1.95275235e-04, -2.14107604e-05, ...,\n",
       "          9.99999716e-01, -9.33975343e-07, -3.19720539e-06],\n",
       "        [ 1.46941550e-03,  6.41245046e-04, -7.03086844e-05, ...,\n",
       "         -9.33975343e-07,  9.99996933e-01, -1.04989867e-05],\n",
       "        [ 5.03013609e-03,  2.19512428e-03, -2.40682260e-04, ...,\n",
       "         -3.19720539e-06, -1.04989867e-05,  9.99964060e-01]]),\n",
       " 'P': array([[ 2.95993030e-01, -3.07224870e-01,  3.36853713e-02, ...,\n",
       "          4.47473984e-04,  1.46941561e-03,  5.03013609e-03],\n",
       "        [-3.07224870e-01,  8.65928710e-01,  1.47001157e-02, ...,\n",
       "          1.95275250e-04,  6.41245104e-04,  2.19512451e-03],\n",
       "        [ 3.36853713e-02,  1.47001157e-02,  9.98388220e-01, ...,\n",
       "         -2.14107622e-05, -7.03086844e-05, -2.40682275e-04],\n",
       "        ...,\n",
       "        [ 4.47473984e-04,  1.95275250e-04, -2.14107622e-05, ...,\n",
       "          9.99999716e-01, -9.33975400e-07, -3.19720561e-06],\n",
       "        [ 1.46941561e-03,  6.41245104e-04, -7.03086844e-05, ...,\n",
       "         -9.33975400e-07,  9.99996933e-01, -1.04989876e-05],\n",
       "        [ 5.03013609e-03,  2.19512451e-03, -2.40682275e-04, ...,\n",
       "         -3.19720561e-06, -1.04989876e-05,  9.99964060e-01]])}"
      ]
     },
     "execution_count": 100,
     "metadata": {},
     "output_type": "execute_result"
    }
   ],
   "source": [
    "output"
   ]
  },
  {
   "cell_type": "code",
   "execution_count": 157,
   "metadata": {},
   "outputs": [
    {
     "name": "stdout",
     "output_type": "stream",
     "text": [
      "{'physician': 0.5079195857447456, 'dentist': 0.49208041425525434}\n",
      "{'physician': 0.36826073713067314, 'dentist': 0.6317392628693268}\n",
      "{'physician': 0.6475784343588181, 'dentist': 0.3524215656411818}\n",
      "main task accuracy 0.7392628693268352\n",
      "gender score 0.5204081632653061\n",
      "gender score 0.5204081632653061\n",
      "gender score 0.5204081632653061\n"
     ]
    }
   ],
   "source": [
    "for (prof1, prof2) in [(\"dentist\", \"physician\")]: #[(\"dentist\", \"physician\"), (\"psychologist\", \"professor\"),  (\"nurse\", \"physician\"), (\"professor\", \"attorney\"), (\"journalist\", \"attorney\"), (\"physician\", \"professor\"), (\"nurse\", \"attorney\"), (\"dentist\", \"journalist\")]:\n",
    "    for frac in [0.1]:\n",
    "        with open(\"projs-balanced-binary-pca=128/{}-{}-prop={}.pickle\".format(prof1, prof2, frac), \"rb\") as f:\n",
    "            data = pickle.load(f)\n",
    "            x_train_binary, train_profs_binary, train_gender_binary = data[\"train\"][\"x\"], data[\"train\"][\"profs\"], data[\"train\"][\"gender\"]\n",
    "            x_dev_binary, dev_profs_binary, dev_gender_binary = data[\"dev\"][\"x\"], data[\"dev\"][\"profs\"], data[\"dev\"][\"gender\"]\n",
    "            output = data[\"output\"]\n",
    "            P = output[\"P\"]\n",
    "            x_train_projected = x_train_binary@P\n",
    "            \n",
    "            clf =  LogisticRegression(max_iter=50000,penalty=\"l2\",solver=\"saga\",C=10.0, tol=1e-5) #init_classifier()\n",
    "            clf.fit(x_train_projected, train_profs_binary)\n",
    "            get_probs(clf, x_train_projected, train_gender_binary)\n",
    "            print(\"main task accuracy\", clf.score(x_train_projected, train_profs_binary))\n",
    "            \n",
    "            \n",
    "            for i in range(3):\n",
    "                gender_clf = LogisticRegression(max_iter=50000,penalty=\"l2\",solver=\"saga\",C=10.0, tol=1e-5) #SGDClassifier(loss=\"log\",max_iter=500000, n_iter_no_change=10, tol=1e-6) #init_classifier()\n",
    "                gender_clf.fit(x_train_projected, train_gender_binary)\n",
    "                print(\"gender score\", gender_clf.score(x_train_projected, train_gender_binary))"
   ]
  },
  {
   "cell_type": "code",
   "execution_count": 202,
   "metadata": {},
   "outputs": [],
   "source": [
    "def my_gender_classifier(x, clf):\n",
    "    y_hat = clf.predict([x])[0]\n",
    "    if y_hat == \"dentist\":\n",
    "        return 0\n",
    "    else:\n",
    "        return 1"
   ]
  },
  {
   "cell_type": "code",
   "execution_count": 204,
   "metadata": {},
   "outputs": [
    {
     "data": {
      "text/plain": [
       "0.6396588486140725"
      ]
     },
     "execution_count": 204,
     "metadata": {},
     "output_type": "execute_result"
    }
   ],
   "source": [
    "preds_gender = np.array([my_gender_classifier(x, clf) for x in x_train_projected])\n",
    "(preds_gender==train_gender_binary).mean()"
   ]
  },
  {
   "cell_type": "code",
   "execution_count": 213,
   "metadata": {},
   "outputs": [],
   "source": [
    "predictor = torch.nn.Linear(128, 1)\n",
    "bce_loss_fn = torch.nn.BCEWithLogitsLoss()\n",
    "X_torch = torch.tensor(x_train_projected).float()\n",
    "y_torch = torch.tensor(train_gender_binary).float()\n",
    "optimizer = torch.optim.SGD(predictor.parameters(), lr=1e-4, momentum=0.9)\n",
    "batch_size = 16\n",
    "\n",
    "for i in range(25000):\n",
    "    optimizer.zero_grad()\n",
    "    idx = np.arange(0, X_torch.shape[0])\n",
    "    np.random.shuffle(idx)\n",
    "    X_batch, y_batch = X_torch[idx[:batch_size]], y_torch[idx[:batch_size]]\n",
    "    bce = bce_loss_fn(predictor(X_batch).squeeze(), y_batch)\n",
    "    bce.backward()\n",
    "    optimizer.step()"
   ]
  },
  {
   "cell_type": "code",
   "execution_count": 214,
   "metadata": {},
   "outputs": [
    {
     "name": "stdout",
     "output_type": "stream",
     "text": [
      "0.4968017057569296\n"
     ]
    }
   ],
   "source": [
    "preds = []\n",
    "with torch.no_grad():\n",
    "    preds = predictor(X_torch).squeeze()\n",
    "preds = preds.detach().cpu().numpy()\n",
    "preds = np.array([1 if p > 0 else 0 for p in preds])\n",
    "acc = (preds==train_gender_binary).mean()\n",
    "print(acc)"
   ]
  },
  {
   "cell_type": "code",
   "execution_count": 177,
   "metadata": {},
   "outputs": [
    {
     "data": {
      "text/plain": [
       "0.2787084983285318"
      ]
     },
     "execution_count": 177,
     "metadata": {},
     "output_type": "execute_result"
    }
   ],
   "source": [
    "0.6085897045385318-0.32988120621"
   ]
  },
  {
   "cell_type": "code",
   "execution_count": 178,
   "metadata": {},
   "outputs": [
    {
     "data": {
      "text/plain": [
       "array([0, 1, 1, ..., 0, 0, 0])"
      ]
     },
     "execution_count": 178,
     "metadata": {},
     "output_type": "execute_result"
    }
   ],
   "source": [
    "preds"
   ]
  },
  {
   "cell_type": "code",
   "execution_count": 179,
   "metadata": {},
   "outputs": [
    {
     "data": {
      "text/plain": [
       "array([0, 1, 1, ..., 0, 0, 0])"
      ]
     },
     "execution_count": 179,
     "metadata": {},
     "output_type": "execute_result"
    }
   ],
   "source": [
    "train_gender_binary"
   ]
  },
  {
   "cell_type": "code",
   "execution_count": 180,
   "metadata": {},
   "outputs": [
    {
     "data": {
      "text/plain": [
       "((6566,), (6566,))"
      ]
     },
     "execution_count": 180,
     "metadata": {},
     "output_type": "execute_result"
    }
   ],
   "source": [
    "train_gender_binary.shape, preds.shape"
   ]
  },
  {
   "cell_type": "code",
   "execution_count": null,
   "metadata": {},
   "outputs": [],
   "source": []
  }
 ],
 "metadata": {
  "kernelspec": {
   "display_name": "Python 3",
   "language": "python",
   "name": "python3"
  },
  "language_info": {
   "codemirror_mode": {
    "name": "ipython",
    "version": 3
   },
   "file_extension": ".py",
   "mimetype": "text/x-python",
   "name": "python",
   "nbconvert_exporter": "python",
   "pygments_lexer": "ipython3",
   "version": "3.7.6"
  }
 },
 "nbformat": 4,
 "nbformat_minor": 4
}
