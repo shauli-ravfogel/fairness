{
 "cells": [
  {
   "cell_type": "code",
   "execution_count": 6,
   "metadata": {},
   "outputs": [
    {
     "name": "stdout",
     "output_type": "stream",
     "text": [
      "The autoreload extension is already loaded. To reload it, use:\n",
      "  %reload_ext autoreload\n"
     ]
    }
   ],
   "source": [
    "%load_ext autoreload\n",
    "%autoreload 2\n",
    "\n",
    "\n",
    "import sys\n",
    "import os\n",
    "\n",
    "from sklearn.linear_model import SGDClassifier, LinearRegression, Lasso, Ridge\n",
    "from sklearn.utils import shuffle\n",
    "from sklearn.decomposition import PCA\n",
    "import seaborn as sn\n",
    "import random\n",
    "from sklearn.metrics.pairwise import cosine_similarity\n",
    "from collections import defaultdict\n",
    "from sklearn.manifold import TSNE\n",
    "import tqdm\n",
    "import copy\n",
    "from sklearn.svm import LinearSVC \n",
    "\n",
    "from sklearn.cross_decomposition import PLSRegression\n",
    "from sklearn.decomposition import TruncatedSVD\n",
    "import torch\n",
    "from sklearn.linear_model import SGDClassifier\n",
    "from rlace import solve_adv_game\n",
    "\n",
    "from sklearn.svm import LinearSVC\n",
    "\n",
    "import sklearn\n",
    "from sklearn.linear_model import LogisticRegression\n",
    "import random\n",
    "import pickle\n",
    "import matplotlib.pyplot as plt\n",
    "from sklearn import cluster\n",
    "from sklearn import neural_network\n",
    "from gensim.models.keyedvectors import Word2VecKeyedVectors\n",
    "from gensim.models import KeyedVectors\n",
    "import numpy as np\n",
    "import warnings\n",
    "import argparse\n",
    "from sklearn.neural_network import MLPClassifier\n",
    "from collections import defaultdict\n",
    "import scipy\n",
    "from scipy import stats\n",
    "from scipy.stats import pearsonr\n",
    "import pandas as pd\n",
    "from rlace import init_classifier\n",
    "from collections import Counter"
   ]
  },
  {
   "cell_type": "code",
   "execution_count": 7,
   "metadata": {},
   "outputs": [],
   "source": [
    "bios_data_path = \"../WWW/rlace/bios/data/bios_data\"\n",
    "bios_encodings_path = \"../WWW/rlace/bios/data/encodings/freezed\"\n",
    "\n",
    "data = []\n",
    "for mode in [\"train\", \"dev\", \"test\"]:\n",
    "    with open(bios_data_path + \"/\" + \"{}.pickle\".format(mode), \"rb\") as f:\n",
    "        data.append(pickle.load(f))\n",
    "        \n",
    "train,dev,test = data\n",
    "gender2ind = {\"m\": 0, \"f\": 1}\n",
    "train_profs, dev_profs = np.array([d[\"p\"] for d in train]), np.array([d[\"p\"] for d in dev])\n",
    "train_gender, dev_gender = np.array([gender2ind[d[\"g\"]] for d in train]), np.array([gender2ind[d[\"g\"]] for d in dev])\n",
    "\n",
    "\n",
    "data = []\n",
    "for mode in [\"train\", \"dev\", \"test\"]:\n",
    "    with open(bios_encodings_path + \"/\" + \"{}_cls.npy\".format(mode), \"rb\") as f:\n",
    "        data.append(np.load(f))\n",
    "        \n",
    "train_x, dev_x, test_x = data\n",
    "pca = PCA(n_components=100, random_state=0)\n",
    "pca.fit(train_x)\n",
    "train_x = pca.transform(train_x)\n",
    "dev_x = pca.transform(dev_x)\n",
    "test_x = pca.transform(test_x)"
   ]
  },
  {
   "cell_type": "markdown",
   "metadata": {},
   "source": [
    "## binary Y,Z, strongly balanced setting."
   ]
  },
  {
   "cell_type": "code",
   "execution_count": 8,
   "metadata": {},
   "outputs": [],
   "source": [
    "def get_TPR(y_pred, y_true, p2i, i2p, gender):\n",
    "    from collections import Counter\n",
    "    \n",
    "    scores = defaultdict(Counter)\n",
    "    prof_count_total = defaultdict(Counter)\n",
    "    i2g = {1: \"f\", 0: \"m\"}\n",
    "    \n",
    "    for y_hat, y, g in zip(y_pred, y_true, gender):\n",
    "        if g == \"m\":\n",
    "            g = 0\n",
    "        if g == \"f\":\n",
    "            g = 1\n",
    "            \n",
    "        if y == y_hat:\n",
    "            \n",
    "            scores[i2p[y]][i2g[g]] += 1\n",
    "        \n",
    "        prof_count_total[i2p[y]][i2g[g]] += 1\n",
    "    \n",
    "    tprs = defaultdict(dict)\n",
    "    tprs_change = dict()\n",
    "    tprs_ratio = []\n",
    "    \n",
    "    for profession, scores_dict in scores.items():\n",
    "        \n",
    "        good_m, good_f = scores_dict[\"m\"], scores_dict[\"f\"]\n",
    "        prof_total_f = prof_count_total[profession][\"f\"]\n",
    "        prof_total_m = prof_count_total[profession][\"m\"]\n",
    "        \n",
    "        tpr_m = (good_m) / prof_total_m\n",
    "        tpr_f = (good_f) / prof_total_f\n",
    "        \n",
    "        tprs[profession][\"m\"] = tpr_m\n",
    "        tprs[profession][\"f\"] = tpr_f\n",
    "        tprs_ratio.append(0)\n",
    "        tprs_change[profession] = tpr_f - tpr_m\n",
    "        \n",
    "    return tprs, tprs_change, np.mean(np.abs(tprs_ratio))\n",
    "\n",
    "def rms_diff(tpr_diff):\n",
    "    \n",
    "    return np.sqrt((1/len(tpr_diff)) * np.sum(tpr_diff**2))\n",
    "\n",
    "def count_profs_and_gender(data):\n",
    "    \n",
    "    counter = defaultdict(Counter)\n",
    "    for entry in data:\n",
    "        gender, prof = entry[\"g\"], entry[\"p\"]\n",
    "        counter[prof][gender] += 1\n",
    "        \n",
    "    return counter\n",
    "\n",
    "def similarity_vs_tpr(tprs, word2vec, title, measure, prof2fem, plot=False):\n",
    "    \n",
    "    professions = list(tprs.keys())\n",
    "    #\n",
    "    \"\"\" \n",
    "    sims = dict()\n",
    "    gender_direction = word2vec[\"he\"] - word2vec[\"she\"]\n",
    "    \n",
    "    for p in professions:\n",
    "        sim = word2vec.cosine_similarities(word2vec[p], [gender_direction])[0]\n",
    "        sims[p] = sim\n",
    "    \"\"\"\n",
    "    tpr_lst = [tprs[p] for p in professions]\n",
    "    sim_lst = [prof2fem[p] for p in professions]\n",
    "\n",
    "    #professions = [p.replace(\"_\", \" \") for p in professions if p in word2vec]\n",
    "    \n",
    "    plt.plot(sim_lst, tpr_lst, marker = \"o\", linestyle = \"none\")\n",
    "    plt.xlabel(\"% women\", fontsize = 25)\n",
    "    #plt.ylabel(r'$GAP_{female,y}^{TPR}$', fontsize = 20)\n",
    "    plt.ylabel('TPR-Gap', fontsize = 25)\n",
    "    for p in professions:\n",
    "        x,y = prof2fem[p], tprs[p]\n",
    "        plt.annotate(p , (x,y), size = 7, color = \"red\")\n",
    "    plt.ylim(-0.4, 0.55)\n",
    "    plt.xticks(fontsize=20)\n",
    "    plt.yticks(fontsize=20)\n",
    "\n",
    "    plt.subplots_adjust(bottom=0.21)\n",
    "    plt.subplots_adjust(left=0.21)\n",
    "    z = np.polyfit(sim_lst, tpr_lst, 1)\n",
    "    p = np.poly1d(z)\n",
    "    plt.plot(sim_lst,p(sim_lst),\"r--\")\n",
    "    \n",
    "    if plot:\n",
    "        plt.savefig(\"analysis-results/{}_vs_bias_{}_bert.pdf\".format(measure, title), dpi = 1000)\n",
    "        print(\"Correlation: {}; p-value: {}\".format(*pearsonr(sim_lst, tpr_lst)))\n",
    "        plt.show()\n",
    "        \n",
    "    return pearsonr(sim_lst, tpr_lst)\n",
    "\n",
    "\n",
    "def eval_tpr_rms(clf, X, y_gender,profs):\n",
    "\n",
    "    prof2fem = {}\n",
    "    \n",
    "    i2p = {w:w for w in set(profs.tolist())}\n",
    "    p2i = i2p\n",
    "\n",
    "    y_pred_after = clf.predict(X)\n",
    "    tprs, tprs_change, mean_ratio_after = get_TPR(y_pred_after, profs, p2i, i2p, y_gender)\n",
    "    #similarity_vs_tpr(tprs_change_after, None, \"after\", \"TPR\", prof2fem) \n",
    "    \n",
    "    change_vals = np.array(list((tprs_change.values())))\n",
    "    return rms_diff(change_vals)\n",
    "\n"
   ]
  },
  {
   "cell_type": "code",
   "execution_count": null,
   "metadata": {
    "scrolled": true
   },
   "outputs": [],
   "source": [
    "import glob\n",
    "\n",
    "for filename in os.listdir(\"projs2/\"):\n",
    "    if filename.endswith(\".pickle\"):\n",
    "        \n",
    "        if \"0.3\" not in filename: continue\n",
    "            \n",
    "        with open(\"projs2/{}\".format(filename), \"rb\") as f:\n",
    "            data = pickle.load(f)\n",
    "            x_train_binary, train_profs_binary, train_gender_binary = data[\"train\"][\"x\"], data[\"train\"][\"profs\"], data[\"train\"][\"gender\"]\n",
    "            x_dev_binary, dev_profs_binary, dev_gender_binary = data[\"dev\"][\"x\"], data[\"dev\"][\"profs\"], data[\"dev\"][\"gender\"]\n",
    "            output = data[\"output\"]\n",
    "            \n",
    "            \n",
    "            clf = SGDClassifier() #init_classifier()\n",
    "            clf.fit(x_train_binary, train_profs_binary)\n",
    "            score = clf.score(x_dev_binary, dev_profs_binary)\n",
    "            print(\"score before\", score)\n",
    "            tpr_before =  eval_tpr_rms(np.eye(100), clf,  x_train_binary, train_gender_binary, train_profs_binary)\n",
    "\n",
    "            clf = init_classifier()\n",
    "            clf.fit(x_train_binary@output[\"P\"], train_profs_binary)\n",
    "            score = clf.score(x_dev_binary@output[\"P\"], dev_profs_binary)\n",
    "            print(\"score after\", score)\n",
    "            tpr_after =  eval_tpr_rms(output[\"P\"], clf,  x_train_binary, train_gender_binary, train_profs_binary)\n",
    "            print(filename, tpr_before*100, tpr_after*100)\n",
    "            \n",
    "            \n",
    "            clf = init_classifier()\n",
    "            clf.fit(x_train_binary@output[\"P\"], train_gender_binary)\n",
    "            score_gender = clf.score(x_dev_binary@output[\"P\"], dev_gender_binary)\n",
    "            print(\"score_gender\", score_gender)\n",
    "            print(\"================\")"
   ]
  },
  {
   "cell_type": "code",
   "execution_count": null,
   "metadata": {},
   "outputs": [],
   "source": [
    "filename"
   ]
  },
  {
   "cell_type": "code",
   "execution_count": null,
   "metadata": {},
   "outputs": [],
   "source": [
    "x_train_nurse = x_train_binary[train_profs_binary==\"psychologist\"]\n",
    "y_gender = train_gender_binary[train_profs_binary==\"psychologist\"]\n",
    "\n",
    "clf = init_classifier()\n",
    "clf.fit(x_train_nurse@output[\"P\"], y_gender)\n",
    "clf.score(x_train_nurse@output[\"P\"], y_gender)"
   ]
  },
  {
   "cell_type": "code",
   "execution_count": 4,
   "metadata": {},
   "outputs": [],
   "source": [
    "np.random.seed(0)\n",
    "random.seed(0)\n",
    "\n",
    "num_iters = 60000\n",
    "rank=1\n",
    "optimizer_class = torch.optim.SGD\n",
    "optimizer_params_P = {\"lr\": 0.0015, \"weight_decay\": 1e-5, \"momentum\":0.5}\n",
    "optimizer_params_predictor = {\"lr\": 0.0015,\"weight_decay\": 1e-5, \"momentum\": 0.5}\n",
    "epsilon = 0.0003 # stop 0.1% from majority acc\n",
    "batch_size = 256\n",
    "\n",
    "random.seed(0)\n",
    "np.random.seed(0)"
   ]
  },
  {
   "cell_type": "markdown",
   "metadata": {},
   "source": [
    "## train projs per profession"
   ]
  },
  {
   "cell_type": "code",
   "execution_count": 424,
   "metadata": {},
   "outputs": [
    {
     "name": "stdout",
     "output_type": "stream",
     "text": [
      "physician\n"
     ]
    },
    {
     "name": "stderr",
     "output_type": "stream",
     "text": [
      "6000/60000. Acc post-projection: 56.991%; best so-far: 56.991%; Maj: 56.987%; Gap: 0.004%; best loss so far: 0.683:  10%|#         | 6000/60000 [04:02<36:19, 24.78it/s]    \n"
     ]
    }
   ],
   "source": [
    "#os.mkdir(\"projs-per-prof\")\n",
    "professions = [\"physician\"]\n",
    "\n",
    "np.random.seed(0)\n",
    "random.seed(0)\n",
    "\n",
    "num_iters = 60000\n",
    "rank=1\n",
    "optimizer_class = torch.optim.SGD\n",
    "optimizer_params_P = {\"lr\": 0.0015, \"weight_decay\": 1e-5, \"momentum\":0.5}\n",
    "optimizer_params_predictor = {\"lr\": 0.0015,\"weight_decay\": 1e-5, \"momentum\": 0.5}\n",
    "epsilon = 0.00075 # stop 0.1% from majority acc\n",
    "batch_size = 256\n",
    "\n",
    "random.seed(0)\n",
    "np.random.seed(0)\n",
    "\n",
    "\n",
    "for prof in professions:\n",
    "        print(prof)\n",
    "        \n",
    "        x_train_prof = train_x[train_profs==prof]\n",
    "        y_train_prof = train_gender[train_profs==prof]\n",
    "        x_train_prof = x_train_prof[:40000]\n",
    "        y_train_prof = y_train_prof[:40000]\n",
    "        \n",
    "        x_dev_prof = dev_x[dev_profs==prof]\n",
    "        y_dev_prof = dev_gender[dev_profs==prof]\n",
    "            \n",
    "        output = solve_adv_game(x_train_prof, y_train_prof, x_dev_prof, y_dev_prof, rank=rank, device=\"cuda:1\", out_iters=num_iters, optimizer_class=optimizer_class, optimizer_params_P =optimizer_params_P, optimizer_params_predictor=optimizer_params_predictor, epsilon=epsilon,batch_size=batch_size)\n",
    "        with open(\"projs-per-prof/{}.pickle\".format(prof), \"wb\") as f:\n",
    "            pickle.dump({\"train\": {\"x\": x_train_prof, \"gender\": y_train_prof}, \n",
    "                     \"dev\": {\"x\": x_dev_prof, \"gender\": y_dev_prof}, \"output\": output}, f)"
   ]
  },
  {
   "cell_type": "code",
   "execution_count": 94,
   "metadata": {},
   "outputs": [],
   "source": [
    "num_iters = 70000\n",
    "rank=1\n",
    "optimizer_class = torch.optim.SGD\n",
    "optimizer_params_P = {\"lr\": 0.0015, \"weight_decay\": 1e-5, \"momentum\":0.5}\n",
    "optimizer_params_predictor = {\"lr\": 0.0015,\"weight_decay\": 1e-5, \"momentum\": 0.5}\n",
    "epsilon = 0.001 # stop 0.1% from majority acc\n",
    "batch_size = 256"
   ]
  },
  {
   "cell_type": "code",
   "execution_count": 520,
   "metadata": {},
   "outputs": [],
   "source": [
    "prof1 = \"nurse\"\n",
    "prof2 = \"physician\"\n",
    "\n",
    "with open(\"projs2/{}-{}-prop=0.3.pickle\".format(prof1, prof2), \"rb\") as f:\n",
    "    data  = pickle.load(f)"
   ]
  },
  {
   "cell_type": "markdown",
   "metadata": {},
   "source": [
    "## Per-label projection"
   ]
  },
  {
   "cell_type": "code",
   "execution_count": 37,
   "metadata": {},
   "outputs": [
    {
     "name": "stderr",
     "output_type": "stream",
     "text": [
      "1000/60000. Acc post-projection: 98.005%; best so-far: 98.005%; Maj: 70.078%; Gap: 27.927%; best loss so far: 0.064:   2%|1         | 1104/60000 [00:07<06:25, 152.78it/s]\n"
     ]
    },
    {
     "ename": "KeyboardInterrupt",
     "evalue": "",
     "output_type": "error",
     "traceback": [
      "\u001b[0;31m---------------------------------------------------------------------------\u001b[0m",
      "\u001b[0;31mKeyboardInterrupt\u001b[0m                         Traceback (most recent call last)",
      "\u001b[0;32m<ipython-input-37-f9f45dd70d07>\u001b[0m in \u001b[0;36m<module>\u001b[0;34m\u001b[0m\n\u001b[1;32m     23\u001b[0m \u001b[0my_train_prof\u001b[0m \u001b[0;34m=\u001b[0m \u001b[0mtrain_gender_binary\u001b[0m\u001b[0;34m[\u001b[0m\u001b[0mtrain_profs_binary\u001b[0m\u001b[0;34m==\u001b[0m\u001b[0mprof1\u001b[0m\u001b[0;34m]\u001b[0m\u001b[0;34m\u001b[0m\u001b[0;34m\u001b[0m\u001b[0m\n\u001b[1;32m     24\u001b[0m \u001b[0;34m\u001b[0m\u001b[0m\n\u001b[0;32m---> 25\u001b[0;31m \u001b[0moutput\u001b[0m \u001b[0;34m=\u001b[0m \u001b[0msolve_adv_game\u001b[0m\u001b[0;34m(\u001b[0m\u001b[0mx_train_prof\u001b[0m\u001b[0;34m,\u001b[0m \u001b[0my_train_prof\u001b[0m\u001b[0;34m,\u001b[0m \u001b[0mx_train_prof\u001b[0m\u001b[0;34m,\u001b[0m \u001b[0my_train_prof\u001b[0m\u001b[0;34m,\u001b[0m \u001b[0mrank\u001b[0m\u001b[0;34m=\u001b[0m\u001b[0mrank\u001b[0m\u001b[0;34m,\u001b[0m \u001b[0mdevice\u001b[0m\u001b[0;34m=\u001b[0m\u001b[0;34m\"cuda:1\"\u001b[0m\u001b[0;34m,\u001b[0m \u001b[0mout_iters\u001b[0m\u001b[0;34m=\u001b[0m\u001b[0mnum_iters\u001b[0m\u001b[0;34m,\u001b[0m \u001b[0moptimizer_class\u001b[0m\u001b[0;34m=\u001b[0m\u001b[0moptimizer_class\u001b[0m\u001b[0;34m,\u001b[0m \u001b[0moptimizer_params_P\u001b[0m \u001b[0;34m=\u001b[0m\u001b[0moptimizer_params_P\u001b[0m\u001b[0;34m,\u001b[0m \u001b[0moptimizer_params_predictor\u001b[0m\u001b[0;34m=\u001b[0m\u001b[0moptimizer_params_predictor\u001b[0m\u001b[0;34m,\u001b[0m \u001b[0mepsilon\u001b[0m\u001b[0;34m=\u001b[0m\u001b[0mepsilon\u001b[0m\u001b[0;34m,\u001b[0m\u001b[0mbatch_size\u001b[0m\u001b[0;34m=\u001b[0m\u001b[0mbatch_size\u001b[0m\u001b[0;34m)\u001b[0m\u001b[0;34m\u001b[0m\u001b[0;34m\u001b[0m\u001b[0m\n\u001b[0m\u001b[1;32m     26\u001b[0m \u001b[0mP_prof1\u001b[0m \u001b[0;34m=\u001b[0m \u001b[0moutput\u001b[0m\u001b[0;34m[\u001b[0m\u001b[0;34m\"P\"\u001b[0m\u001b[0;34m]\u001b[0m\u001b[0;34m\u001b[0m\u001b[0;34m\u001b[0m\u001b[0m\n\u001b[1;32m     27\u001b[0m \u001b[0;34m\u001b[0m\u001b[0m\n",
      "\u001b[0;32m~/bias/rlace.py\u001b[0m in \u001b[0;36msolve_adv_game\u001b[0;34m(X_train, y_train, X_dev, y_dev, rank, device, out_iters, in_iters_adv, in_iters_clf, epsilon, batch_size, evalaute_every, optimizer_class, optimizer_params_P, optimizer_params_predictor)\u001b[0m\n\u001b[1;32m    155\u001b[0m \u001b[0;34m\u001b[0m\u001b[0m\n\u001b[1;32m    156\u001b[0m             \u001b[0mloss_P\u001b[0m \u001b[0;34m=\u001b[0m \u001b[0mget_loss_fn\u001b[0m\u001b[0;34m(\u001b[0m\u001b[0mX_batch\u001b[0m\u001b[0;34m,\u001b[0m \u001b[0my_batch\u001b[0m\u001b[0;34m,\u001b[0m \u001b[0mpredictor\u001b[0m\u001b[0;34m,\u001b[0m \u001b[0msymmetric\u001b[0m\u001b[0;34m(\u001b[0m\u001b[0mP\u001b[0m\u001b[0;34m)\u001b[0m\u001b[0;34m,\u001b[0m \u001b[0mbce_loss_fn\u001b[0m\u001b[0;34m,\u001b[0m \u001b[0moptimize_P\u001b[0m\u001b[0;34m=\u001b[0m\u001b[0;32mTrue\u001b[0m\u001b[0;34m)\u001b[0m\u001b[0;34m\u001b[0m\u001b[0;34m\u001b[0m\u001b[0m\n\u001b[0;32m--> 157\u001b[0;31m             \u001b[0mloss_P\u001b[0m\u001b[0;34m.\u001b[0m\u001b[0mbackward\u001b[0m\u001b[0;34m(\u001b[0m\u001b[0;34m)\u001b[0m\u001b[0;34m\u001b[0m\u001b[0;34m\u001b[0m\u001b[0m\n\u001b[0m\u001b[1;32m    158\u001b[0m             \u001b[0moptimizer_P\u001b[0m\u001b[0;34m.\u001b[0m\u001b[0mstep\u001b[0m\u001b[0;34m(\u001b[0m\u001b[0;34m)\u001b[0m\u001b[0;34m\u001b[0m\u001b[0;34m\u001b[0m\u001b[0m\n\u001b[1;32m    159\u001b[0m \u001b[0;34m\u001b[0m\u001b[0m\n",
      "\u001b[0;32m~/anaconda3/envs/py3/lib/python3.7/site-packages/torch/_tensor.py\u001b[0m in \u001b[0;36mbackward\u001b[0;34m(self, gradient, retain_graph, create_graph, inputs)\u001b[0m\n\u001b[1;32m    253\u001b[0m                 \u001b[0mcreate_graph\u001b[0m\u001b[0;34m=\u001b[0m\u001b[0mcreate_graph\u001b[0m\u001b[0;34m,\u001b[0m\u001b[0;34m\u001b[0m\u001b[0;34m\u001b[0m\u001b[0m\n\u001b[1;32m    254\u001b[0m                 inputs=inputs)\n\u001b[0;32m--> 255\u001b[0;31m         \u001b[0mtorch\u001b[0m\u001b[0;34m.\u001b[0m\u001b[0mautograd\u001b[0m\u001b[0;34m.\u001b[0m\u001b[0mbackward\u001b[0m\u001b[0;34m(\u001b[0m\u001b[0mself\u001b[0m\u001b[0;34m,\u001b[0m \u001b[0mgradient\u001b[0m\u001b[0;34m,\u001b[0m \u001b[0mretain_graph\u001b[0m\u001b[0;34m,\u001b[0m \u001b[0mcreate_graph\u001b[0m\u001b[0;34m,\u001b[0m \u001b[0minputs\u001b[0m\u001b[0;34m=\u001b[0m\u001b[0minputs\u001b[0m\u001b[0;34m)\u001b[0m\u001b[0;34m\u001b[0m\u001b[0;34m\u001b[0m\u001b[0m\n\u001b[0m\u001b[1;32m    256\u001b[0m \u001b[0;34m\u001b[0m\u001b[0m\n\u001b[1;32m    257\u001b[0m     \u001b[0;32mdef\u001b[0m \u001b[0mregister_hook\u001b[0m\u001b[0;34m(\u001b[0m\u001b[0mself\u001b[0m\u001b[0;34m,\u001b[0m \u001b[0mhook\u001b[0m\u001b[0;34m)\u001b[0m\u001b[0;34m:\u001b[0m\u001b[0;34m\u001b[0m\u001b[0;34m\u001b[0m\u001b[0m\n",
      "\u001b[0;32m~/anaconda3/envs/py3/lib/python3.7/site-packages/torch/autograd/__init__.py\u001b[0m in \u001b[0;36mbackward\u001b[0;34m(tensors, grad_tensors, retain_graph, create_graph, grad_variables, inputs)\u001b[0m\n\u001b[1;32m    147\u001b[0m     Variable._execution_engine.run_backward(\n\u001b[1;32m    148\u001b[0m         \u001b[0mtensors\u001b[0m\u001b[0;34m,\u001b[0m \u001b[0mgrad_tensors_\u001b[0m\u001b[0;34m,\u001b[0m \u001b[0mretain_graph\u001b[0m\u001b[0;34m,\u001b[0m \u001b[0mcreate_graph\u001b[0m\u001b[0;34m,\u001b[0m \u001b[0minputs\u001b[0m\u001b[0;34m,\u001b[0m\u001b[0;34m\u001b[0m\u001b[0;34m\u001b[0m\u001b[0m\n\u001b[0;32m--> 149\u001b[0;31m         allow_unreachable=True, accumulate_grad=True)  # allow_unreachable flag\n\u001b[0m\u001b[1;32m    150\u001b[0m \u001b[0;34m\u001b[0m\u001b[0m\n\u001b[1;32m    151\u001b[0m \u001b[0;34m\u001b[0m\u001b[0m\n",
      "\u001b[0;31mKeyboardInterrupt\u001b[0m: "
     ]
    }
   ],
   "source": [
    "prof1 = \"nurse\"\n",
    "prof2 = \"physician\"\n",
    "\n",
    "with open(\"projs2/{}-{}-prop=0.3.pickle\".format(prof1, prof2), \"rb\") as f:\n",
    "            data = pickle.load(f)\n",
    "            x_train_binary, train_profs_binary, train_gender_binary = data[\"train\"][\"x\"], data[\"train\"][\"profs\"], data[\"train\"][\"gender\"]\n",
    "            x_dev_binary, dev_profs_binary, dev_gender_binary = data[\"dev\"][\"x\"], data[\"dev\"][\"profs\"], data[\"dev\"][\"gender\"]\n",
    "            output = data[\"output\"]\n",
    "            \n",
    "            x_train_binary_projected = x_train_binary.copy()\n",
    "            \n",
    "            \n",
    "with open(\"projs-per-prof/{}.pickle\".format(prof1), \"rb\") as f:\n",
    "    out = pickle.load(f)\n",
    "    P_prof1 = out[\"output\"][\"P\"]\n",
    "    \n",
    "with open(\"projs-per-prof/{}.pickle\".format(prof2), \"rb\") as f:\n",
    "    out = pickle.load(f)\n",
    "    P_prof2 = out[\"output\"][\"P\"]\n",
    "    \n",
    "\n",
    "x_train_prof = x_train_binary[train_profs_binary==prof1]\n",
    "y_train_prof = train_gender_binary[train_profs_binary==prof1]\n",
    "\n",
    "output = solve_adv_game(x_train_prof, y_train_prof, x_train_prof, y_train_prof, rank=rank, device=\"cuda:1\", out_iters=num_iters, optimizer_class=optimizer_class, optimizer_params_P =optimizer_params_P, optimizer_params_predictor=optimizer_params_predictor, epsilon=epsilon,batch_size=batch_size)\n",
    "P_prof1 = output[\"P\"]\n",
    "\n",
    "x_train_prof = x_train_binary[train_profs_binary==prof2]\n",
    "y_train_prof = train_gender_binary[train_profs_binary==prof2]\n",
    "\n",
    "output = solve_adv_game(x_train_prof, y_train_prof, x_train_prof, y_train_prof, rank=rank, device=\"cuda:1\", out_iters=num_iters, optimizer_class=optimizer_class, optimizer_params_P =optimizer_params_P, optimizer_params_predictor=optimizer_params_predictor, epsilon=epsilon,batch_size=batch_size)\n",
    "P_prof2 = output[\"P\"]\n"
   ]
  },
  {
   "cell_type": "code",
   "execution_count": 426,
   "metadata": {},
   "outputs": [
    {
     "data": {
      "text/plain": [
       "1"
      ]
     },
     "execution_count": 426,
     "metadata": {},
     "output_type": "execute_result"
    }
   ],
   "source": [
    "round(1-0.2)"
   ]
  },
  {
   "cell_type": "code",
   "execution_count": 427,
   "metadata": {},
   "outputs": [],
   "source": [
    "x_train_binary_projected[train_profs_binary==prof1]= x_train_binary_projected[train_profs_binary==prof1] @ P_prof1\n",
    "x_train_binary_projected[train_profs_binary==prof2]= x_train_binary_projected[train_profs_binary==prof2] @ P_prof2\n"
   ]
  },
  {
   "cell_type": "code",
   "execution_count": 428,
   "metadata": {},
   "outputs": [],
   "source": [
    "# with open(\"projs2/{}-{}-prop=0.5.pickle\".format(prof1, prof2), \"rb\") as f:\n",
    "#             data = pickle.load(f)\n",
    "#             x_train_binary, train_profs_binary, train_gender_binary = data[\"train\"][\"x\"], data[\"train\"][\"profs\"], data[\"train\"][\"gender\"]\n",
    "#             x_dev_binary, dev_profs_binary, dev_gender_binary = data[\"dev\"][\"x\"], data[\"dev\"][\"profs\"], data[\"dev\"][\"gender\"]\n",
    "#             output = data[\"output\"]\n",
    "            \n",
    "#             x_train_binary_projected = x_train_binary.copy()\n",
    "#             x_train_binary_projected[train_profs_binary==prof1]= x_train_binary_projected[train_profs_binary==prof1] @ P_prof1\n",
    "#             x_train_binary_projected[train_profs_binary==prof2]= x_train_binary_projected[train_profs_binary==prof2] @ P_prof2"
   ]
  },
  {
   "cell_type": "code",
   "execution_count": 429,
   "metadata": {},
   "outputs": [
    {
     "data": {
      "text/plain": [
       "(0.7007805724197745, 0.2992194275802255)"
      ]
     },
     "execution_count": 429,
     "metadata": {},
     "output_type": "execute_result"
    }
   ],
   "source": [
    "clf = init_classifier()\n",
    "\n",
    "x = x_train_binary_projected[train_profs_binary==prof2]\n",
    "y = train_gender_binary[train_profs_binary==prof2]\n",
    "#x = x @ P_prof1\n",
    "clf.fit(x,y)\n",
    "clf.score(x,y), y.mean()"
   ]
  },
  {
   "cell_type": "code",
   "execution_count": 430,
   "metadata": {},
   "outputs": [
    {
     "data": {
      "text/plain": [
       "(0.7007805724197745, 0.7007805724197745)"
      ]
     },
     "execution_count": 430,
     "metadata": {},
     "output_type": "execute_result"
    }
   ],
   "source": [
    "clf = init_classifier()\n",
    "\n",
    "x = x_train_binary_projected[train_profs_binary==prof1]\n",
    "y = train_gender_binary[train_profs_binary==prof1]\n",
    "#x = x @ P_prof1\n",
    "clf.fit(x,y)\n",
    "clf.score(x,y), y.mean()"
   ]
  },
  {
   "cell_type": "code",
   "execution_count": 431,
   "metadata": {},
   "outputs": [
    {
     "data": {
      "text/plain": [
       "(0.6647875108412836, 0.5)"
      ]
     },
     "execution_count": 431,
     "metadata": {},
     "output_type": "execute_result"
    }
   ],
   "source": [
    "clf = init_classifier()\n",
    "x = x_train_binary_projected\n",
    "y = train_gender_binary\n",
    "clf.fit(x,y)\n",
    "clf.score(x,y), y.mean()"
   ]
  },
  {
   "cell_type": "code",
   "execution_count": 432,
   "metadata": {},
   "outputs": [
    {
     "name": "stdout",
     "output_type": "stream",
     "text": [
      "0.9058976582827407 0.09041197621540659\n"
     ]
    }
   ],
   "source": [
    "clf = init_classifier()\n",
    "clf.fit(x_train_binary, train_profs_binary)\n",
    "tpr_before=eval_tpr_rms(clf, x_train_binary, train_gender_binary, train_profs_binary)\n",
    "score=clf.score(x_train_binary_projected, train_profs_binary)\n",
    "print(score,tpr_before)"
   ]
  },
  {
   "cell_type": "code",
   "execution_count": 433,
   "metadata": {},
   "outputs": [
    {
     "name": "stdout",
     "output_type": "stream",
     "text": [
      "0.9167389418907199 0.024355734200686693\n"
     ]
    }
   ],
   "source": [
    "clf = init_classifier()\n",
    "clf.fit(x_train_binary_projected, train_profs_binary)\n",
    "tpr_after=eval_tpr_rms(clf, x_train_binary_projected, train_gender_binary, train_profs_binary)\n",
    "score=clf.score(x_train_binary_projected, train_profs_binary)\n",
    "print(score,tpr_after)"
   ]
  },
  {
   "cell_type": "code",
   "execution_count": 108,
   "metadata": {},
   "outputs": [],
   "source": [
    "def get_leakage(frac,P,X,y):\n",
    "    \n",
    "    vals = []\n",
    "    \n",
    "    for i in range(10):\n",
    "        clf = init_classifier()\n",
    "        clf.fit(X@P,y)\n",
    "        score = clf.score(X@P,y)\n",
    "        leakage =  np.abs(max(frac-score,1-frac-score))\n",
    "        vals.append(leakage)\n",
    "    \n",
    "    return np.max(vals)\n"
   ]
  },
  {
   "cell_type": "code",
   "execution_count": 147,
   "metadata": {},
   "outputs": [
    {
     "ename": "FileExistsError",
     "evalue": "[Errno 17] File exists: 'leakage-imbalanced'",
     "output_type": "error",
     "traceback": [
      "\u001b[0;31m---------------------------------------------------------------------------\u001b[0m",
      "\u001b[0;31mFileExistsError\u001b[0m                           Traceback (most recent call last)",
      "\u001b[0;32m<ipython-input-147-952c968a882f>\u001b[0m in \u001b[0;36m<module>\u001b[0;34m\u001b[0m\n\u001b[0;32m----> 1\u001b[0;31m \u001b[0mos\u001b[0m\u001b[0;34m.\u001b[0m\u001b[0mmkdir\u001b[0m\u001b[0;34m(\u001b[0m\u001b[0;34m\"leakage-imbalanced\"\u001b[0m\u001b[0;34m)\u001b[0m\u001b[0;34m\u001b[0m\u001b[0;34m\u001b[0m\u001b[0m\n\u001b[0m\u001b[1;32m      2\u001b[0m \u001b[0mos\u001b[0m\u001b[0;34m.\u001b[0m\u001b[0mmkdir\u001b[0m\u001b[0;34m(\u001b[0m\u001b[0;34m\"tpr-imbalanced\"\u001b[0m\u001b[0;34m)\u001b[0m\u001b[0;34m\u001b[0m\u001b[0;34m\u001b[0m\u001b[0m\n\u001b[1;32m      3\u001b[0m \u001b[0mos\u001b[0m\u001b[0;34m.\u001b[0m\u001b[0mmkdir\u001b[0m\u001b[0;34m(\u001b[0m\u001b[0;34m\"acc-imbalanced\"\u001b[0m\u001b[0;34m)\u001b[0m\u001b[0;34m\u001b[0m\u001b[0;34m\u001b[0m\u001b[0m\n",
      "\u001b[0;31mFileExistsError\u001b[0m: [Errno 17] File exists: 'leakage-imbalanced'"
     ]
    }
   ],
   "source": [
    "os.mkdir(\"leakage-imbalanced\")\n",
    "os.mkdir(\"tpr-imbalanced\")\n",
    "os.mkdir(\"acc-imbalanced\")"
   ]
  },
  {
   "cell_type": "markdown",
   "metadata": {},
   "source": [
    "## CLEAN"
   ]
  },
  {
   "cell_type": "code",
   "execution_count": 9,
   "metadata": {},
   "outputs": [
    {
     "name": "stdout",
     "output_type": "stream",
     "text": [
      "Now examinaing dentist physician with frac= 0.1\n",
      "Learning first projection for  dentist\n"
     ]
    },
    {
     "name": "stderr",
     "output_type": "stream",
     "text": [
      "12000/60000. Acc post-projection: 90.009%; best so-far: 90.009%; Maj: 90.009%; Gap: 0.000%; best loss so far: 0.319:  20%|##        | 12000/60000 [05:03<20:15, 39.48it/s]  \n"
     ]
    },
    {
     "name": "stdout",
     "output_type": "stream",
     "text": [
      "Learning second projection for  physician\n"
     ]
    },
    {
     "name": "stderr",
     "output_type": "stream",
     "text": [
      "11000/60000. Acc post-projection: 90.009%; best so-far: 90.009%; Maj: 90.009%; Gap: 0.000%; best loss so far: 0.327:  18%|#8        | 11000/60000 [04:27<19:51, 41.11it/s]  \n"
     ]
    },
    {
     "name": "stdout",
     "output_type": "stream",
     "text": [
      "0.9562899786780383 0.01966066058645643\n",
      "0.9567468778556198 0.02270250231397816\n",
      "0.954614681693573 0.028787014195958402\n",
      "0.9547669814194334 0.02024809529484561\n",
      "0.9570514773073409 0.022475546735610474\n",
      "0.9541577825159915 0.023200764409214925\n",
      "0.9550715808711544 0.024913937717305233\n",
      "0.9564422784038988 0.019651907106558324\n",
      "0.9549192811452939 0.01860968647685276\n",
      "0.9572037770332014 0.019191742072952715\n",
      "dentist physician 0.1 [{'acc_prof_before': 0.9562899786780383, 'acc_prof_after': 0.9675601583917149, 'tpr_before': 0.01966066058645643, 'tpr_after': 0.03878880077432664, 'leakage': 9.137983551632534e-05}, {'acc_prof_before': 0.9567468778556198, 'acc_prof_after': 0.9655802619555285, 'tpr_before': 0.02270250231397816, 'tpr_after': 0.04536229170699561, 'leakage': 9.137983551632534e-05}, {'acc_prof_before': 0.954614681693573, 'acc_prof_after': 0.9631434663417606, 'tpr_before': 0.028787014195958402, 'tpr_after': 0.06593106152905841, 'leakage': 9.137983551632534e-05}, {'acc_prof_before': 0.9547669814194334, 'acc_prof_after': 0.9683216570210174, 'tpr_before': 0.02024809529484561, 'tpr_after': 0.03753436698219081, 'leakage': 9.137983551632534e-05}, {'acc_prof_before': 0.9570514773073409, 'acc_prof_after': 0.9678647578434358, 'tpr_before': 0.022475546735610474, 'tpr_after': 0.04277005855960002, 'leakage': 9.137983551632534e-05}, {'acc_prof_before': 0.9541577825159915, 'acc_prof_after': 0.9680170575692963, 'tpr_before': 0.023200764409214925, 'tpr_after': 0.037477075573940685, 'leakage': 9.137983551632534e-05}, {'acc_prof_before': 0.9550715808711544, 'acc_prof_after': 0.9680170575692963, 'tpr_before': 0.024913937717305233, 'tpr_after': 0.037682844401410565, 'leakage': 9.137983551632534e-05}, {'acc_prof_before': 0.9564422784038988, 'acc_prof_after': 0.9677124581175753, 'tpr_before': 0.019651907106558324, 'tpr_after': 0.03696699583987334, 'leakage': 9.137983551632534e-05}, {'acc_prof_before': 0.9549192811452939, 'acc_prof_after': 0.96603716113311, 'tpr_before': 0.01860968647685276, 'tpr_after': 0.05112803065550794, 'leakage': 9.137983551632534e-05}, {'acc_prof_before': 0.9572037770332014, 'acc_prof_after': 0.9678647578434358, 'tpr_before': 0.019191742072952715, 'tpr_after': 0.040664979633793334, 'leakage': 9.137983551632534e-05}]\n",
      "================================\n",
      "Now examinaing dentist physician with frac= 0.2\n",
      "Learning first projection for  dentist\n"
     ]
    },
    {
     "name": "stderr",
     "output_type": "stream",
     "text": [
      "8000/60000. Acc post-projection: 80.018%; best so-far: 80.018%; Maj: 80.018%; Gap: 0.000%; best loss so far: 0.505:  13%|#3        | 8000/60000 [04:13<27:29, 31.52it/s]     \n"
     ]
    },
    {
     "name": "stdout",
     "output_type": "stream",
     "text": [
      "Learning second projection for  physician\n"
     ]
    },
    {
     "name": "stderr",
     "output_type": "stream",
     "text": [
      "7000/60000. Acc post-projection: 80.018%; best so-far: 80.018%; Maj: 80.018%; Gap: 0.000%; best loss so far: 0.502:  12%|#1        | 7000/60000 [03:38<27:31, 32.08it/s]     \n"
     ]
    },
    {
     "name": "stdout",
     "output_type": "stream",
     "text": [
      "0.954614681693573 0.012519537300451985\n",
      "0.95370088333841 0.019194113850155813\n",
      "0.954614681693573 0.009369797790023336\n",
      "0.9553761803228754 0.00909218906268053\n",
      "0.954614681693573 0.012625251633498135\n",
      "0.9535485836125495 0.014930635155922594\n",
      "0.9541577825159915 0.009000399461966985\n",
      "0.9535485836125495 0.011419575220400456\n",
      "0.9526347852573865 0.00910594514421512\n",
      "0.953396283886689 0.006210929332031874\n",
      "dentist physician 0.2 [{'acc_prof_before': 0.954614681693573, 'acc_prof_after': 0.9607066707279927, 'tpr_before': 0.012519537300451985, 'tpr_after': 0.034849722811887474, 'leakage': 0.0007919585744745605}, {'acc_prof_before': 0.95370088333841, 'acc_prof_after': 0.9607066707279927, 'tpr_before': 0.019194113850155813, 'tpr_after': 0.03759834138531559, 'leakage': 0.0007919585744745605}, {'acc_prof_before': 0.954614681693573, 'acc_prof_after': 0.9605543710021321, 'tpr_before': 0.009369797790023336, 'tpr_after': 0.0414074595022155, 'leakage': 0.0007919585744745605}, {'acc_prof_before': 0.9553761803228754, 'acc_prof_after': 0.9604020712762718, 'tpr_before': 0.00909218906268053, 'tpr_after': 0.03909926581768647, 'leakage': 0.0007919585744745605}, {'acc_prof_before': 0.954614681693573, 'acc_prof_after': 0.9594882729211087, 'tpr_before': 0.012625251633498135, 'tpr_after': 0.03681102926689327, 'leakage': 0.0007919585744745605}, {'acc_prof_before': 0.9535485836125495, 'acc_prof_after': 0.9593359731952482, 'tpr_before': 0.014930635155922594, 'tpr_after': 0.042887405715587155, 'leakage': 0.0007919585744745605}, {'acc_prof_before': 0.9541577825159915, 'acc_prof_after': 0.9590313737435273, 'tpr_before': 0.009000399461966985, 'tpr_after': 0.03561252353978115, 'leakage': 0.0007919585744745605}, {'acc_prof_before': 0.9535485836125495, 'acc_prof_after': 0.9611635699055742, 'tpr_before': 0.011419575220400456, 'tpr_after': 0.035329670089061814, 'leakage': 0.0007919585744745605}, {'acc_prof_before': 0.9526347852573865, 'acc_prof_after': 0.9605543710021321, 'tpr_before': 0.00910594514421512, 'tpr_after': 0.03741550514839461, 'leakage': 0.0007919585744745605}, {'acc_prof_before': 0.953396283886689, 'acc_prof_after': 0.9608589704538532, 'tpr_before': 0.006210929332031874, 'tpr_after': 0.03598946690707183, 'leakage': 0.0007919585744745605}]\n",
      "================================\n",
      "Now examinaing dentist physician with frac= 0.3\n",
      "Learning first projection for  dentist\n"
     ]
    },
    {
     "name": "stderr",
     "output_type": "stream",
     "text": [
      "16000/60000. Acc post-projection: 70.027%; best so-far: 70.027%; Maj: 70.027%; Gap: 0.000%; best loss so far: 0.622:  27%|##6       | 16000/60000 [09:56<27:19, 26.83it/s]  \n"
     ]
    },
    {
     "name": "stdout",
     "output_type": "stream",
     "text": [
      "Learning second projection for  physician\n"
     ]
    },
    {
     "name": "stderr",
     "output_type": "stream",
     "text": [
      "7000/60000. Acc post-projection: 70.027%; best so-far: 70.027%; Maj: 70.027%; Gap: 0.000%; best loss so far: 0.618:  12%|#1        | 7000/60000 [04:18<32:34, 27.12it/s]   \n"
     ]
    },
    {
     "name": "stdout",
     "output_type": "stream",
     "text": [
      "0.9508071885470606 0.009090802812922792\n",
      "0.9535485836125495 0.023996136273520756\n",
      "0.9526347852573865 0.009897375447012328\n",
      "0.952787084983247 0.009390408601317323\n",
      "0.9535485836125495 0.013375382546933488\n",
      "0.9544623819677125 0.013379816620168634\n",
      "0.954614681693573 0.01862185616679476\n",
      "0.9526347852573865 0.012687323695496239\n",
      "0.9515686871763631 0.012829954622380997\n",
      "0.952482485531526 0.01219896493155178\n",
      "dentist physician 0.3 [{'acc_prof_before': 0.9508071885470606, 'acc_prof_after': 0.9544623819677125, 'tpr_before': 0.009090802812922792, 'tpr_after': 0.033400878631686115, 'leakage': 0.008193725251294581}, {'acc_prof_before': 0.9535485836125495, 'acc_prof_after': 0.954310082241852, 'tpr_before': 0.023996136273520756, 'tpr_after': 0.03202604947943566, 'leakage': 0.008193725251294581}, {'acc_prof_before': 0.9526347852573865, 'acc_prof_after': 0.9529393847091076, 'tpr_before': 0.009897375447012328, 'tpr_after': 0.03600983992203252, 'leakage': 0.008193725251294581}, {'acc_prof_before': 0.952787084983247, 'acc_prof_after': 0.9509594882729211, 'tpr_before': 0.009390408601317323, 'tpr_after': 0.0283155148593056, 'leakage': 0.008193725251294581}, {'acc_prof_before': 0.9535485836125495, 'acc_prof_after': 0.9498933901918977, 'tpr_before': 0.013375382546933488, 'tpr_after': 0.03374802621120732, 'leakage': 0.008193725251294581}, {'acc_prof_before': 0.9544623819677125, 'acc_prof_after': 0.954614681693573, 'tpr_before': 0.013379816620168634, 'tpr_after': 0.028610916350805836, 'leakage': 0.008193725251294581}, {'acc_prof_before': 0.954614681693573, 'acc_prof_after': 0.9556807797745964, 'tpr_before': 0.01862185616679476, 'tpr_after': 0.031091011852767258, 'leakage': 0.008193725251294581}, {'acc_prof_before': 0.9526347852573865, 'acc_prof_after': 0.9544623819677125, 'tpr_before': 0.012687323695496239, 'tpr_after': 0.03342020506148575, 'leakage': 0.008193725251294581}, {'acc_prof_before': 0.9515686871763631, 'acc_prof_after': 0.9532439841608286, 'tpr_before': 0.012829954622380997, 'tpr_after': 0.0328507013282779, 'leakage': 0.008193725251294581}, {'acc_prof_before': 0.952482485531526, 'acc_prof_after': 0.9550715808711544, 'tpr_before': 0.01219896493155178, 'tpr_after': 0.03142621352447973, 'leakage': 0.008193725251294581}]\n",
      "================================\n",
      "Now examinaing dentist physician with frac= 0.4\n",
      "Learning first projection for  dentist\n"
     ]
    },
    {
     "name": "stderr",
     "output_type": "stream",
     "text": [
      "17000/60000. Acc post-projection: 60.006%; best so-far: 60.006%; Maj: 60.006%; Gap: 0.000%; best loss so far: 0.689:  28%|##8       | 17000/60000 [11:47<29:50, 24.02it/s]  \n"
     ]
    },
    {
     "name": "stdout",
     "output_type": "stream",
     "text": [
      "Learning second projection for  physician\n"
     ]
    },
    {
     "name": "stderr",
     "output_type": "stream",
     "text": [
      "20000/60000. Acc post-projection: 61.651%; best so-far: 59.915%; Maj: 60.006%; Gap: 0.091%; best loss so far: 0.692:  33%|###3      | 20051/60000 [13:19<1:54:09,  5.83it/s]IOPub message rate exceeded.\n",
      "The notebook server will temporarily stop sending output\n",
      "to the client in order to avoid crashing it.\n",
      "To change this limit, set the config variable\n",
      "`--NotebookApp.iopub_msg_rate_limit`.\n",
      "\n",
      "Current values:\n",
      "NotebookApp.iopub_msg_rate_limit=1000.0 (msgs/sec)\n",
      "NotebookApp.rate_limit_window=3.0 (secs)\n",
      "\n",
      "59000/60000. Acc post-projection: 52.574%; best so-far: 51.416%; Maj: 50.015%; Gap: 1.401%; best loss so far: 0.713: 100%|##########| 60000/60000 [40:44<00:00, 24.55it/s]  \n"
     ]
    },
    {
     "name": "stdout",
     "output_type": "stream",
     "text": [
      "0.9456289978678039 0.012818787132198384\n",
      "0.9469996954005483 0.010060995020184222\n",
      "0.9466950959488273 0.02487987676308401\n",
      "0.9465427962229668 0.02395458251048728\n",
      "0.9448674992385013 0.01461675607996008\n",
      "0.9483703929332927 0.009288973020354635\n",
      "0.9469996954005483 0.017557846835511086\n",
      "0.9471519951264088 0.009603774333224574\n",
      "0.9465427962229668 0.02590760489080904\n",
      "0.9492841912884556 0.013586145987696564\n",
      "dentist physician 0.5 [{'acc_prof_before': 0.9456289978678039, 'acc_prof_after': 0.9491318915625951, 'tpr_before': 0.012818787132198384, 'tpr_after': 0.009870002487200748, 'leakage': 0.04462381967712459}, {'acc_prof_before': 0.9469996954005483, 'acc_prof_after': 0.9483703929332927, 'tpr_before': 0.010060995020184222, 'tpr_after': 0.008734268073572355, 'leakage': 0.04462381967712459}, {'acc_prof_before': 0.9466950959488273, 'acc_prof_after': 0.9486749923850137, 'tpr_before': 0.02487987676308401, 'tpr_after': 0.009710437691612155, 'leakage': 0.04462381967712459}, {'acc_prof_before': 0.9465427962229668, 'acc_prof_after': 0.9476088943039902, 'tpr_before': 0.02395458251048728, 'tpr_after': 0.008633523869902645, 'leakage': 0.04462381967712459}, {'acc_prof_before': 0.9448674992385013, 'acc_prof_after': 0.9466950959488273, 'tpr_before': 0.01461675607996008, 'tpr_after': 0.011751264881436017, 'leakage': 0.04462381967712459}, {'acc_prof_before': 0.9483703929332927, 'acc_prof_after': 0.9465427962229668, 'tpr_before': 0.009288973020354635, 'tpr_after': 0.010088800837785584, 'leakage': 0.04462381967712459}, {'acc_prof_before': 0.9469996954005483, 'acc_prof_after': 0.9480657934815717, 'tpr_before': 0.017557846835511086, 'tpr_after': 0.0061954853755166505, 'leakage': 0.04462381967712459}, {'acc_prof_before': 0.9471519951264088, 'acc_prof_after': 0.9463904964971063, 'tpr_before': 0.009603774333224574, 'tpr_after': 0.010386516829061216, 'leakage': 0.04462381967712459}, {'acc_prof_before': 0.9465427962229668, 'acc_prof_after': 0.9471519951264088, 'tpr_before': 0.02590760489080904, 'tpr_after': 0.005686796784695504, 'leakage': 0.04462381967712459}, {'acc_prof_before': 0.9492841912884556, 'acc_prof_after': 0.9469996954005483, 'tpr_before': 0.013586145987696564, 'tpr_after': 0.004773764601274453, 'leakage': 0.04462381967712459}]\n",
      "================================\n",
      "Now examinaing dentist physician with frac= 0.6\n",
      "Learning first projection for  dentist\n"
     ]
    },
    {
     "name": "stderr",
     "output_type": "stream",
     "text": [
      "21000/60000. Acc post-projection: 59.976%; best so-far: 59.976%; Maj: 59.976%; Gap: 0.000%; best loss so far: 0.700:  35%|###5      | 21000/60000 [14:25<26:48, 24.25it/s]  \n"
     ]
    },
    {
     "name": "stdout",
     "output_type": "stream",
     "text": [
      "Learning second projection for  physician\n"
     ]
    },
    {
     "name": "stderr",
     "output_type": "stream",
     "text": [
      "18000/60000. Acc post-projection: 61.011%; best so-far: 60.037%; Maj: 59.976%; Gap: 0.061%; best loss so far: 0.688:  30%|###       | 18113/60000 [12:22<30:22, 22.98it/s]  IOPub message rate exceeded.\n",
      "The notebook server will temporarily stop sending output\n",
      "to the client in order to avoid crashing it.\n",
      "To change this limit, set the config variable\n",
      "`--NotebookApp.iopub_msg_rate_limit`.\n",
      "\n",
      "Current values:\n",
      "NotebookApp.iopub_msg_rate_limit=1000.0 (msgs/sec)\n",
      "NotebookApp.rate_limit_window=3.0 (secs)\n",
      "\n",
      "13000/60000. Acc post-projection: 89.979%; best so-far: 89.979%; Maj: 89.979%; Gap: 0.000%; best loss so far: 0.326:  22%|##1       | 13000/60000 [06:15<22:36, 34.65it/s]  \n"
     ]
    },
    {
     "name": "stdout",
     "output_type": "stream",
     "text": [
      "Learning second projection for  physician\n"
     ]
    },
    {
     "name": "stderr",
     "output_type": "stream",
     "text": [
      "11000/60000. Acc post-projection: 89.979%; best so-far: 89.979%; Maj: 89.979%; Gap: 0.000%; best loss so far: 0.319:  18%|#8        | 11000/60000 [04:39<20:43, 39.39it/s]   \n"
     ]
    },
    {
     "name": "stdout",
     "output_type": "stream",
     "text": [
      "0.9360341151385928 0.023177296187426845\n",
      "0.9357295156868718 0.003284265193965316\n",
      "0.9335973195248248 0.023626305706203506\n",
      "0.9355772159610113 0.021779032743692535\n",
      "0.9352726165092903 0.01459589967498113\n",
      "0.9355772159610113 0.005816105386282125\n",
      "0.9355772159610113 0.00622352194943126\n",
      "0.9361864148644532 0.004249059538168518\n",
      "0.9358818154127323 0.01089529807460056\n",
      "0.9337496192506853 0.016680820653743125\n",
      "dentist physician 0.9 [{'acc_prof_before': 0.9360341151385928, 'acc_prof_after': 0.9497410904660372, 'tpr_before': 0.023177296187426845, 'tpr_after': 0.038740976124594644, 'leakage': 0.0016143770941211555}, {'acc_prof_before': 0.9357295156868718, 'acc_prof_after': 0.9494364910143162, 'tpr_before': 0.003284265193965316, 'tpr_after': 0.02827551432811067, 'leakage': 0.0016143770941211555}, {'acc_prof_before': 0.9335973195248248, 'acc_prof_after': 0.9514163874505026, 'tpr_before': 0.023626305706203506, 'tpr_after': 0.024699466104444654, 'leakage': 0.0016143770941211555}, {'acc_prof_before': 0.9355772159610113, 'acc_prof_after': 0.9549192811452939, 'tpr_before': 0.021779032743692535, 'tpr_after': 0.02781998656269691, 'leakage': 0.0016143770941211555}, {'acc_prof_before': 0.9352726165092903, 'acc_prof_after': 0.9535485836125495, 'tpr_before': 0.01459589967498113, 'tpr_after': 0.028381831687333662, 'leakage': 0.0016143770941211555}, {'acc_prof_before': 0.9355772159610113, 'acc_prof_after': 0.9538531830642705, 'tpr_before': 0.005816105386282125, 'tpr_after': 0.025664815649069833, 'leakage': 0.0016143770941211555}, {'acc_prof_before': 0.9355772159610113, 'acc_prof_after': 0.95370088333841, 'tpr_before': 0.00622352194943126, 'tpr_after': 0.02255718961865882, 'leakage': 0.0016143770941211555}, {'acc_prof_before': 0.9361864148644532, 'acc_prof_after': 0.9511117879987816, 'tpr_before': 0.004249059538168518, 'tpr_after': 0.02308791987200602, 'leakage': 0.0016143770941211555}, {'acc_prof_before': 0.9358818154127323, 'acc_prof_after': 0.95370088333841, 'tpr_before': 0.01089529807460056, 'tpr_after': 0.022336451512426737, 'leakage': 0.0016143770941211555}, {'acc_prof_before': 0.9337496192506853, 'acc_prof_after': 0.953396283886689, 'tpr_before': 0.016680820653743125, 'tpr_after': 0.026982606725954535, 'leakage': 0.0016143770941211555}]\n",
      "================================\n",
      "Now examinaing psychologist professor with frac= 0.1\n",
      "Learning first projection for  psychologist\n"
     ]
    },
    {
     "name": "stderr",
     "output_type": "stream",
     "text": [
      "9000/60000. Acc post-projection: 90.023%; best so-far: 90.023%; Maj: 90.000%; Gap: 0.023%; best loss so far: 0.321:  15%|#5        | 9000/60000 [05:19<30:08, 28.19it/s]   \n"
     ]
    },
    {
     "name": "stdout",
     "output_type": "stream",
     "text": [
      "Learning second projection for  professor\n"
     ]
    },
    {
     "name": "stderr",
     "output_type": "stream",
     "text": [
      "9000/60000. Acc post-projection: 90.000%; best so-far: 90.000%; Maj: 90.000%; Gap: 0.000%; best loss so far: 0.322:  15%|#5        | 9000/60000 [05:37<31:53, 26.65it/s]   \n"
     ]
    },
    {
     "name": "stdout",
     "output_type": "stream",
     "text": [
      "0.9069318181818182 0.013971289084467738\n",
      "0.9045454545454545 0.02389534796400729\n",
      "0.9027272727272727 0.02063689142346086\n",
      "0.9042045454545454 0.02694575792241269\n",
      "0.9027272727272727 0.022113629298580226\n",
      "0.9043181818181818 0.01711592242710155\n",
      "0.9051136363636364 0.026977687689990502\n",
      "0.9072727272727272 0.018474944910057238\n",
      "0.9068181818181819 0.020861245458636976\n",
      "0.9020454545454546 0.023855952479992892\n",
      "psychologist professor 0.1 [{'acc_prof_before': 0.9069318181818182, 'acc_prof_after': 0.9138636363636363, 'tpr_before': 0.013971289084467738, 'tpr_after': 0.008881568381347977, 'leakage': 0.00022727272727274261}, {'acc_prof_before': 0.9045454545454545, 'acc_prof_after': 0.9147727272727273, 'tpr_before': 0.02389534796400729, 'tpr_after': 0.019963874117224615, 'leakage': 0.00022727272727274261}, {'acc_prof_before': 0.9027272727272727, 'acc_prof_after': 0.9139772727272727, 'tpr_before': 0.02063689142346086, 'tpr_after': 0.008814903876619722, 'leakage': 0.00022727272727274261}, {'acc_prof_before': 0.9042045454545454, 'acc_prof_after': 0.9148863636363637, 'tpr_before': 0.02694575792241269, 'tpr_after': 0.009470538683130943, 'leakage': 0.00022727272727274261}, {'acc_prof_before': 0.9027272727272727, 'acc_prof_after': 0.9118181818181819, 'tpr_before': 0.022113629298580226, 'tpr_after': 0.027218895619533636, 'leakage': 0.00022727272727274261}, {'acc_prof_before': 0.9043181818181818, 'acc_prof_after': 0.9148863636363637, 'tpr_before': 0.01711592242710155, 'tpr_after': 0.007321055057739541, 'leakage': 0.00022727272727274261}, {'acc_prof_before': 0.9051136363636364, 'acc_prof_after': 0.91625, 'tpr_before': 0.026977687689990502, 'tpr_after': 0.018871088950122933, 'leakage': 0.00022727272727274261}, {'acc_prof_before': 0.9072727272727272, 'acc_prof_after': 0.9125, 'tpr_before': 0.018474944910057238, 'tpr_after': 0.01268923689535469, 'leakage': 0.00022727272727274261}, {'acc_prof_before': 0.9068181818181819, 'acc_prof_after': 0.9168181818181819, 'tpr_before': 0.020861245458636976, 'tpr_after': 0.013507150626582178, 'leakage': 0.00022727272727274261}, {'acc_prof_before': 0.9020454545454546, 'acc_prof_after': 0.9167045454545455, 'tpr_before': 0.023855952479992892, 'tpr_after': 0.014423812700499848, 'leakage': 0.00022727272727274261}]\n",
      "================================\n",
      "Now examinaing psychologist professor with frac= 0.2\n",
      "Learning first projection for  psychologist\n"
     ]
    },
    {
     "name": "stderr",
     "output_type": "stream",
     "text": [
      "6000/60000. Acc post-projection: 80.000%; best so-far: 80.000%; Maj: 80.000%; Gap: 0.000%; best loss so far: 0.502:  10%|#         | 6000/60000 [04:13<38:00, 23.68it/s]   \n"
     ]
    },
    {
     "name": "stdout",
     "output_type": "stream",
     "text": [
      "Learning second projection for  professor\n"
     ]
    },
    {
     "name": "stderr",
     "output_type": "stream",
     "text": [
      "7000/60000. Acc post-projection: 80.000%; best so-far: 80.000%; Maj: 80.000%; Gap: 0.000%; best loss so far: 0.503:  12%|#1        | 7000/60000 [05:25<41:06, 21.49it/s]    \n"
     ]
    },
    {
     "name": "stdout",
     "output_type": "stream",
     "text": [
      "0.91125 0.031051149359558126\n",
      "0.9118181818181819 0.02623576084680491\n",
      "0.9101136363636364 0.031006931751339627\n",
      "0.9077272727272727 0.0257913242588432\n",
      "0.91 0.03628865227001937\n",
      "0.9117045454545455 0.026409760787936602\n",
      "0.9102272727272728 0.010894062209553466\n",
      "0.9118181818181819 0.025914635072684555\n",
      "0.9114772727272727 0.020028912791860892\n",
      "0.9078409090909091 0.02526413282781184\n",
      "psychologist professor 0.2 [{'acc_prof_before': 0.91125, 'acc_prof_after': 0.9182954545454546, 'tpr_before': 0.031051149359558126, 'tpr_after': 0.020233376568828846, 'leakage': 0.0006818181818181168}, {'acc_prof_before': 0.9118181818181819, 'acc_prof_after': 0.9177272727272727, 'tpr_before': 0.02623576084680491, 'tpr_after': 0.021682297617150178, 'leakage': 0.0006818181818181168}, {'acc_prof_before': 0.9101136363636364, 'acc_prof_after': 0.9179545454545455, 'tpr_before': 0.031006931751339627, 'tpr_after': 0.020392305876145614, 'leakage': 0.0006818181818181168}, {'acc_prof_before': 0.9077272727272727, 'acc_prof_after': 0.918409090909091, 'tpr_before': 0.0257913242588432, 'tpr_after': 0.01874246577277926, 'leakage': 0.0006818181818181168}, {'acc_prof_before': 0.91, 'acc_prof_after': 0.9194318181818182, 'tpr_before': 0.03628865227001937, 'tpr_after': 0.01556159656676044, 'leakage': 0.0006818181818181168}, {'acc_prof_before': 0.9117045454545455, 'acc_prof_after': 0.9173863636363636, 'tpr_before': 0.026409760787936602, 'tpr_after': 0.019238639719701116, 'leakage': 0.0006818181818181168}, {'acc_prof_before': 0.9102272727272728, 'acc_prof_after': 0.9206818181818182, 'tpr_before': 0.010894062209553466, 'tpr_after': 0.01721623724559742, 'leakage': 0.0006818181818181168}, {'acc_prof_before': 0.9118181818181819, 'acc_prof_after': 0.9172727272727272, 'tpr_before': 0.025914635072684555, 'tpr_after': 0.010966056287283369, 'leakage': 0.0006818181818181168}, {'acc_prof_before': 0.9114772727272727, 'acc_prof_after': 0.9175, 'tpr_before': 0.020028912791860892, 'tpr_after': 0.019087019354819143, 'leakage': 0.0006818181818181168}, {'acc_prof_before': 0.9078409090909091, 'acc_prof_after': 0.9178409090909091, 'tpr_before': 0.02526413282781184, 'tpr_after': 0.01042269109536599, 'leakage': 0.0006818181818181168}]\n",
      "================================\n",
      "Now examinaing psychologist professor with frac= 0.3\n",
      "Learning first projection for  psychologist\n"
     ]
    },
    {
     "name": "stderr",
     "output_type": "stream",
     "text": [
      "6000/60000. Acc post-projection: 70.000%; best so-far: 70.000%; Maj: 70.000%; Gap: 0.000%; best loss so far: 0.619:  10%|#         | 6000/60000 [04:48<43:16, 20.80it/s]    \n"
     ]
    },
    {
     "name": "stdout",
     "output_type": "stream",
     "text": [
      "Learning second projection for  professor\n"
     ]
    },
    {
     "name": "stderr",
     "output_type": "stream",
     "text": [
      "4000/60000. Acc post-projection: 70.023%; best so-far: 70.023%; Maj: 70.000%; Gap: 0.023%; best loss so far: 0.614:   7%|6         | 4000/60000 [03:22<47:17, 19.74it/s]   \n"
     ]
    },
    {
     "name": "stdout",
     "output_type": "stream",
     "text": [
      "0.9161363636363636 0.023389271269794603\n",
      "0.9176136363636364 0.022075401986720866\n",
      "0.9144318181818182 0.01864191233244346\n",
      "0.9165909090909091 0.020621072508418773\n",
      "0.9165909090909091 0.024276341648892447\n",
      "0.9165909090909091 0.023343656608485197\n",
      "0.9176136363636364 0.014287763856647154\n",
      "0.9165909090909091 0.017612784340448783\n"
     ]
    },
    {
     "name": "stderr",
     "output_type": "stream",
     "text": [
      "IOPub message rate exceeded.\n",
      "The notebook server will temporarily stop sending output\n",
      "to the client in order to avoid crashing it.\n",
      "To change this limit, set the config variable\n",
      "`--NotebookApp.iopub_msg_rate_limit`.\n",
      "\n",
      "Current values:\n",
      "NotebookApp.iopub_msg_rate_limit=1000.0 (msgs/sec)\n",
      "NotebookApp.rate_limit_window=3.0 (secs)\n",
      "\n",
      "21000/60000. Acc post-projection: 60.000%; best so-far: 60.000%; Maj: 60.000%; Gap: 0.000%; best loss so far: 0.684:  35%|###5      | 21000/60000 [17:59<33:24, 19.45it/s]   \n"
     ]
    },
    {
     "name": "stdout",
     "output_type": "stream",
     "text": [
      "Learning second projection for  professor\n"
     ]
    },
    {
     "name": "stderr",
     "output_type": "stream",
     "text": [
      "4000/60000. Acc post-projection: 59.977%; best so-far: 59.977%; Maj: 60.000%; Gap: 0.023%; best loss so far: 0.679:   7%|6         | 4000/60000 [03:18<46:25, 20.11it/s]   \n"
     ]
    },
    {
     "name": "stdout",
     "output_type": "stream",
     "text": [
      "0.9178409090909091 0.04160851658535094\n",
      "0.9169318181818182 0.018638711665338283\n",
      "0.918409090909091 0.04337348644294942\n",
      "0.9186363636363636 0.04391836781405781\n",
      "0.9169318181818182 0.021710196789253153\n",
      "0.9176136363636364 0.02638496176858787\n",
      "0.9160227272727273 0.017123663172637832\n",
      "0.9177272727272727 0.01841947347196411\n",
      "0.9180681818181818 0.016800107165745523\n",
      "0.91625 0.020758301524582645\n",
      "psychologist professor 0.6 [{'acc_prof_before': 0.9178409090909091, 'acc_prof_after': 0.9364772727272728, 'tpr_before': 0.04160851658535094, 'tpr_after': 0.022823737829155654, 'leakage': 0.006590909090909092}, {'acc_prof_before': 0.9169318181818182, 'acc_prof_after': 0.9339772727272727, 'tpr_before': 0.018638711665338283, 'tpr_after': 0.02273397943973308, 'leakage': 0.006590909090909092}, {'acc_prof_before': 0.918409090909091, 'acc_prof_after': 0.9367045454545454, 'tpr_before': 0.04337348644294942, 'tpr_after': 0.015410313447822723, 'leakage': 0.006590909090909092}, {'acc_prof_before': 0.9186363636363636, 'acc_prof_after': 0.9365909090909091, 'tpr_before': 0.04391836781405781, 'tpr_after': 0.01687892133808286, 'leakage': 0.006590909090909092}, {'acc_prof_before': 0.9169318181818182, 'acc_prof_after': 0.9367045454545454, 'tpr_before': 0.021710196789253153, 'tpr_after': 0.01898904476708105, 'leakage': 0.006590909090909092}, {'acc_prof_before': 0.9176136363636364, 'acc_prof_after': 0.9368181818181818, 'tpr_before': 0.02638496176858787, 'tpr_after': 0.01810372274750803, 'leakage': 0.006590909090909092}, {'acc_prof_before': 0.9160227272727273, 'acc_prof_after': 0.9371590909090909, 'tpr_before': 0.017123663172637832, 'tpr_after': 0.0179924242424243, 'leakage': 0.006590909090909092}, {'acc_prof_before': 0.9177272727272727, 'acc_prof_after': 0.9365909090909091, 'tpr_before': 0.01841947347196411, 'tpr_after': 0.019319110197537823, 'leakage': 0.006590909090909092}, {'acc_prof_before': 0.9180681818181818, 'acc_prof_after': 0.9370454545454545, 'tpr_before': 0.016800107165745523, 'tpr_after': 0.018390239287622522, 'leakage': 0.006590909090909092}, {'acc_prof_before': 0.91625, 'acc_prof_after': 0.9368181818181818, 'tpr_before': 0.020758301524582645, 'tpr_after': 0.01773894413117335, 'leakage': 0.006590909090909092}]\n",
      "================================\n",
      "Now examinaing psychologist professor with frac= 0.7\n",
      "Learning first projection for  psychologist\n"
     ]
    },
    {
     "name": "stderr",
     "output_type": "stream",
     "text": [
      "7000/60000. Acc post-projection: 70.023%; best so-far: 70.023%; Maj: 70.000%; Gap: 0.023%; best loss so far: 0.622:  12%|#1        | 7000/60000 [05:41<43:05, 20.50it/s]    \n"
     ]
    },
    {
     "name": "stdout",
     "output_type": "stream",
     "text": [
      "Learning second projection for  professor\n"
     ]
    },
    {
     "name": "stderr",
     "output_type": "stream",
     "text": [
      "5000/60000. Acc post-projection: 70.000%; best so-far: 70.000%; Maj: 70.000%; Gap: 0.000%; best loss so far: 0.616:   8%|8         | 5000/60000 [04:00<44:07, 20.77it/s]    \n"
     ]
    },
    {
     "name": "stdout",
     "output_type": "stream",
     "text": [
      "0.9128409090909091 0.015057298283303067\n",
      "0.9146590909090909 0.01680105486608226\n",
      "0.9165909090909091 0.019963059248589484\n",
      "0.9171590909090909 0.03246266197234785\n",
      "0.9163636363636364 0.026100992889175542\n",
      "0.91875 0.017468384032199108\n",
      "0.9175 0.02593431307489204\n",
      "0.9160227272727273 0.017763759500458033\n",
      "0.9176136363636364 0.03865144248419888\n",
      "0.9179545454545455 0.033580578660994016\n",
      "psychologist professor 0.7 [{'acc_prof_before': 0.9128409090909091, 'acc_prof_after': 0.9388636363636363, 'tpr_before': 0.015057298283303067, 'tpr_after': 0.02463589543613811, 'leakage': 0.00454545454545463}, {'acc_prof_before': 0.9146590909090909, 'acc_prof_after': 0.9382954545454546, 'tpr_before': 0.01680105486608226, 'tpr_after': 0.027177326615236436, 'leakage': 0.00454545454545463}, {'acc_prof_before': 0.9165909090909091, 'acc_prof_after': 0.9397727272727273, 'tpr_before': 0.019963059248589484, 'tpr_after': 0.023895211806549164, 'leakage': 0.00454545454545463}, {'acc_prof_before': 0.9171590909090909, 'acc_prof_after': 0.9411363636363637, 'tpr_before': 0.03246266197234785, 'tpr_after': 0.022511082665829404, 'leakage': 0.00454545454545463}, {'acc_prof_before': 0.9163636363636364, 'acc_prof_after': 0.9384090909090909, 'tpr_before': 0.026100992889175542, 'tpr_after': 0.024164269892372536, 'leakage': 0.00454545454545463}, {'acc_prof_before': 0.91875, 'acc_prof_after': 0.9392045454545455, 'tpr_before': 0.017468384032199108, 'tpr_after': 0.02369524424043675, 'leakage': 0.00454545454545463}, {'acc_prof_before': 0.9175, 'acc_prof_after': 0.9394318181818182, 'tpr_before': 0.02593431307489204, 'tpr_after': 0.02685258825930624, 'leakage': 0.00454545454545463}, {'acc_prof_before': 0.9160227272727273, 'acc_prof_after': 0.9403409090909091, 'tpr_before': 0.017763759500458033, 'tpr_after': 0.023230992787229853, 'leakage': 0.00454545454545463}, {'acc_prof_before': 0.9176136363636364, 'acc_prof_after': 0.9381818181818182, 'tpr_before': 0.03865144248419888, 'tpr_after': 0.023443916690946406, 'leakage': 0.00454545454545463}, {'acc_prof_before': 0.9179545454545455, 'acc_prof_after': 0.9395454545454546, 'tpr_before': 0.033580578660994016, 'tpr_after': 0.028728619475306437, 'leakage': 0.00454545454545463}]\n",
      "================================\n",
      "Now examinaing psychologist professor with frac= 0.8\n",
      "Learning first projection for  psychologist\n"
     ]
    },
    {
     "name": "stderr",
     "output_type": "stream",
     "text": [
      "8000/60000. Acc post-projection: 80.000%; best so-far: 80.000%; Maj: 80.000%; Gap: 0.000%; best loss so far: 0.506:  13%|#3        | 8000/60000 [05:50<37:57, 22.83it/s]   \n"
     ]
    },
    {
     "name": "stdout",
     "output_type": "stream",
     "text": [
      "Learning second projection for  professor\n"
     ]
    },
    {
     "name": "stderr",
     "output_type": "stream",
     "text": [
      "6000/60000. Acc post-projection: 80.023%; best so-far: 80.023%; Maj: 80.000%; Gap: 0.023%; best loss so far: 0.501:  10%|#         | 6000/60000 [04:28<40:20, 22.31it/s]   \n"
     ]
    },
    {
     "name": "stdout",
     "output_type": "stream",
     "text": [
      "0.9143181818181818 0.014285281916789329\n",
      "0.915 0.013665924398642806\n",
      "0.9143181818181818 0.01805933531285552\n",
      "0.9130681818181818 0.012881572782675724\n",
      "0.915340909090909 0.019152447489412666\n",
      "0.9154545454545454 0.009375000000000022\n",
      "0.9155681818181818 0.013499550421041681\n",
      "0.9156818181818182 0.011858881514057815\n",
      "0.9159090909090909 0.014104763167393598\n",
      "0.9140909090909091 0.008721637177845909\n",
      "psychologist professor 0.8 [{'acc_prof_before': 0.9143181818181818, 'acc_prof_after': 0.94125, 'tpr_before': 0.014285281916789329, 'tpr_after': 0.04359198885997968, 'leakage': 0.001136363636363602}, {'acc_prof_before': 0.915, 'acc_prof_after': 0.9396590909090909, 'tpr_before': 0.013665924398642806, 'tpr_after': 0.047454663145317294, 'leakage': 0.001136363636363602}, {'acc_prof_before': 0.9143181818181818, 'acc_prof_after': 0.9401136363636363, 'tpr_before': 0.01805933531285552, 'tpr_after': 0.04277856341814018, 'leakage': 0.001136363636363602}, {'acc_prof_before': 0.9130681818181818, 'acc_prof_after': 0.9418181818181818, 'tpr_before': 0.012881572782675724, 'tpr_after': 0.04006789820969083, 'leakage': 0.001136363636363602}, {'acc_prof_before': 0.915340909090909, 'acc_prof_after': 0.9404545454545454, 'tpr_before': 0.019152447489412666, 'tpr_after': 0.05222947815582457, 'leakage': 0.001136363636363602}, {'acc_prof_before': 0.9154545454545454, 'acc_prof_after': 0.9414772727272728, 'tpr_before': 0.009375000000000022, 'tpr_after': 0.04258379637052619, 'leakage': 0.001136363636363602}, {'acc_prof_before': 0.9155681818181818, 'acc_prof_after': 0.9422727272727273, 'tpr_before': 0.013499550421041681, 'tpr_after': 0.04452620902669864, 'leakage': 0.001136363636363602}, {'acc_prof_before': 0.9156818181818182, 'acc_prof_after': 0.9411363636363637, 'tpr_before': 0.011858881514057815, 'tpr_after': 0.04159628396094419, 'leakage': 0.001136363636363602}, {'acc_prof_before': 0.9159090909090909, 'acc_prof_after': 0.94125, 'tpr_before': 0.014104763167393598, 'tpr_after': 0.048483091380329565, 'leakage': 0.001136363636363602}, {'acc_prof_before': 0.9140909090909091, 'acc_prof_after': 0.9393181818181818, 'tpr_before': 0.008721637177845909, 'tpr_after': 0.05121364110394771, 'leakage': 0.001136363636363602}]\n",
      "================================\n",
      "Now examinaing psychologist professor with frac= 0.9\n",
      "Learning first projection for  psychologist\n"
     ]
    },
    {
     "name": "stderr",
     "output_type": "stream",
     "text": [
      "9000/60000. Acc post-projection: 90.023%; best so-far: 90.023%; Maj: 90.000%; Gap: 0.023%; best loss so far: 0.317:  15%|#5        | 9000/60000 [05:22<30:27, 27.90it/s]  \n"
     ]
    },
    {
     "name": "stdout",
     "output_type": "stream",
     "text": [
      "Learning second projection for  professor\n"
     ]
    },
    {
     "name": "stderr",
     "output_type": "stream",
     "text": [
      "8000/60000. Acc post-projection: 90.159%; best so-far: 90.159%; Maj: 90.000%; Gap: 0.159%; best loss so far: 0.313:  14%|#3        | 8112/60000 [04:53<1:03:26, 13.63it/s] IOPub message rate exceeded.\n",
      "The notebook server will temporarily stop sending output\n",
      "to the client in order to avoid crashing it.\n",
      "To change this limit, set the config variable\n",
      "`--NotebookApp.iopub_msg_rate_limit`.\n",
      "\n",
      "Current values:\n",
      "NotebookApp.iopub_msg_rate_limit=1000.0 (msgs/sec)\n",
      "NotebookApp.rate_limit_window=3.0 (secs)\n",
      "\n",
      "59000/60000. Acc post-projection: 54.640%; best so-far: 51.518%; Maj: 50.043%; Gap: 1.474%; best loss so far: 0.754: 100%|##########| 60000/60000 [18:26<00:00, 54.23it/s]  \n"
     ]
    },
    {
     "name": "stdout",
     "output_type": "stream",
     "text": [
      "0.9058976582827407 0.041037691512493736\n",
      "0.896357328707719 0.02422496684666419\n",
      "0.8993928881179531 0.013970303513215454\n",
      "0.909366869037294 0.05182714679615327\n",
      "0.9058976582827407 0.0324344909758121\n",
      "0.909366869037294 0.04466438649822101\n",
      "0.9080659150043365 0.025862012444390663\n",
      "0.9071986123156982 0.022607441761428867\n",
      "0.906764960971379 0.06631304884448593\n",
      "0.8998265394622723 0.007622619938360266\n",
      "nurse physician 0.5 [{'acc_prof_before': 0.9058976582827407, 'acc_prof_after': 0.9280138768430182, 'tpr_before': 0.041037691512493736, 'tpr_after': 0.014860494180299675, 'leakage': 0.05680832610581088}, {'acc_prof_before': 0.896357328707719, 'acc_prof_after': 0.9245446660884649, 'tpr_before': 0.02422496684666419, 'tpr_after': 0.01482327086178354, 'leakage': 0.05680832610581088}, {'acc_prof_before': 0.8993928881179531, 'acc_prof_after': 0.9301821335646141, 'tpr_before': 0.013970303513215454, 'tpr_after': 0.013699071773622812, 'leakage': 0.05680832610581088}, {'acc_prof_before': 0.909366869037294, 'acc_prof_after': 0.9137033824804857, 'tpr_before': 0.05182714679615327, 'tpr_after': 0.00972717328568561, 'leakage': 0.05680832610581088}, {'acc_prof_before': 0.9058976582827407, 'acc_prof_after': 0.9241110147441457, 'tpr_before': 0.0324344909758121, 'tpr_after': 0.00811950958873474, 'leakage': 0.05680832610581088}, {'acc_prof_before': 0.909366869037294, 'acc_prof_after': 0.9319167389418908, 'tpr_before': 0.04466438649822101, 'tpr_after': 0.014251738414590976, 'leakage': 0.05680832610581088}, {'acc_prof_before': 0.9080659150043365, 'acc_prof_after': 0.9193408499566349, 'tpr_before': 0.025862012444390663, 'tpr_after': 0.014743678755060094, 'leakage': 0.05680832610581088}, {'acc_prof_before': 0.9071986123156982, 'acc_prof_after': 0.9232437120555074, 'tpr_before': 0.022607441761428867, 'tpr_after': 0.019859217453724733, 'leakage': 0.05680832610581088}, {'acc_prof_before': 0.906764960971379, 'acc_prof_after': 0.9197745013009541, 'tpr_before': 0.06631304884448593, 'tpr_after': 0.013401489346060828, 'leakage': 0.05680832610581088}, {'acc_prof_before': 0.8998265394622723, 'acc_prof_after': 0.9288811795316565, 'tpr_before': 0.007622619938360266, 'tpr_after': 0.013192802911858162, 'leakage': 0.05680832610581088}]\n",
      "================================\n",
      "Now examinaing nurse physician with frac= 0.6\n",
      "Learning first projection for  nurse\n"
     ]
    },
    {
     "name": "stderr",
     "output_type": "stream",
     "text": [
      "13000/60000. Acc post-projection: 59.931%; best so-far: 59.931%; Maj: 59.931%; Gap: 0.000%; best loss so far: 0.716:  22%|##1       | 13000/60000 [04:02<14:38, 53.50it/s]  \n"
     ]
    },
    {
     "name": "stdout",
     "output_type": "stream",
     "text": [
      "Learning second projection for  physician\n"
     ]
    },
    {
     "name": "stderr",
     "output_type": "stream",
     "text": [
      "0/60000. Acc post-projection: 100.000%; best so-far: 100.000%; Maj: 59.931%; Gap: 40.069%; best loss so far: 0.000:   1%|          | 595/60000 [00:04<04:51, 203.92it/s]IOPub message rate exceeded.\n",
      "The notebook server will temporarily stop sending output\n",
      "to the client in order to avoid crashing it.\n",
      "To change this limit, set the config variable\n",
      "`--NotebookApp.iopub_msg_rate_limit`.\n",
      "\n",
      "Current values:\n",
      "NotebookApp.iopub_msg_rate_limit=1000.0 (msgs/sec)\n",
      "NotebookApp.rate_limit_window=3.0 (secs)\n",
      "\n",
      "36000/60000. Acc post-projection: 60.015%; best so-far: 60.015%; Maj: 60.000%; Gap: 0.015%; best loss so far: 0.682:  60%|######    | 36000/60000 [45:24<30:16, 13.22it/s]   \n"
     ]
    },
    {
     "name": "stdout",
     "output_type": "stream",
     "text": [
      "Learning second projection for  attorney\n"
     ]
    },
    {
     "name": "stderr",
     "output_type": "stream",
     "text": [
      "9000/60000. Acc post-projection: 60.000%; best so-far: 60.000%; Maj: 60.000%; Gap: 0.000%; best loss so far: 0.681:  15%|#5        | 9000/60000 [11:09<1:03:13, 13.44it/s]  \n"
     ]
    },
    {
     "name": "stdout",
     "output_type": "stream",
     "text": [
      "0.9590417310664606 0.0036713531204892362\n",
      "0.9592735703245749 0.013751128013349446\n",
      "0.9598918083462132 0.0036395855618096347\n",
      "0.9591962905718702 0.011172575459109322\n",
      "0.9601236476043277 0.004645720967766984\n",
      "0.9591190108191654 0.007050527555855907\n",
      "0.9598145285935085 0.005080649902966457\n",
      "0.9595826893353941 0.006519982203540857\n",
      "0.9597372488408037 0.005914271753693338\n",
      "0.9592735703245749 0.003761741851239088\n",
      "journalist attorney 0.4 [{'acc_prof_before': 0.9590417310664606, 'acc_prof_after': 0.9615146831530139, 'tpr_before': 0.0036713531204892362, 'tpr_after': 0.005279997679744927, 'leakage': 0.0021638330757342006}, {'acc_prof_before': 0.9592735703245749, 'acc_prof_after': 0.9602782071097372, 'tpr_before': 0.013751128013349446, 'tpr_after': 0.006787383887818334, 'leakage': 0.0021638330757342006}, {'acc_prof_before': 0.9598918083462132, 'acc_prof_after': 0.9602009273570324, 'tpr_before': 0.0036395855618096347, 'tpr_after': 0.007386069610671538, 'leakage': 0.0021638330757342006}, {'acc_prof_before': 0.9591962905718702, 'acc_prof_after': 0.9610510046367852, 'tpr_before': 0.011172575459109322, 'tpr_after': 0.008359083327969086, 'leakage': 0.0021638330757342006}, {'acc_prof_before': 0.9601236476043277, 'acc_prof_after': 0.9613601236476044, 'tpr_before': 0.004645720967766984, 'tpr_after': 0.007794769730107011, 'leakage': 0.0021638330757342006}, {'acc_prof_before': 0.9591190108191654, 'acc_prof_after': 0.9606646058732612, 'tpr_before': 0.007050527555855907, 'tpr_after': 0.005301945508179497, 'leakage': 0.0021638330757342006}, {'acc_prof_before': 0.9598145285935085, 'acc_prof_after': 0.9615146831530139, 'tpr_before': 0.005080649902966457, 'tpr_after': 0.006567516117455948, 'leakage': 0.0021638330757342006}, {'acc_prof_before': 0.9595826893353941, 'acc_prof_after': 0.9605873261205564, 'tpr_before': 0.006519982203540857, 'tpr_after': 0.005466021425533973, 'leakage': 0.0021638330757342006}, {'acc_prof_before': 0.9597372488408037, 'acc_prof_after': 0.9619783616692427, 'tpr_before': 0.005914271753693338, 'tpr_after': 0.004971730825764738, 'leakage': 0.0021638330757342006}, {'acc_prof_before': 0.9592735703245749, 'acc_prof_after': 0.9610510046367852, 'tpr_before': 0.003761741851239088, 'tpr_after': 0.006337410922278486, 'leakage': 0.0021638330757342006}]\n",
      "================================\n",
      "Now examinaing journalist attorney with frac= 0.5\n",
      "Learning first projection for  journalist\n"
     ]
    },
    {
     "name": "stderr",
     "output_type": "stream",
     "text": [
      "34000/60000. Acc post-projection: 51.453%; best so-far: 50.433%; Maj: 50.000%; Gap: 0.433%; best loss so far: 0.707:  57%|#####6    | 34090/60000 [42:58<1:00:03,  7.19it/s] IOPub message rate exceeded.\n",
      "The notebook server will temporarily stop sending output\n",
      "to the client in order to avoid crashing it.\n",
      "To change this limit, set the config variable\n",
      "`--NotebookApp.iopub_msg_rate_limit`.\n",
      "\n",
      "Current values:\n",
      "NotebookApp.iopub_msg_rate_limit=1000.0 (msgs/sec)\n",
      "NotebookApp.rate_limit_window=3.0 (secs)\n",
      "\n",
      "10000/60000. Acc post-projection: 70.015%; best so-far: 70.015%; Maj: 70.000%; Gap: 0.015%; best loss so far: 0.617:  17%|#6        | 10000/60000 [12:00<1:00:02, 13.88it/s]\n"
     ]
    },
    {
     "name": "stdout",
     "output_type": "stream",
     "text": [
      "0.9609737248840804 0.00312300721414251\n",
      "0.9612828438948995 0.0028223374532736043\n",
      "0.9612828438948995 0.0036463465587444096\n",
      "0.9598918083462132 0.007971401545688029\n",
      "0.960355486862442 0.004034583079021371\n",
      "0.9597372488408037 0.010561630314086665\n",
      "0.9602009273570324 0.010753124575155391\n",
      "0.9591962905718702 0.006942802752739164\n",
      "0.9608191653786707 0.0027464647320299836\n",
      "0.9591190108191654 0.003203492631606701\n",
      "journalist attorney 0.7 [{'acc_prof_before': 0.9609737248840804, 'acc_prof_after': 0.965919629057187, 'tpr_before': 0.00312300721414251, 'tpr_after': 0.02129470267046339, 'leakage': 0.00046367851622874934}, {'acc_prof_before': 0.9612828438948995, 'acc_prof_after': 0.9655332302936631, 'tpr_before': 0.0028223374532736043, 'tpr_after': 0.021093877397595644, 'leakage': 0.00046367851622874934}, {'acc_prof_before': 0.9612828438948995, 'acc_prof_after': 0.9663833075734157, 'tpr_before': 0.0036463465587444096, 'tpr_after': 0.020616146677602566, 'leakage': 0.00046367851622874934}, {'acc_prof_before': 0.9598918083462132, 'acc_prof_after': 0.9656105100463679, 'tpr_before': 0.007971401545688029, 'tpr_after': 0.022485480898014516, 'leakage': 0.00046367851622874934}, {'acc_prof_before': 0.960355486862442, 'acc_prof_after': 0.9655332302936631, 'tpr_before': 0.004034583079021371, 'tpr_after': 0.021259633084664917, 'leakage': 0.00046367851622874934}, {'acc_prof_before': 0.9597372488408037, 'acc_prof_after': 0.9648377125193199, 'tpr_before': 0.010561630314086665, 'tpr_after': 0.021821616499798236, 'leakage': 0.00046367851622874934}, {'acc_prof_before': 0.9602009273570324, 'acc_prof_after': 0.9654559505409582, 'tpr_before': 0.010753124575155391, 'tpr_after': 0.021812181466764453, 'leakage': 0.00046367851622874934}, {'acc_prof_before': 0.9591962905718702, 'acc_prof_after': 0.9651468315301391, 'tpr_before': 0.006942802752739164, 'tpr_after': 0.02382433584721145, 'leakage': 0.00046367851622874934}, {'acc_prof_before': 0.9608191653786707, 'acc_prof_after': 0.9656877897990727, 'tpr_before': 0.0027464647320299836, 'tpr_after': 0.022353134221271553, 'leakage': 0.00046367851622874934}, {'acc_prof_before': 0.9591190108191654, 'acc_prof_after': 0.965919629057187, 'tpr_before': 0.003203492631606701, 'tpr_after': 0.02031306832615417, 'leakage': 0.00046367851622874934}]\n",
      "================================\n",
      "Now examinaing journalist attorney with frac= 0.8\n",
      "Learning first projection for  journalist\n"
     ]
    },
    {
     "name": "stderr",
     "output_type": "stream",
     "text": [
      "9000/60000. Acc post-projection: 80.015%; best so-far: 80.015%; Maj: 80.000%; Gap: 0.015%; best loss so far: 0.505:  15%|#5        | 9000/60000 [10:15<58:09, 14.62it/s]    \n"
     ]
    },
    {
     "name": "stdout",
     "output_type": "stream",
     "text": [
      "Learning second projection for  attorney\n"
     ]
    },
    {
     "name": "stderr",
     "output_type": "stream",
     "text": [
      "8000/60000. Acc post-projection: 80.015%; best so-far: 80.015%; Maj: 80.000%; Gap: 0.015%; best loss so far: 0.503:  13%|#3        | 8000/60000 [09:09<59:32, 14.55it/s]    \n"
     ]
    },
    {
     "name": "stdout",
     "output_type": "stream",
     "text": [
      "0.9627511591962906 0.004313584536662667\n",
      "0.9626738794435857 0.001527375222260616\n",
      "0.9621329211746522 0.0009945546890442927\n",
      "0.9616692426584235 0.004736341063420074\n",
      "0.9613601236476044 0.0023858363669297836\n",
      "0.9623647604327666 0.0013661259296494255\n",
      "0.9608191653786707 0.010862204634366705\n",
      "0.9621329211746522 0.00427883203059311\n",
      "0.9622874806800619 0.0037686261984410736\n",
      "0.9632148377125194 0.0018379344658462388\n",
      "journalist attorney 0.8 [{'acc_prof_before': 0.9627511591962906, 'acc_prof_after': 0.968160741885626, 'tpr_before': 0.004313584536662667, 'tpr_after': 0.022238918920443017, 'leakage': 0.0003091190108190922}, {'acc_prof_before': 0.9626738794435857, 'acc_prof_after': 0.9693199381761979, 'tpr_before': 0.001527375222260616, 'tpr_after': 0.02117671457933623, 'leakage': 0.0003091190108190922}, {'acc_prof_before': 0.9621329211746522, 'acc_prof_after': 0.9670788253477589, 'tpr_before': 0.0009945546890442927, 'tpr_after': 0.016939961527653067, 'leakage': 0.0003091190108190922}, {'acc_prof_before': 0.9616692426584235, 'acc_prof_after': 0.9690880989180835, 'tpr_before': 0.004736341063420074, 'tpr_after': 0.02011176797457922, 'leakage': 0.0003091190108190922}, {'acc_prof_before': 0.9613601236476044, 'acc_prof_after': 0.9679289026275116, 'tpr_before': 0.0023858363669297836, 'tpr_after': 0.017623553990697417, 'leakage': 0.0003091190108190922}, {'acc_prof_before': 0.9623647604327666, 'acc_prof_after': 0.9683925811437404, 'tpr_before': 0.0013661259296494255, 'tpr_after': 0.023204042019830586, 'leakage': 0.0003091190108190922}, {'acc_prof_before': 0.9608191653786707, 'acc_prof_after': 0.9694744976816074, 'tpr_before': 0.010862204634366705, 'tpr_after': 0.02300938938324481, 'leakage': 0.0003091190108190922}, {'acc_prof_before': 0.9621329211746522, 'acc_prof_after': 0.9682380216383307, 'tpr_before': 0.00427883203059311, 'tpr_after': 0.021315504886128215, 'leakage': 0.0003091190108190922}, {'acc_prof_before': 0.9622874806800619, 'acc_prof_after': 0.9691653786707882, 'tpr_before': 0.0037686261984410736, 'tpr_after': 0.02259111358966023, 'leakage': 0.0003091190108190922}, {'acc_prof_before': 0.9632148377125194, 'acc_prof_after': 0.9674652241112829, 'tpr_before': 0.0018379344658462388, 'tpr_after': 0.01846090607646798, 'leakage': 0.0003091190108190922}]\n",
      "================================\n",
      "Now examinaing journalist attorney with frac= 0.9\n",
      "Learning first projection for  journalist\n"
     ]
    },
    {
     "name": "stderr",
     "output_type": "stream",
     "text": [
      "10000/60000. Acc post-projection: 90.015%; best so-far: 90.015%; Maj: 90.000%; Gap: 0.015%; best loss so far: 0.313:  17%|#6        | 10000/60000 [08:56<44:43, 18.63it/s] \n"
     ]
    },
    {
     "name": "stdout",
     "output_type": "stream",
     "text": [
      "Learning second projection for  attorney\n"
     ]
    },
    {
     "name": "stderr",
     "output_type": "stream",
     "text": [
      "11000/60000. Acc post-projection: 90.015%; best so-far: 90.015%; Maj: 90.000%; Gap: 0.015%; best loss so far: 0.323:  18%|#8        | 11000/60000 [09:58<44:25, 18.38it/s]   \n"
     ]
    },
    {
     "name": "stdout",
     "output_type": "stream",
     "text": [
      "0.9558732612055642 0.0061919135762733574\n",
      "0.9568006182380216 0.0037072012957105934\n",
      "0.9563369397217929 0.005322331175446223\n",
      "0.9551004636785162 0.003233414113646309\n",
      "0.9547913446676971 0.005560801943565869\n",
      "0.9561823802163834 0.0007286004958130164\n",
      "0.9572642967542504 0.0015786344075949619\n",
      "0.9561051004636785 0.0037703071269277154\n",
      "0.955564142194745 0.004296752877622068\n",
      "0.9563369397217929 0.002419543672266126\n",
      "journalist attorney 0.9 [{'acc_prof_before': 0.9558732612055642, 'acc_prof_after': 0.9739567233384853, 'tpr_before': 0.0061919135762733574, 'tpr_after': 0.023937172293006875, 'leakage': 0.00046367851622874934}, {'acc_prof_before': 0.9568006182380216, 'acc_prof_after': 0.9731839258114374, 'tpr_before': 0.0037072012957105934, 'tpr_after': 0.0228233451142058, 'leakage': 0.00046367851622874934}, {'acc_prof_before': 0.9563369397217929, 'acc_prof_after': 0.973724884080371, 'tpr_before': 0.005322331175446223, 'tpr_after': 0.02496040160355258, 'leakage': 0.00046367851622874934}, {'acc_prof_before': 0.9551004636785162, 'acc_prof_after': 0.9747295208655332, 'tpr_before': 0.003233414113646309, 'tpr_after': 0.024391194646054562, 'leakage': 0.00046367851622874934}, {'acc_prof_before': 0.9547913446676971, 'acc_prof_after': 0.9744976816074189, 'tpr_before': 0.005560801943565869, 'tpr_after': 0.021217166699612596, 'leakage': 0.00046367851622874934}, {'acc_prof_before': 0.9561823802163834, 'acc_prof_after': 0.972952086553323, 'tpr_before': 0.0007286004958130164, 'tpr_after': 0.01966246631540427, 'leakage': 0.00046367851622874934}, {'acc_prof_before': 0.9572642967542504, 'acc_prof_after': 0.973724884080371, 'tpr_before': 0.0015786344075949619, 'tpr_after': 0.024283039918022536, 'leakage': 0.00046367851622874934}, {'acc_prof_before': 0.9561051004636785, 'acc_prof_after': 0.9738794435857805, 'tpr_before': 0.0037703071269277154, 'tpr_after': 0.026008871991089134, 'leakage': 0.00046367851622874934}, {'acc_prof_before': 0.955564142194745, 'acc_prof_after': 0.9738021638330757, 'tpr_before': 0.004296752877622068, 'tpr_after': 0.024922267244340785, 'leakage': 0.00046367851622874934}, {'acc_prof_before': 0.9563369397217929, 'acc_prof_after': 0.9734930448222565, 'tpr_before': 0.002419543672266126, 'tpr_after': 0.02311353572179451, 'leakage': 0.00046367851622874934}]\n",
      "================================\n",
      "Now examinaing physician professor with frac= 0.1\n",
      "Learning first projection for  physician\n"
     ]
    },
    {
     "name": "stderr",
     "output_type": "stream",
     "text": [
      "9000/60000. Acc post-projection: 90.438%; best so-far: 90.438%; Maj: 90.002%; Gap: 0.436%; best loss so far: 0.296:  15%|#5        | 9072/60000 [11:19<4:01:23,  3.52it/s] IOPub message rate exceeded.\n",
      "The notebook server will temporarily stop sending output\n",
      "to the client in order to avoid crashing it.\n",
      "To change this limit, set the config variable\n",
      "`--NotebookApp.iopub_msg_rate_limit`.\n",
      "\n",
      "Current values:\n",
      "NotebookApp.iopub_msg_rate_limit=1000.0 (msgs/sec)\n",
      "NotebookApp.rate_limit_window=3.0 (secs)\n",
      "\n",
      "59000/60000. Acc post-projection: 50.863%; best so-far: 50.223%; Maj: 50.000%; Gap: 0.223%; best loss so far: 0.699: 100%|##########| 60000/60000 [1:54:12<00:00,  8.76it/s]   \n"
     ]
    },
    {
     "name": "stdout",
     "output_type": "stream",
     "text": [
      "0.9471804859951771 0.00510193750305138\n",
      "0.9460675199406419 0.002782415136338312\n",
      "0.9461602671118531 0.008459843629004917\n",
      "0.9472732331663885 0.0032869681221794882\n",
      "0.9463921350398813 0.005063010225915819\n",
      "0.9468558708959377 0.003608806614421014\n",
      "0.946809497310332 0.010480840724553181\n",
      "0.9459283991838249 0.002053046152956616\n",
      "0.9458356520126137 0.003420346673082174\n",
      "0.9467631237247264 0.002474803202397762\n",
      "physician professor 0.5 [{'acc_prof_before': 0.9471804859951771, 'acc_prof_after': 0.9504730105731776, 'tpr_before': 0.00510193750305138, 'tpr_after': 0.010302870767574685, 'leakage': 0.04934149508439989}, {'acc_prof_before': 0.9460675199406419, 'acc_prof_after': 0.9500556483027268, 'tpr_before': 0.002782415136338312, 'tpr_after': 0.010595121182337077, 'leakage': 0.04934149508439989}, {'acc_prof_before': 0.9461602671118531, 'acc_prof_after': 0.9496382860322761, 'tpr_before': 0.008459843629004917, 'tpr_after': 0.007939504566511914, 'leakage': 0.04934149508439989}, {'acc_prof_before': 0.9472732331663885, 'acc_prof_after': 0.9502875162307549, 'tpr_before': 0.0032869681221794882, 'tpr_after': 0.008010692962971305, 'leakage': 0.04934149508439989}, {'acc_prof_before': 0.9463921350398813, 'acc_prof_after': 0.950148395473938, 'tpr_before': 0.005063010225915819, 'tpr_after': 0.009802283502589793, 'leakage': 0.04934149508439989}, {'acc_prof_before': 0.9468558708959377, 'acc_prof_after': 0.9499629011315155, 'tpr_before': 0.003608806614421014, 'tpr_after': 0.008823176400686547, 'leakage': 0.04934149508439989}, {'acc_prof_before': 0.946809497310332, 'acc_prof_after': 0.9490818030050083, 'tpr_before': 0.010480840724553181, 'tpr_after': 0.00920956526604074, 'leakage': 0.04934149508439989}, {'acc_prof_before': 0.9459283991838249, 'acc_prof_after': 0.9497310332034873, 'tpr_before': 0.002053046152956616, 'tpr_after': 0.010382713388355778, 'leakage': 0.04934149508439989}, {'acc_prof_before': 0.9458356520126137, 'acc_prof_after': 0.9501947690595437, 'tpr_before': 0.003420346673082174, 'tpr_after': 0.010540584414895473, 'leakage': 0.04934149508439989}, {'acc_prof_before': 0.9467631237247264, 'acc_prof_after': 0.9499165275459098, 'tpr_before': 0.002474803202397762, 'tpr_after': 0.010342869122204149, 'leakage': 0.04934149508439989}]\n",
      "================================\n",
      "Now examinaing physician professor with frac= 0.6\n",
      "Learning first projection for  physician\n"
     ]
    },
    {
     "name": "stderr",
     "output_type": "stream",
     "text": [
      "19000/60000. Acc post-projection: 60.211%; best so-far: 60.211%; Maj: 59.998%; Gap: 0.213%; best loss so far: 0.677:  32%|###1      | 19074/60000 [35:52<4:38:10,  2.45it/s] IOPub message rate exceeded.\n",
      "The notebook server will temporarily stop sending output\n",
      "to the client in order to avoid crashing it.\n",
      "To change this limit, set the config variable\n",
      "`--NotebookApp.iopub_msg_rate_limit`.\n",
      "\n",
      "Current values:\n",
      "NotebookApp.iopub_msg_rate_limit=1000.0 (msgs/sec)\n",
      "NotebookApp.rate_limit_window=3.0 (secs)\n",
      "\n",
      "36000/60000. Acc post-projection: 60.017%; best so-far: 60.017%; Maj: 60.017%; Gap: 0.000%; best loss so far: 0.725:  60%|######    | 36000/60000 [10:47<07:11, 55.59it/s]  \n"
     ]
    },
    {
     "name": "stdout",
     "output_type": "stream",
     "text": [
      "Learning second projection for  attorney\n"
     ]
    },
    {
     "name": "stderr",
     "output_type": "stream",
     "text": [
      "37000/60000. Acc post-projection: 59.584%; best so-far: 59.931%; Maj: 60.017%; Gap: 0.087%; best loss so far: 0.765:  63%|######3   | 37904/60000 [11:17<01:32, 237.64it/s] IOPub message rate exceeded.\n",
      "The notebook server will temporarily stop sending output\n",
      "to the client in order to avoid crashing it.\n",
      "To change this limit, set the config variable\n",
      "`--NotebookApp.iopub_msg_rate_limit`.\n",
      "\n",
      "Current values:\n",
      "NotebookApp.iopub_msg_rate_limit=1000.0 (msgs/sec)\n",
      "NotebookApp.rate_limit_window=3.0 (secs)\n",
      "\n",
      "59000/60000. Acc post-projection: 52.559%; best so-far: 50.911%; Maj: 50.043%; Gap: 0.867%; best loss so far: 0.780: 100%|##########| 60000/60000 [18:19<00:00, 54.57it/s] \n"
     ]
    },
    {
     "name": "stdout",
     "output_type": "stream",
     "text": [
      "0.9787510841283608 0.02346404848357255\n",
      "0.9783174327840416 0.013742309149042408\n",
      "0.9726799653078925 0.014393608615738933\n",
      "0.981786643538595 0.0200023129065353\n",
      "0.9765828274067649 0.02582119443597529\n",
      "0.9778837814397224 0.021195163667236054\n",
      "0.9800520381613183 0.019808976146442208\n",
      "0.9778837814397224 0.03222581929666809\n",
      "0.9770164787510841 0.010451271241541491\n",
      "0.9735472679965308 0.03493858546908911\n",
      "nurse attorney 0.5 [{'acc_prof_before': 0.9787510841283608, 'acc_prof_after': 0.9839549002601908, 'tpr_before': 0.02346404848357255, 'tpr_after': 0.008946266873294268, 'leakage': 0.028187337380745858}, {'acc_prof_before': 0.9783174327840416, 'acc_prof_after': 0.9835212489158717, 'tpr_before': 0.013742309149042408, 'tpr_after': 0.004925402797817679, 'leakage': 0.028187337380745858}, {'acc_prof_before': 0.9726799653078925, 'acc_prof_after': 0.9835212489158717, 'tpr_before': 0.014393608615738933, 'tpr_after': 0.0071560368187199175, 'leakage': 0.028187337380745858}, {'acc_prof_before': 0.981786643538595, 'acc_prof_after': 0.98438855160451, 'tpr_before': 0.0200023129065353, 'tpr_after': 0.006248018955865096, 'leakage': 0.028187337380745858}, {'acc_prof_before': 0.9765828274067649, 'acc_prof_after': 0.9839549002601908, 'tpr_before': 0.02582119443597529, 'tpr_after': 0.0036978021136520353, 'leakage': 0.028187337380745858}, {'acc_prof_before': 0.9778837814397224, 'acc_prof_after': 0.9830875975715525, 'tpr_before': 0.021195163667236054, 'tpr_after': 0.002770736004946211, 'leakage': 0.028187337380745858}, {'acc_prof_before': 0.9800520381613183, 'acc_prof_after': 0.9848222029488292, 'tpr_before': 0.019808976146442208, 'tpr_after': 0.006614910331639749, 'leakage': 0.028187337380745858}, {'acc_prof_before': 0.9778837814397224, 'acc_prof_after': 0.9856895056374675, 'tpr_before': 0.03222581929666809, 'tpr_after': 0.005071950410068772, 'leakage': 0.028187337380745858}, {'acc_prof_before': 0.9770164787510841, 'acc_prof_after': 0.9830875975715525, 'tpr_before': 0.010451271241541491, 'tpr_after': 0.006101916705318179, 'leakage': 0.028187337380745858}, {'acc_prof_before': 0.9735472679965308, 'acc_prof_after': 0.9848222029488292, 'tpr_before': 0.03493858546908911, 'tpr_after': 0.006137289085359224, 'leakage': 0.028187337380745858}]\n",
      "================================\n",
      "Now examinaing nurse attorney with frac= 0.6\n",
      "Learning first projection for  nurse\n"
     ]
    },
    {
     "name": "stderr",
     "output_type": "stream",
     "text": [
      "27000/60000. Acc post-projection: 59.931%; best so-far: 59.931%; Maj: 59.931%; Gap: 0.000%; best loss so far: 0.744:  45%|####5     | 27000/60000 [08:07<09:56, 55.34it/s]  \n"
     ]
    },
    {
     "name": "stdout",
     "output_type": "stream",
     "text": [
      "Learning second projection for  attorney\n"
     ]
    },
    {
     "name": "stderr",
     "output_type": "stream",
     "text": [
      "34000/60000. Acc post-projection: 57.502%; best so-far: 59.844%; Maj: 59.931%; Gap: 0.087%; best loss so far: 0.771:  57%|#####7    | 34475/60000 [10:23<02:09, 197.58it/s] IOPub message rate exceeded.\n",
      "The notebook server will temporarily stop sending output\n",
      "to the client in order to avoid crashing it.\n",
      "To change this limit, set the config variable\n",
      "`--NotebookApp.iopub_msg_rate_limit`.\n",
      "\n",
      "Current values:\n",
      "NotebookApp.iopub_msg_rate_limit=1000.0 (msgs/sec)\n",
      "NotebookApp.rate_limit_window=3.0 (secs)\n",
      "\n"
     ]
    }
   ],
   "source": [
    "from collections import defaultdict\n",
    "pair2frac2tprs = defaultdict(dict)\n",
    "pair2frac2Ps = defaultdict(dict)\n",
    "\n",
    "num_classifiers = 10\n",
    "\n",
    "def get_leakage(frac,P,X,y):\n",
    "    \n",
    "    vals = []\n",
    "    \n",
    "    for i in range(50):\n",
    "        clf = init_classifier()\n",
    "        clf.fit(X@P,y)\n",
    "        score = clf.score(X@P,y)\n",
    "        leakage =  score - max(frac,1-frac)\n",
    "        vals.append(leakage)\n",
    "    \n",
    "    return np.max(vals)\n",
    "\n",
    "for (prof1, prof2) in [(\"dentist\", \"physician\"), (\"psychologist\", \"professor\"),  (\"nurse\", \"physician\"), (\"journalist\", \"attorney\"), (\"physician\", \"professor\"), (\"nurse\", \"attorney\")]:\n",
    "    for frac in [0.1, 0.2, 0.3, 0.4, 0.5, 0.6, 0.7, 0.8, 0.9]:\n",
    "        print(\"Now examinaing\", prof1, prof2, \"with frac=\", frac)\n",
    "        \n",
    "        with open(\"projs-imbalanced/{}-{}-prop={}.pickle\".format(prof1, prof2, frac), \"rb\") as f:\n",
    "            data = pickle.load(f)\n",
    "            x_train_binary, train_profs_binary, train_gender_binary = data[\"train\"][\"x\"], data[\"train\"][\"profs\"], data[\"train\"][\"gender\"]\n",
    "            x_dev_binary, dev_profs_binary, dev_gender_binary = data[\"dev\"][\"x\"], data[\"dev\"][\"profs\"], data[\"dev\"][\"gender\"]\n",
    "            output = data[\"output\"]\n",
    "            \n",
    "        x_train_binary_projected = x_train_binary.copy()\n",
    "            \n",
    "        x_train_prof = x_train_binary[train_profs_binary==prof1]\n",
    "        y_train_prof = train_gender_binary[train_profs_binary==prof1]\n",
    "        print(\"Learning first projection for \", prof1)\n",
    "        output = solve_adv_game(x_train_prof, y_train_prof, x_train_prof, y_train_prof, rank=rank, device=\"cuda:0\", out_iters=num_iters, optimizer_class=optimizer_class, optimizer_params_P =optimizer_params_P, optimizer_params_predictor=optimizer_params_predictor, epsilon=epsilon,batch_size=batch_size)\n",
    "        P_prof1 = output[\"P\"]\n",
    "        leakage_prof1 = get_leakage(frac,P_prof1,x_train_prof,y_train_prof)\n",
    "        x_train_prof = x_train_binary[train_profs_binary==prof2]\n",
    "        y_train_prof = train_gender_binary[train_profs_binary==prof2]\n",
    "        print(\"Learning second projection for \", prof2)\n",
    "        output = solve_adv_game(x_train_prof, y_train_prof, x_train_prof, y_train_prof, rank=rank, device=\"cuda:0\", out_iters=num_iters, optimizer_class=optimizer_class, optimizer_params_P =optimizer_params_P, optimizer_params_predictor=optimizer_params_predictor, epsilon=epsilon,batch_size=batch_size)\n",
    "        P_prof2 = output[\"P\"]\n",
    "        leakage_prof2 = get_leakage(frac,P_prof2,x_train_prof,y_train_prof)\n",
    "        \n",
    "        leakage = max(leakage_prof1, leakage_prof2)\n",
    "        x_train_binary_projected[train_profs_binary==prof1]= x_train_binary_projected[train_profs_binary==prof1] @ P_prof1\n",
    "        x_train_binary_projected[train_profs_binary==prof2]= x_train_binary_projected[train_profs_binary==prof2] @ P_prof2\n",
    "\n",
    "        results = []\n",
    "        pair2frac2Ps[prof1+\"-\"+prof2][frac] = {prof1: {\"P\": P_prof1, \"leakage\": leakage_prof1},\n",
    "                                              prof2: {\"P\": P_prof2, \"leakage\": leakage_prof2} }\n",
    "        \n",
    "        for i in range(num_classifiers):\n",
    "        \n",
    "            clf = init_classifier()\n",
    "            clf.fit(x_train_binary, train_profs_binary)\n",
    "            tpr_before=eval_tpr_rms(clf, x_train_binary, train_gender_binary, train_profs_binary)\n",
    "            score_before=clf.score(x_train_binary_projected, train_profs_binary)\n",
    "            print(score_before,tpr_before)\n",
    "            \n",
    "            clf = init_classifier()\n",
    "            clf.fit(x_train_binary_projected, train_profs_binary)\n",
    "            tpr_after=eval_tpr_rms(clf, x_train_binary_projected, train_gender_binary, train_profs_binary)\n",
    "            score_after=clf.score(x_train_binary_projected, train_profs_binary)\n",
    "            \n",
    "            results.append({\"acc_prof_before\": score_before, \"acc_prof_after\": score_after, \"tpr_before\": tpr_before,\n",
    "                           \"tpr_after\": tpr_after, \"leakage\": leakage})\n",
    "        \n",
    "        print(prof1, prof2, frac, results)\n",
    "        print(\"================================\")\n",
    "        pair2frac2tprs[prof1+\"-\"+prof2][frac] = results"
   ]
  },
  {
   "cell_type": "code",
   "execution_count": null,
   "metadata": {},
   "outputs": [],
   "source": [
    "# clf = init_classifier()\n",
    "# clf.fit(x_train_binary_projected, train_profs_binary)\n",
    "# tpr_after=eval_tpr_rms(clf, x_train_binary_projected, train_gender_binary, train_profs_binary)\n",
    "# score_after=clf.score(x_train_binary_projected, train_profs_binary)\n",
    "# preds = clf.predict(x_train_binary_projected)\n",
    "# preds = [1 if p==\"professor\" else 0 for p in preds]\n",
    "# leakage = 0.5 - (preds==train_gender_binary).mean()\n",
    "# leakage, tpr_after"
   ]
  },
  {
   "cell_type": "code",
   "execution_count": 1,
   "metadata": {},
   "outputs": [
    {
     "ename": "NameError",
     "evalue": "name 'prof1' is not defined",
     "output_type": "error",
     "traceback": [
      "\u001b[0;31m---------------------------------------------------------------------------\u001b[0m",
      "\u001b[0;31mNameError\u001b[0m                                 Traceback (most recent call last)",
      "\u001b[0;32m<ipython-input-1-f3e208aae3db>\u001b[0m in \u001b[0;36m<module>\u001b[0;34m\u001b[0m\n\u001b[0;32m----> 1\u001b[0;31m \u001b[0;32mwith\u001b[0m \u001b[0mopen\u001b[0m\u001b[0;34m(\u001b[0m\u001b[0;34m\"projs3/{}-{}-prop={}.pickle\"\u001b[0m\u001b[0;34m.\u001b[0m\u001b[0mformat\u001b[0m\u001b[0;34m(\u001b[0m\u001b[0mprof1\u001b[0m\u001b[0;34m,\u001b[0m \u001b[0mprof2\u001b[0m\u001b[0;34m,\u001b[0m \u001b[0mfrac\u001b[0m\u001b[0;34m)\u001b[0m\u001b[0;34m,\u001b[0m \u001b[0;34m\"rb\"\u001b[0m\u001b[0;34m)\u001b[0m \u001b[0;32mas\u001b[0m \u001b[0mf\u001b[0m\u001b[0;34m:\u001b[0m\u001b[0;34m\u001b[0m\u001b[0;34m\u001b[0m\u001b[0m\n\u001b[0m\u001b[1;32m      2\u001b[0m             \u001b[0mdata\u001b[0m \u001b[0;34m=\u001b[0m \u001b[0mpickle\u001b[0m\u001b[0;34m.\u001b[0m\u001b[0mload\u001b[0m\u001b[0;34m(\u001b[0m\u001b[0mf\u001b[0m\u001b[0;34m)\u001b[0m\u001b[0;34m\u001b[0m\u001b[0;34m\u001b[0m\u001b[0m\n\u001b[1;32m      3\u001b[0m             \u001b[0mx_train_binary\u001b[0m\u001b[0;34m,\u001b[0m \u001b[0mtrain_profs_binary\u001b[0m\u001b[0;34m,\u001b[0m \u001b[0mtrain_gender_binary\u001b[0m \u001b[0;34m=\u001b[0m \u001b[0mdata\u001b[0m\u001b[0;34m[\u001b[0m\u001b[0;34m\"train\"\u001b[0m\u001b[0;34m]\u001b[0m\u001b[0;34m[\u001b[0m\u001b[0;34m\"x\"\u001b[0m\u001b[0;34m]\u001b[0m\u001b[0;34m,\u001b[0m \u001b[0mdata\u001b[0m\u001b[0;34m[\u001b[0m\u001b[0;34m\"train\"\u001b[0m\u001b[0;34m]\u001b[0m\u001b[0;34m[\u001b[0m\u001b[0;34m\"profs\"\u001b[0m\u001b[0;34m]\u001b[0m\u001b[0;34m,\u001b[0m \u001b[0mdata\u001b[0m\u001b[0;34m[\u001b[0m\u001b[0;34m\"train\"\u001b[0m\u001b[0;34m]\u001b[0m\u001b[0;34m[\u001b[0m\u001b[0;34m\"gender\"\u001b[0m\u001b[0;34m]\u001b[0m\u001b[0;34m\u001b[0m\u001b[0;34m\u001b[0m\u001b[0m\n\u001b[1;32m      4\u001b[0m             \u001b[0mx_dev_binary\u001b[0m\u001b[0;34m,\u001b[0m \u001b[0mdev_profs_binary\u001b[0m\u001b[0;34m,\u001b[0m \u001b[0mdev_gender_binary\u001b[0m \u001b[0;34m=\u001b[0m \u001b[0mdata\u001b[0m\u001b[0;34m[\u001b[0m\u001b[0;34m\"dev\"\u001b[0m\u001b[0;34m]\u001b[0m\u001b[0;34m[\u001b[0m\u001b[0;34m\"x\"\u001b[0m\u001b[0;34m]\u001b[0m\u001b[0;34m,\u001b[0m \u001b[0mdata\u001b[0m\u001b[0;34m[\u001b[0m\u001b[0;34m\"dev\"\u001b[0m\u001b[0;34m]\u001b[0m\u001b[0;34m[\u001b[0m\u001b[0;34m\"profs\"\u001b[0m\u001b[0;34m]\u001b[0m\u001b[0;34m,\u001b[0m \u001b[0mdata\u001b[0m\u001b[0;34m[\u001b[0m\u001b[0;34m\"dev\"\u001b[0m\u001b[0;34m]\u001b[0m\u001b[0;34m[\u001b[0m\u001b[0;34m\"gender\"\u001b[0m\u001b[0;34m]\u001b[0m\u001b[0;34m\u001b[0m\u001b[0;34m\u001b[0m\u001b[0m\n\u001b[1;32m      5\u001b[0m             \u001b[0moutput\u001b[0m \u001b[0;34m=\u001b[0m \u001b[0mdata\u001b[0m\u001b[0;34m[\u001b[0m\u001b[0;34m\"output\"\u001b[0m\u001b[0;34m]\u001b[0m\u001b[0;34m\u001b[0m\u001b[0;34m\u001b[0m\u001b[0m\n",
      "\u001b[0;31mNameError\u001b[0m: name 'prof1' is not defined"
     ]
    }
   ],
   "source": [
    "with open(\"projs3/{}-{}-prop={}.pickle\".format(prof1, prof2, frac), \"rb\") as f:\n",
    "            data = pickle.load(f)\n",
    "            x_train_binary, train_profs_binary, train_gender_binary = data[\"train\"][\"x\"], data[\"train\"][\"profs\"], data[\"train\"][\"gender\"]\n",
    "            x_dev_binary, dev_profs_binary, dev_gender_binary = data[\"dev\"][\"x\"], data[\"dev\"][\"profs\"], data[\"dev\"][\"gender\"]\n",
    "            output = data[\"output\"]\n",
    "            \n",
    "x_train_binary_projected = x_train_binary.copy()\n",
    "            \n",
    "x_train_prof = x_train_binary[train_profs_binary==prof1]\n",
    "y_train_prof = train_gender_binary[train_profs_binary==prof1]\n",
    "\n",
    "output = solve_adv_game(x_train_prof, y_train_prof, x_train_prof, y_train_prof, rank=rank, device=\"cuda:1\", out_iters=num_iters, optimizer_class=optimizer_class, optimizer_params_P =optimizer_params_P, optimizer_params_predictor=optimizer_params_predictor, epsilon=epsilon,batch_size=batch_size)\n",
    "P = output[\"P\"]\n",
    "print(output[\"score\"], prof1, prof2, frac)"
   ]
  },
  {
   "cell_type": "code",
   "execution_count": 113,
   "metadata": {},
   "outputs": [
    {
     "name": "stdout",
     "output_type": "stream",
     "text": [
      "here 0.2 0.7992689613158697\n",
      "here 0.2 0.8059701492537313\n",
      "here 0.2 0.8001827596710326\n",
      "here 0.2 0.8004873591227536\n",
      "here 0.2 0.8017057569296375\n",
      "here 0.2 0.7130673164788304\n",
      "here 0.2 0.7395674687785562\n",
      "here 0.2 0.7490100517819068\n",
      "here 0.2 0.8001827596710326\n",
      "here 0.2 0.6500152299725861\n",
      "leakage 0.005970149253731294\n",
      "0.8001827596710326\n",
      "0.8007919585744746\n",
      "0.7809929942126104\n",
      "0.791958574474566\n",
      "0.7989643618641487\n",
      "0.7608894303990252\n",
      "0.7989643618641487\n",
      "0.7962229667986598\n",
      "0.7879987816021932\n",
      "0.8010965580261955\n"
     ]
    }
   ],
   "source": [
    "\n",
    "\n",
    "\n",
    "print(\"leakage\", get_leakage(frac,P,x_train_prof,y_train_prof))\n",
    "\n",
    "for i in range(10):\n",
    "    clf = init_classifier()\n",
    "    clf.fit(x_train_prof@output[\"P\"], y_train_prof)\n",
    "    print(clf.score(x_train_prof@output[\"P\"], y_train_prof))"
   ]
  },
  {
   "cell_type": "code",
   "execution_count": 91,
   "metadata": {},
   "outputs": [
    {
     "data": {
      "text/plain": [
       "(0.8001827596710326, 'dentist', 'physician', 0.2, 0.7998781602193116)"
      ]
     },
     "execution_count": 91,
     "metadata": {},
     "output_type": "execute_result"
    }
   ],
   "source": [
    "y_train_prof.mean(), prof1, prof2, frac, output[\"score\"]"
   ]
  },
  {
   "cell_type": "code",
   "execution_count": 68,
   "metadata": {},
   "outputs": [],
   "source": [
    "def construct_gender_classifier_from_profession_classifier(profession_classifier, X,y_prof,y_gender):\n",
    "    \n",
    "    pass"
   ]
  },
  {
   "cell_type": "code",
   "execution_count": 10,
   "metadata": {},
   "outputs": [],
   "source": [
    "with open(\"pair2frac2tprs-per-class-imbalanced.pickle\", \"wb\") as f:\n",
    "    pickle.dump(pair2frac2tprs, f)\n",
    "    \n",
    "with open(\"pair2frac2Ps-per-class-imbalanced.pickle\", \"wb\") as f:\n",
    "    pickle.dump(pair2frac2Ps, f)"
   ]
  },
  {
   "cell_type": "code",
   "execution_count": null,
   "metadata": {},
   "outputs": [],
   "source": [
    "with open(\"pair2frac2tprs-per-class.pickle\", \"rb\") as f:\n",
    "    pair2frac2tprs = pickle.load(f)"
   ]
  },
  {
   "cell_type": "code",
   "execution_count": null,
   "metadata": {},
   "outputs": [],
   "source": [
    "from collections import defaultdict\n",
    "pair2frac2tprs = defaultdict(dict)\n",
    "num_classifiers = 5\n",
    "\n",
    "for (prof1, prof2) in [(\"nurse\", \"physician\"), (\"journalist\", \"attorney\"), (\"physician\", \"professor\"), (\"nurse\", \"attorney\")]:\n",
    "    for frac in [0.1, 0.2, 0.3, 0.4, 0.5]:\n",
    "        \n",
    "        with open(\"projs-imbalanced/{}-{}-prop={}.pickle\".format(prof1, prof2, frac), \"rb\") as f:\n",
    "            data = pickle.load(f)\n",
    "            x_train_binary, train_profs_binary, train_gender_binary = data[\"train\"][\"x\"], data[\"train\"][\"profs\"], data[\"train\"][\"gender\"]\n",
    "            x_dev_binary, dev_profs_binary, dev_gender_binary = data[\"dev\"][\"x\"], data[\"dev\"][\"profs\"], data[\"dev\"][\"gender\"]\n",
    "            output = data[\"output\"]\n",
    "            \n",
    "        x_train_binary_projected = x_train_binary.copy()\n",
    "            \n",
    "        x_train_prof = x_train_binary[train_profs_binary==prof1]\n",
    "        y_train_prof = train_gender_binary[train_profs_binary==prof1]\n",
    "\n",
    "        with open(\"projs2/{}-{}-prop={}.pickle\".format(prof1,prof2,frac), \"rb\") as f:\n",
    "            out = pickle.load(f)\n",
    "            P_prof1 = out[\"output\"][\"P\"]\n",
    "            P_prof2 = out[\"output\"][\"P\"]\n",
    "        \n",
    "        x_train_binary_projected[train_profs_binary==prof1]= x_train_binary_projected[train_profs_binary==prof1] @ P_prof1\n",
    "        x_train_binary_projected[train_profs_binary==prof2]= x_train_binary_projected[train_profs_binary==prof2] @ P_prof2\n",
    "\n",
    "        results = []\n",
    "        \n",
    "        for i in range(num_classifiers):\n",
    "        \n",
    "            clf = init_classifier()\n",
    "            clf.fit(x_train_binary, train_profs_binary)\n",
    "            tpr_before=eval_tpr_rms(clf, x_train_binary, train_gender_binary, train_profs_binary)\n",
    "            score_before=clf.score(x_train_binary, train_profs_binary)\n",
    "            print(score_before,tpr_before)\n",
    "            \n",
    "            clf = init_classifier()\n",
    "            clf.fit(x_train_binary_projected, train_profs_binary)\n",
    "            tpr_after=eval_tpr_rms(clf, x_train_binary_projected, train_gender_binary, train_profs_binary)\n",
    "            score_after=clf.score(x_train_binary_projected, train_profs_binary)\n",
    "            results.append({\"acc_prof_before\": score_before, \"acc_prof_after\": score_after, \"tpr_before\": tpr_before,\n",
    "                           \"tpr_after\": tpr_after})\n",
    "        \n",
    "        print(prof1, prof2, frac, results)\n",
    "        print(\"================================\")\n",
    "        pair2frac2tprs[prof1+\"-\"+prof2][frac] = results\n",
    "        \n",
    "\n",
    "with open(\"pair2frac2tprs-global.pickle\", \"wb\") as f:\n",
    "    pickle.dump(pair2frac2tprs, f)"
   ]
  },
  {
   "cell_type": "code",
   "execution_count": null,
   "metadata": {},
   "outputs": [],
   "source": []
  },
  {
   "cell_type": "code",
   "execution_count": 11,
   "metadata": {},
   "outputs": [],
   "source": [
    "tpr_after_means = defaultdict(dict)\n",
    "tpr_after_stds = defaultdict(dict)\n",
    "tpr_before_means = defaultdict(dict)\n",
    "tpr_before_stds = defaultdict(dict)\n",
    "tpr_diff_means = defaultdict(dict)\n",
    "\n",
    "\n",
    "score_before_means = defaultdict(dict)\n",
    "score_after_means = defaultdict(dict)\n",
    "\n",
    "score_before_stds = defaultdict(dict)\n",
    "score_after_stds = defaultdict(dict)\n",
    "leakage = defaultdict(dict)\n",
    "\n",
    "\n",
    "for profs in pair2frac2tprs.keys():\n",
    "    for ratio in pair2frac2tprs[profs].keys():\n",
    "        tpr_after_means[profs][ratio] =  np.mean([d[\"tpr_after\"] for d in pair2frac2tprs[profs][ratio]])*100\n",
    "        tpr_before_means[profs][ratio] = np.mean([d[\"tpr_before\"] for d in pair2frac2tprs[profs][ratio]])*100\n",
    "        tpr_diff_means[profs][ratio] = np.mean([np.abs(d[\"tpr_before\"]-d[\"tpr_after\"]) for d in pair2frac2tprs[profs][ratio]])*100\n",
    "        score_before_means[profs][ratio] = np.mean([d[\"acc_prof_before\"] for d in pair2frac2tprs[profs][ratio]])*100\n",
    "        score_after_means[profs][ratio] = np.mean([d[\"acc_prof_after\"] for d in pair2frac2tprs[profs][ratio]])*100\n",
    "        \n",
    "        tpr_after_stds[profs][ratio] =  np.std([d[\"tpr_after\"] for d in pair2frac2tprs[profs][ratio]])*100\n",
    "        tpr_before_stds[profs][ratio] = np.std([d[\"tpr_before\"] for d in pair2frac2tprs[profs][ratio]])*100\n",
    "        score_before_stds[profs][ratio] = np.std([d[\"acc_prof_before\"] for d in pair2frac2tprs[profs][ratio]])*100\n",
    "        score_after_stds[profs][ratio] = np.std([d[\"acc_prof_after\"] for d in pair2frac2tprs[profs][ratio]])*100\n",
    "        leakage[profs][ratio] = np.mean([d[\"leakage\"] for d in pair2frac2tprs[profs][ratio]])*100"
   ]
  },
  {
   "cell_type": "code",
   "execution_count": 12,
   "metadata": {},
   "outputs": [
    {
     "data": {
      "text/plain": [
       "defaultdict(dict,\n",
       "            {'dentist-physician': {0.1: 2.148646487469643,\n",
       "              0.2: 2.6353201623254807,\n",
       "              0.3: 1.8543133550338462,\n",
       "              0.4: 0.6811445925107932,\n",
       "              0.5: 0.7960962176798774,\n",
       "              0.6: 1.2377455153035637,\n",
       "              0.7: 0.7964356480817588,\n",
       "              0.8: 0.7593739972353819,\n",
       "              0.9: 1.3821915307680155},\n",
       "             'psychologist-professor': {0.1: 0.8389707639245871,\n",
       "              0.2: 0.9798698614406912,\n",
       "              0.3: 1.0175600561591158,\n",
       "              0.4: 0.8216352811295824,\n",
       "              0.5: 1.3252280807493844,\n",
       "              0.6: 0.9526294435559014,\n",
       "              0.7: 0.6844717742163408,\n",
       "              0.8: 3.189212194506838,\n",
       "              0.9: 3.199942425084405},\n",
       "             'nurse-physician': {0.1: 3.215799513210107,\n",
       "              0.2: 2.717144939306358,\n",
       "              0.3: 1.6415489802288727,\n",
       "              0.4: 1.946820729301844,\n",
       "              0.5: 2.0502602850680014,\n",
       "              0.6: 1.4477187411386008,\n",
       "              0.7: 2.087562725270129,\n",
       "              0.8: 2.5927397454009244,\n",
       "              0.9: 4.612062940897037},\n",
       "             'journalist-attorney': {0.1: 0.7930237753469627,\n",
       "              0.2: 0.25379046763448737,\n",
       "              0.3: 0.28023271282616846,\n",
       "              0.4: 0.26089032666269757,\n",
       "              0.5: 0.44700443707201065,\n",
       "              0.6: 1.086081064382598,\n",
       "              0.7: 1.6106898623305304,\n",
       "              0.8: 1.706004578108268,\n",
       "              0.9: 1.9850996086221742},\n",
       "             'physician-professor': {0.1: 3.190224725926393,\n",
       "              0.2: 1.6148146506225862,\n",
       "              0.3: 0.9685518064362566,\n",
       "              0.4: 0.31276637800283685,\n",
       "              0.5: 0.5280059263227768,\n",
       "              0.6: 1.0710454677469954,\n",
       "              0.7: 2.3395660232107827,\n",
       "              0.8: 3.662726220743287,\n",
       "              0.9: 4.288408887825314},\n",
       "             'nurse-attorney': {0.1: 0.8793627437366326,\n",
       "              0.2: 0.7763512102549686,\n",
       "              0.3: 0.4269793526101383,\n",
       "              0.4: 0.8254614673375323,\n",
       "              0.5: 1.5837295931516029,\n",
       "              0.6: 1.0886301647104226,\n",
       "              0.7: 0.5921611280716057,\n",
       "              0.8: 0.7599374088935661,\n",
       "              0.9: 0.731211449369117}})"
      ]
     },
     "execution_count": 12,
     "metadata": {},
     "output_type": "execute_result"
    }
   ],
   "source": [
    "tpr_diff_means"
   ]
  },
  {
   "cell_type": "code",
   "execution_count": 13,
   "metadata": {},
   "outputs": [
    {
     "name": "stderr",
     "output_type": "stream",
     "text": [
      "/home/nlp/ravfogs/anaconda3/envs/py3/lib/python3.7/site-packages/seaborn/_decorators.py:43: FutureWarning: Pass the following variables as keyword args: x, y. From version 0.12, the only valid positional argument will be `data`, and passing other arguments without an explicit keyword will result in an error or misinterpretation.\n",
      "  FutureWarning\n",
      "/home/nlp/ravfogs/anaconda3/envs/py3/lib/python3.7/site-packages/seaborn/_decorators.py:43: FutureWarning: Pass the following variables as keyword args: x, y. From version 0.12, the only valid positional argument will be `data`, and passing other arguments without an explicit keyword will result in an error or misinterpretation.\n",
      "  FutureWarning\n",
      "/home/nlp/ravfogs/anaconda3/envs/py3/lib/python3.7/site-packages/seaborn/_decorators.py:43: FutureWarning: Pass the following variables as keyword args: x, y. From version 0.12, the only valid positional argument will be `data`, and passing other arguments without an explicit keyword will result in an error or misinterpretation.\n",
      "  FutureWarning\n",
      "/home/nlp/ravfogs/anaconda3/envs/py3/lib/python3.7/site-packages/seaborn/_decorators.py:43: FutureWarning: Pass the following variables as keyword args: x, y. From version 0.12, the only valid positional argument will be `data`, and passing other arguments without an explicit keyword will result in an error or misinterpretation.\n",
      "  FutureWarning\n",
      "/home/nlp/ravfogs/anaconda3/envs/py3/lib/python3.7/site-packages/seaborn/_decorators.py:43: FutureWarning: Pass the following variables as keyword args: x, y. From version 0.12, the only valid positional argument will be `data`, and passing other arguments without an explicit keyword will result in an error or misinterpretation.\n",
      "  FutureWarning\n",
      "/home/nlp/ravfogs/anaconda3/envs/py3/lib/python3.7/site-packages/seaborn/_decorators.py:43: FutureWarning: Pass the following variables as keyword args: x, y. From version 0.12, the only valid positional argument will be `data`, and passing other arguments without an explicit keyword will result in an error or misinterpretation.\n",
      "  FutureWarning\n",
      "/home/nlp/ravfogs/anaconda3/envs/py3/lib/python3.7/site-packages/seaborn/_decorators.py:43: FutureWarning: Pass the following variables as keyword args: x, y. From version 0.12, the only valid positional argument will be `data`, and passing other arguments without an explicit keyword will result in an error or misinterpretation.\n",
      "  FutureWarning\n",
      "/home/nlp/ravfogs/anaconda3/envs/py3/lib/python3.7/site-packages/seaborn/_decorators.py:43: FutureWarning: Pass the following variables as keyword args: x, y. From version 0.12, the only valid positional argument will be `data`, and passing other arguments without an explicit keyword will result in an error or misinterpretation.\n",
      "  FutureWarning\n",
      "/home/nlp/ravfogs/anaconda3/envs/py3/lib/python3.7/site-packages/seaborn/_decorators.py:43: FutureWarning: Pass the following variables as keyword args: x, y. From version 0.12, the only valid positional argument will be `data`, and passing other arguments without an explicit keyword will result in an error or misinterpretation.\n",
      "  FutureWarning\n",
      "/home/nlp/ravfogs/anaconda3/envs/py3/lib/python3.7/site-packages/seaborn/_decorators.py:43: FutureWarning: Pass the following variables as keyword args: x, y. From version 0.12, the only valid positional argument will be `data`, and passing other arguments without an explicit keyword will result in an error or misinterpretation.\n",
      "  FutureWarning\n",
      "/home/nlp/ravfogs/anaconda3/envs/py3/lib/python3.7/site-packages/seaborn/_decorators.py:43: FutureWarning: Pass the following variables as keyword args: x, y. From version 0.12, the only valid positional argument will be `data`, and passing other arguments without an explicit keyword will result in an error or misinterpretation.\n",
      "  FutureWarning\n",
      "/home/nlp/ravfogs/anaconda3/envs/py3/lib/python3.7/site-packages/seaborn/_decorators.py:43: FutureWarning: Pass the following variables as keyword args: x, y. From version 0.12, the only valid positional argument will be `data`, and passing other arguments without an explicit keyword will result in an error or misinterpretation.\n",
      "  FutureWarning\n",
      "/home/nlp/ravfogs/anaconda3/envs/py3/lib/python3.7/site-packages/seaborn/_decorators.py:43: FutureWarning: Pass the following variables as keyword args: x, y. From version 0.12, the only valid positional argument will be `data`, and passing other arguments without an explicit keyword will result in an error or misinterpretation.\n",
      "  FutureWarning\n",
      "/home/nlp/ravfogs/anaconda3/envs/py3/lib/python3.7/site-packages/seaborn/_decorators.py:43: FutureWarning: Pass the following variables as keyword args: x, y. From version 0.12, the only valid positional argument will be `data`, and passing other arguments without an explicit keyword will result in an error or misinterpretation.\n",
      "  FutureWarning\n",
      "/home/nlp/ravfogs/anaconda3/envs/py3/lib/python3.7/site-packages/seaborn/_decorators.py:43: FutureWarning: Pass the following variables as keyword args: x, y. From version 0.12, the only valid positional argument will be `data`, and passing other arguments without an explicit keyword will result in an error or misinterpretation.\n",
      "  FutureWarning\n",
      "/home/nlp/ravfogs/anaconda3/envs/py3/lib/python3.7/site-packages/seaborn/_decorators.py:43: FutureWarning: Pass the following variables as keyword args: x, y. From version 0.12, the only valid positional argument will be `data`, and passing other arguments without an explicit keyword will result in an error or misinterpretation.\n",
      "  FutureWarning\n",
      "/home/nlp/ravfogs/anaconda3/envs/py3/lib/python3.7/site-packages/seaborn/_decorators.py:43: FutureWarning: Pass the following variables as keyword args: x, y. From version 0.12, the only valid positional argument will be `data`, and passing other arguments without an explicit keyword will result in an error or misinterpretation.\n",
      "  FutureWarning\n",
      "/home/nlp/ravfogs/anaconda3/envs/py3/lib/python3.7/site-packages/seaborn/_decorators.py:43: FutureWarning: Pass the following variables as keyword args: x, y. From version 0.12, the only valid positional argument will be `data`, and passing other arguments without an explicit keyword will result in an error or misinterpretation.\n",
      "  FutureWarning\n",
      "/home/nlp/ravfogs/anaconda3/envs/py3/lib/python3.7/site-packages/seaborn/_decorators.py:43: FutureWarning: Pass the following variables as keyword args: x, y. From version 0.12, the only valid positional argument will be `data`, and passing other arguments without an explicit keyword will result in an error or misinterpretation.\n",
      "  FutureWarning\n",
      "/home/nlp/ravfogs/anaconda3/envs/py3/lib/python3.7/site-packages/seaborn/_decorators.py:43: FutureWarning: Pass the following variables as keyword args: x, y. From version 0.12, the only valid positional argument will be `data`, and passing other arguments without an explicit keyword will result in an error or misinterpretation.\n",
      "  FutureWarning\n",
      "/home/nlp/ravfogs/anaconda3/envs/py3/lib/python3.7/site-packages/seaborn/_decorators.py:43: FutureWarning: Pass the following variables as keyword args: x, y. From version 0.12, the only valid positional argument will be `data`, and passing other arguments without an explicit keyword will result in an error or misinterpretation.\n",
      "  FutureWarning\n",
      "/home/nlp/ravfogs/anaconda3/envs/py3/lib/python3.7/site-packages/seaborn/_decorators.py:43: FutureWarning: Pass the following variables as keyword args: x, y. From version 0.12, the only valid positional argument will be `data`, and passing other arguments without an explicit keyword will result in an error or misinterpretation.\n",
      "  FutureWarning\n",
      "/home/nlp/ravfogs/anaconda3/envs/py3/lib/python3.7/site-packages/seaborn/_decorators.py:43: FutureWarning: Pass the following variables as keyword args: x, y. From version 0.12, the only valid positional argument will be `data`, and passing other arguments without an explicit keyword will result in an error or misinterpretation.\n",
      "  FutureWarning\n",
      "/home/nlp/ravfogs/anaconda3/envs/py3/lib/python3.7/site-packages/seaborn/_decorators.py:43: FutureWarning: Pass the following variables as keyword args: x, y. From version 0.12, the only valid positional argument will be `data`, and passing other arguments without an explicit keyword will result in an error or misinterpretation.\n",
      "  FutureWarning\n"
     ]
    },
    {
     "data": {
      "text/plain": [
       "<Figure size 432x288 with 0 Axes>"
      ]
     },
     "metadata": {},
     "output_type": "display_data"
    },
    {
     "data": {
      "text/plain": [
       "<Figure size 432x288 with 0 Axes>"
      ]
     },
     "metadata": {},
     "output_type": "display_data"
    },
    {
     "data": {
      "text/plain": [
       "<Figure size 432x288 with 0 Axes>"
      ]
     },
     "metadata": {},
     "output_type": "display_data"
    },
    {
     "data": {
      "text/plain": [
       "<Figure size 432x288 with 0 Axes>"
      ]
     },
     "metadata": {},
     "output_type": "display_data"
    },
    {
     "data": {
      "text/plain": [
       "<Figure size 432x288 with 0 Axes>"
      ]
     },
     "metadata": {},
     "output_type": "display_data"
    },
    {
     "data": {
      "text/plain": [
       "<Figure size 432x288 with 0 Axes>"
      ]
     },
     "metadata": {},
     "output_type": "display_data"
    },
    {
     "data": {
      "text/plain": [
       "<Figure size 432x288 with 0 Axes>"
      ]
     },
     "metadata": {},
     "output_type": "display_data"
    },
    {
     "data": {
      "text/plain": [
       "<Figure size 432x288 with 0 Axes>"
      ]
     },
     "metadata": {},
     "output_type": "display_data"
    },
    {
     "data": {
      "text/plain": [
       "<Figure size 432x288 with 0 Axes>"
      ]
     },
     "metadata": {},
     "output_type": "display_data"
    },
    {
     "data": {
      "text/plain": [
       "<Figure size 432x288 with 0 Axes>"
      ]
     },
     "metadata": {},
     "output_type": "display_data"
    },
    {
     "data": {
      "text/plain": [
       "<Figure size 432x288 with 0 Axes>"
      ]
     },
     "metadata": {},
     "output_type": "display_data"
    },
    {
     "data": {
      "text/plain": [
       "<Figure size 432x288 with 0 Axes>"
      ]
     },
     "metadata": {},
     "output_type": "display_data"
    },
    {
     "data": {
      "image/png": "[encoded data removed]",
      "text/plain": [
       "<Figure size 432x288 with 1 Axes>"
      ]
     },
     "metadata": {
      "needs_background": "light"
     },
     "output_type": "display_data"
    }
   ],
   "source": [
    "# os.mkdir(\"tpr-2d\")\n",
    "# os.mkdir(\"acc-2d\")\n",
    "\n",
    "import matplotlib.pyplot as plt\n",
    "keys = [0.1, 0.2, 0.3, 0.4, 0.5, 0.6, 0.7, 0.8, 0.9]\n",
    "colors = [\"blue\"] * len(keys)\n",
    "\n",
    "i=0\n",
    "#for prof,color in zip([\"nurse-physician\"], colors): #zip(tpr_before_means.keys(),colors):\n",
    "for prof,color in zip(tpr_before_means.keys(),colors):\n",
    "    plt.clf()\n",
    "    plt.figure()\n",
    "    stds_before = [tpr_before_stds[prof][k] for k in keys]\n",
    "    values = [tpr_before_means[prof][k] for k in keys] #list(tpr_before_means[prof].values())\n",
    "    \n",
    "    ax = sn.lineplot(keys, values, label=prof+\" (Before)\", marker=\"*\", markersize=8, linestyle=\"--\",color=color, ci=stds_before)\n",
    "    #plt.errorbar(keys, values, stds_before, color=color, linestyle=\"--\")\n",
    "    \n",
    "    stds_after = [tpr_after_stds[prof][k] for k in keys]\n",
    "    values = [tpr_after_means[prof][k] for k in keys]\n",
    "    sn.lineplot(keys, values, label=prof+\" (After)\", marker=\"*\", markersize=8,color=color)\n",
    "    plt.errorbar(keys, values, stds_after, color=color)\n",
    "    ax.set(ylabel=\"TPR-Gap (%)\", xlabel=\"% imbalance\")\n",
    "    plt.savefig(\"tpr-imbalanced/{}-per-class.pdf\".format(prof), dpi=500)\n",
    "    \n",
    "    \n",
    "    \n",
    "    plt.clf()\n",
    "    plt.figure()\n",
    "    stds_before = [score_before_stds[prof][k] for k in keys]\n",
    "    values = [score_before_means[prof][k] for k in keys]\n",
    "    ax = sn.lineplot(keys, values, label=prof+\" (Before)\", marker=\"*\", markersize=8, linestyle=\"--\",color=color, ci=stds_before)\n",
    "    plt.errorbar(keys, values, stds_before, color=color, linestyle=\"--\")\n",
    "    \n",
    "    stds_after = [score_after_stds[prof][k] for k in keys]\n",
    "    values =[score_after_means[prof][k] for k in keys]\n",
    "    sn.lineplot(keys, values, label=prof+\" (After)\", marker=\"*\", markersize=8,color=color)\n",
    "    plt.errorbar(keys, values, stds_after, color=color)\n",
    "    ax.set(ylabel=\"Profession Accuracy (%)\", xlabel=\"% imbalance\")\n",
    "    plt.savefig(\"acc-imbalanced/{}-per-class.pdf\".format(prof), dpi=500)"
   ]
  },
  {
   "cell_type": "code",
   "execution_count": 14,
   "metadata": {},
   "outputs": [
    {
     "name": "stderr",
     "output_type": "stream",
     "text": [
      "/home/nlp/ravfogs/anaconda3/envs/py3/lib/python3.7/site-packages/seaborn/_decorators.py:43: FutureWarning: Pass the following variables as keyword args: x, y. From version 0.12, the only valid positional argument will be `data`, and passing other arguments without an explicit keyword will result in an error or misinterpretation.\n",
      "  FutureWarning\n",
      "/home/nlp/ravfogs/anaconda3/envs/py3/lib/python3.7/site-packages/seaborn/_decorators.py:43: FutureWarning: Pass the following variables as keyword args: x, y. From version 0.12, the only valid positional argument will be `data`, and passing other arguments without an explicit keyword will result in an error or misinterpretation.\n",
      "  FutureWarning\n",
      "/home/nlp/ravfogs/anaconda3/envs/py3/lib/python3.7/site-packages/seaborn/_decorators.py:43: FutureWarning: Pass the following variables as keyword args: x, y. From version 0.12, the only valid positional argument will be `data`, and passing other arguments without an explicit keyword will result in an error or misinterpretation.\n",
      "  FutureWarning\n",
      "/home/nlp/ravfogs/anaconda3/envs/py3/lib/python3.7/site-packages/seaborn/_decorators.py:43: FutureWarning: Pass the following variables as keyword args: x, y. From version 0.12, the only valid positional argument will be `data`, and passing other arguments without an explicit keyword will result in an error or misinterpretation.\n",
      "  FutureWarning\n",
      "/home/nlp/ravfogs/anaconda3/envs/py3/lib/python3.7/site-packages/seaborn/_decorators.py:43: FutureWarning: Pass the following variables as keyword args: x, y. From version 0.12, the only valid positional argument will be `data`, and passing other arguments without an explicit keyword will result in an error or misinterpretation.\n",
      "  FutureWarning\n",
      "/home/nlp/ravfogs/anaconda3/envs/py3/lib/python3.7/site-packages/seaborn/_decorators.py:43: FutureWarning: Pass the following variables as keyword args: x, y. From version 0.12, the only valid positional argument will be `data`, and passing other arguments without an explicit keyword will result in an error or misinterpretation.\n",
      "  FutureWarning\n"
     ]
    },
    {
     "data": {
      "text/plain": [
       "<Figure size 432x288 with 0 Axes>"
      ]
     },
     "metadata": {},
     "output_type": "display_data"
    },
    {
     "data": {
      "text/plain": [
       "<Figure size 432x288 with 0 Axes>"
      ]
     },
     "metadata": {},
     "output_type": "display_data"
    },
    {
     "data": {
      "text/plain": [
       "<Figure size 432x288 with 0 Axes>"
      ]
     },
     "metadata": {},
     "output_type": "display_data"
    },
    {
     "data": {
      "text/plain": [
       "<Figure size 432x288 with 0 Axes>"
      ]
     },
     "metadata": {},
     "output_type": "display_data"
    },
    {
     "data": {
      "text/plain": [
       "<Figure size 432x288 with 0 Axes>"
      ]
     },
     "metadata": {},
     "output_type": "display_data"
    },
    {
     "data": {
      "text/plain": [
       "<Figure size 432x288 with 0 Axes>"
      ]
     },
     "metadata": {},
     "output_type": "display_data"
    },
    {
     "data": {
      "image/png": "[encoded data removed]",
      "text/plain": [
       "<Figure size 432x288 with 1 Axes>"
      ]
     },
     "metadata": {
      "needs_background": "light"
     },
     "output_type": "display_data"
    }
   ],
   "source": [
    "import matplotlib.pyplot as plt\n",
    "keys = [0.1, 0.2, 0.3, 0.4, 0.5, 0.6, 0.7, 0.8, 0.9]\n",
    "colors = [\"blue\"] * len(keys)\n",
    "\n",
    "i=0\n",
    "#for prof,color in zip([\"nurse-physician\"], colors): #zip(tpr_before_means.keys(),colors):\n",
    "for prof,color in zip(tpr_before_means.keys(),colors):\n",
    "    plt.clf()\n",
    "    plt.figure()\n",
    "    leakage_vals = [leakage[prof][k] for k in keys]\n",
    "    \n",
    "    ax = sn.scatterplot(keys, leakage_vals, label=prof+\" (Before)\")\n",
    "    #plt.errorbar(keys, values, stds_before, color=color, linestyle=\"--\")\n",
    "    ax.set(ylabel=\"Leakage (%)\", xlabel=\"% imbalance\")\n",
    "    plt.savefig(\"leakage-imbalanced/{}-per-class.pdf\".format(prof), dpi=500)\n"
   ]
  },
  {
   "cell_type": "code",
   "execution_count": null,
   "metadata": {},
   "outputs": [],
   "source": [
    "os.mkdir(\"leakage\")"
   ]
  },
  {
   "cell_type": "code",
   "execution_count": 574,
   "metadata": {},
   "outputs": [
    {
     "data": {
      "text/plain": [
       "defaultdict(dict,\n",
       "            {'nurse-physician': {0.15: 0.18479857547842812,\n",
       "              0.25: 0.24622844001003066,\n",
       "              0.1: 0.2818400140376761,\n",
       "              0.2: 0.1536864279849887,\n",
       "              0.3: 0.21420796244975882,\n",
       "              0.4: 0.19509491551087416,\n",
       "              0.5: 0.2015429321530295},\n",
       "             'journalist-attorney': {0.15: 0.054557535068697,\n",
       "              0.25: 0.03114287740279736,\n",
       "              0.1: 0.04863101305271159,\n",
       "              0.2: 0.015912875024709543,\n",
       "              0.3: 0.028749729888313823,\n",
       "              0.4: 0.0253967182768991,\n",
       "              0.5: 0.012556473577491295},\n",
       "             'physician-professor': {0.15: 0.031428571428571646,\n",
       "              0.25: 0.03843892584878293,\n",
       "              0.1: 0.0371428571428561,\n",
       "              0.2: 0.020503857277725628,\n",
       "              0.3: 0.02976095236571489,\n",
       "              0.4: 0.05256676997992862,\n",
       "              0.5: 0.026496052844273685},\n",
       "             'nurse-attorney': {0.15: 0.06718097738434316,\n",
       "              0.25: 0.0424889807941571,\n",
       "              0.1: 0.11764666059193771,\n",
       "              0.2: 0.03245149511512496,\n",
       "              0.3: 0.06938421509107118,\n",
       "              0.4: 0.03245149511512972,\n",
       "              0.5: 0.02124449039707855}})"
      ]
     },
     "execution_count": 574,
     "metadata": {},
     "output_type": "execute_result"
    }
   ],
   "source": [
    "score_before_stds"
   ]
  },
  {
   "cell_type": "code",
   "execution_count": 540,
   "metadata": {},
   "outputs": [],
   "source": [
    "with open(\"projs2/{}-{}-prop={}.pickle\".format(\"nurse\",\"physician\", 0.1), \"rb\") as f:\n",
    "            data = pickle.load(f)\n",
    "            x_train_binary, train_profs_binary, train_gender_binary = data[\"train\"][\"x\"], data[\"train\"][\"profs\"], data[\"train\"][\"gender\"]\n",
    "            x_dev_binary, dev_profs_binary, dev_gender_binary = data[\"dev\"][\"x\"], data[\"dev\"][\"profs\"], data[\"dev\"][\"gender\"]\n",
    "            output = data[\"output\"]\n",
    "\n",
    "clf = SGDClassifier() #init_classifier()\n",
    "clf.fit(x_train_binary, train_profs_binary)\n",
    "tpr_before=eval_tpr_rms(clf, x_train_binary, train_gender_binary, train_profs_binary)\n",
    "score_before=clf.score(x_train_binary, train_profs_binary)"
   ]
  },
  {
   "cell_type": "code",
   "execution_count": 541,
   "metadata": {},
   "outputs": [
    {
     "data": {
      "text/plain": [
       "0.9466608846487424"
      ]
     },
     "execution_count": 541,
     "metadata": {},
     "output_type": "execute_result"
    }
   ],
   "source": [
    "score_before"
   ]
  },
  {
   "cell_type": "code",
   "execution_count": 581,
   "metadata": {},
   "outputs": [
    {
     "name": "stderr",
     "output_type": "stream",
     "text": [
      "11000/60000. Acc post-projection: 90.026%; best so-far: 90.026%; Maj: 90.026%; Gap: 0.000%; best loss so far: 0.316:  18%|#8        | 11000/60000 [01:05<04:52, 167.72it/s]\n",
      "7000/60000. Acc post-projection: 80.052%; best so-far: 80.052%; Maj: 80.052%; Gap: 0.000%; best loss so far: 0.494:  12%|#1        | 7000/60000 [00:43<05:32, 159.18it/s] \n",
      "7000/60000. Acc post-projection: 70.078%; best so-far: 70.078%; Maj: 70.078%; Gap: 0.000%; best loss so far: 0.611:  12%|#1        | 7000/60000 [00:44<05:38, 156.58it/s] \n",
      "8000/60000. Acc post-projection: 60.017%; best so-far: 60.017%; Maj: 60.017%; Gap: 0.000%; best loss so far: 0.686:  13%|#3        | 8000/60000 [00:51<05:35, 154.93it/s] \n",
      "59000/60000. Acc post-projection: 51.605%; best so-far: 50.304%; Maj: 50.043%; Gap: 0.260%; best loss so far: 0.709: 100%|##########| 60000/60000 [06:43<00:00, 148.56it/s]\n",
      "1000/60000. Acc post-projection: 99.320%; best so-far: 99.320%; Maj: 90.000%; Gap: 9.320%; best loss so far: 0.020:   3%|3         | 2000/60000 [00:23<11:24, 84.71it/s]  \n"
     ]
    },
    {
     "ename": "KeyboardInterrupt",
     "evalue": "",
     "output_type": "error",
     "traceback": [
      "\u001b[0;31m---------------------------------------------------------------------------\u001b[0m",
      "\u001b[0;31mKeyboardInterrupt\u001b[0m                         Traceback (most recent call last)",
      "\u001b[0;32m<ipython-input-581-738096ccc3b5>\u001b[0m in \u001b[0;36m<module>\u001b[0;34m\u001b[0m\n\u001b[1;32m     14\u001b[0m         \u001b[0my_train_prof\u001b[0m \u001b[0;34m=\u001b[0m \u001b[0mtrain_gender_binary\u001b[0m\u001b[0;34m[\u001b[0m\u001b[0mtrain_profs_binary\u001b[0m\u001b[0;34m==\u001b[0m\u001b[0mprof1\u001b[0m\u001b[0;34m]\u001b[0m\u001b[0;34m\u001b[0m\u001b[0;34m\u001b[0m\u001b[0m\n\u001b[1;32m     15\u001b[0m \u001b[0;34m\u001b[0m\u001b[0m\n\u001b[0;32m---> 16\u001b[0;31m         \u001b[0moutput\u001b[0m \u001b[0;34m=\u001b[0m \u001b[0msolve_adv_game\u001b[0m\u001b[0;34m(\u001b[0m\u001b[0mx_train_prof\u001b[0m\u001b[0;34m,\u001b[0m \u001b[0my_train_prof\u001b[0m\u001b[0;34m,\u001b[0m \u001b[0mx_train_prof\u001b[0m\u001b[0;34m,\u001b[0m \u001b[0my_train_prof\u001b[0m\u001b[0;34m,\u001b[0m \u001b[0mrank\u001b[0m\u001b[0;34m=\u001b[0m\u001b[0mrank\u001b[0m\u001b[0;34m,\u001b[0m \u001b[0mdevice\u001b[0m\u001b[0;34m=\u001b[0m\u001b[0;34m\"cuda:1\"\u001b[0m\u001b[0;34m,\u001b[0m \u001b[0mout_iters\u001b[0m\u001b[0;34m=\u001b[0m\u001b[0mnum_iters\u001b[0m\u001b[0;34m,\u001b[0m \u001b[0moptimizer_class\u001b[0m\u001b[0;34m=\u001b[0m\u001b[0moptimizer_class\u001b[0m\u001b[0;34m,\u001b[0m \u001b[0moptimizer_params_P\u001b[0m \u001b[0;34m=\u001b[0m\u001b[0moptimizer_params_P\u001b[0m\u001b[0;34m,\u001b[0m \u001b[0moptimizer_params_predictor\u001b[0m\u001b[0;34m=\u001b[0m\u001b[0moptimizer_params_predictor\u001b[0m\u001b[0;34m,\u001b[0m \u001b[0mepsilon\u001b[0m\u001b[0;34m=\u001b[0m\u001b[0mepsilon\u001b[0m\u001b[0;34m,\u001b[0m\u001b[0mbatch_size\u001b[0m\u001b[0;34m=\u001b[0m\u001b[0mbatch_size\u001b[0m\u001b[0;34m)\u001b[0m\u001b[0;34m\u001b[0m\u001b[0;34m\u001b[0m\u001b[0m\n\u001b[0m\u001b[1;32m     17\u001b[0m         \u001b[0mP\u001b[0m \u001b[0;34m=\u001b[0m \u001b[0moutput\u001b[0m\u001b[0;34m[\u001b[0m\u001b[0;34m\"P\"\u001b[0m\u001b[0;34m]\u001b[0m\u001b[0;34m\u001b[0m\u001b[0;34m\u001b[0m\u001b[0m\n\u001b[1;32m     18\u001b[0m         \u001b[0mclf\u001b[0m \u001b[0;34m=\u001b[0m \u001b[0minit_classifier\u001b[0m\u001b[0;34m(\u001b[0m\u001b[0;34m)\u001b[0m\u001b[0;34m\u001b[0m\u001b[0;34m\u001b[0m\u001b[0m\n",
      "\u001b[0;32m~/bias/rlace.py\u001b[0m in \u001b[0;36msolve_adv_game\u001b[0;34m(X_train, y_train, X_dev, y_dev, rank, device, out_iters, in_iters_adv, in_iters_clf, epsilon, batch_size, evalaute_every, optimizer_class, optimizer_params_P, optimizer_params_predictor)\u001b[0m\n\u001b[1;32m    181\u001b[0m         \u001b[0;32mif\u001b[0m \u001b[0mi\u001b[0m \u001b[0;34m%\u001b[0m \u001b[0mevalaute_every\u001b[0m \u001b[0;34m==\u001b[0m \u001b[0;36m0\u001b[0m\u001b[0;34m:\u001b[0m\u001b[0;34m\u001b[0m\u001b[0;34m\u001b[0m\u001b[0m\n\u001b[1;32m    182\u001b[0m             \u001b[0;31m#pbar.set_description(\"Evaluating current adversary...\")\u001b[0m\u001b[0;34m\u001b[0m\u001b[0;34m\u001b[0m\u001b[0;34m\u001b[0m\u001b[0m\n\u001b[0;32m--> 183\u001b[0;31m             \u001b[0mscore\u001b[0m\u001b[0;34m,\u001b[0m \u001b[0mlossval\u001b[0m \u001b[0;34m=\u001b[0m \u001b[0mget_score\u001b[0m\u001b[0;34m(\u001b[0m\u001b[0mX_train\u001b[0m\u001b[0;34m,\u001b[0m \u001b[0my_train\u001b[0m\u001b[0;34m,\u001b[0m \u001b[0mX_train\u001b[0m\u001b[0;34m,\u001b[0m \u001b[0my_train\u001b[0m\u001b[0;34m,\u001b[0m \u001b[0mP\u001b[0m\u001b[0;34m.\u001b[0m\u001b[0mdetach\u001b[0m\u001b[0;34m(\u001b[0m\u001b[0;34m)\u001b[0m\u001b[0;34m.\u001b[0m\u001b[0mcpu\u001b[0m\u001b[0;34m(\u001b[0m\u001b[0;34m)\u001b[0m\u001b[0;34m.\u001b[0m\u001b[0mnumpy\u001b[0m\u001b[0;34m(\u001b[0m\u001b[0;34m)\u001b[0m\u001b[0;34m,\u001b[0m \u001b[0mrank\u001b[0m\u001b[0;34m)\u001b[0m\u001b[0;34m\u001b[0m\u001b[0;34m\u001b[0m\u001b[0m\n\u001b[0m\u001b[1;32m    184\u001b[0m             \u001b[0;32mif\u001b[0m \u001b[0mnp\u001b[0m\u001b[0;34m.\u001b[0m\u001b[0mabs\u001b[0m\u001b[0;34m(\u001b[0m\u001b[0mscore\u001b[0m \u001b[0;34m-\u001b[0m \u001b[0mmaj\u001b[0m\u001b[0;34m)\u001b[0m \u001b[0;34m<\u001b[0m \u001b[0mnp\u001b[0m\u001b[0;34m.\u001b[0m\u001b[0mabs\u001b[0m\u001b[0;34m(\u001b[0m\u001b[0mbest_score\u001b[0m \u001b[0;34m-\u001b[0m \u001b[0mmaj\u001b[0m\u001b[0;34m)\u001b[0m\u001b[0;34m:\u001b[0m\u001b[0;34m\u001b[0m\u001b[0;34m\u001b[0m\u001b[0m\n\u001b[1;32m    185\u001b[0m                 \u001b[0mbest_score\u001b[0m \u001b[0;34m=\u001b[0m \u001b[0mscore\u001b[0m\u001b[0;34m\u001b[0m\u001b[0;34m\u001b[0m\u001b[0m\n",
      "\u001b[0;32m~/bias/rlace.py\u001b[0m in \u001b[0;36mget_score\u001b[0;34m(X_train, y_train, X_dev, y_dev, P, rank)\u001b[0m\n\u001b[1;32m     37\u001b[0m     \u001b[0;32mfor\u001b[0m \u001b[0mi\u001b[0m \u001b[0;32min\u001b[0m \u001b[0mrange\u001b[0m\u001b[0;34m(\u001b[0m\u001b[0mNUM_CLFS_IN_EVAL\u001b[0m\u001b[0;34m)\u001b[0m\u001b[0;34m:\u001b[0m\u001b[0;34m\u001b[0m\u001b[0;34m\u001b[0m\u001b[0m\n\u001b[1;32m     38\u001b[0m         \u001b[0mclf\u001b[0m \u001b[0;34m=\u001b[0m \u001b[0minit_classifier\u001b[0m\u001b[0;34m(\u001b[0m\u001b[0;34m)\u001b[0m\u001b[0;34m\u001b[0m\u001b[0;34m\u001b[0m\u001b[0m\n\u001b[0;32m---> 39\u001b[0;31m         \u001b[0mclf\u001b[0m\u001b[0;34m.\u001b[0m\u001b[0mfit\u001b[0m\u001b[0;34m(\u001b[0m\u001b[0mX_train\u001b[0m\u001b[0;34m@\u001b[0m\u001b[0mP_svd\u001b[0m\u001b[0;34m,\u001b[0m \u001b[0my_train\u001b[0m\u001b[0;34m)\u001b[0m\u001b[0;34m\u001b[0m\u001b[0;34m\u001b[0m\u001b[0m\n\u001b[0m\u001b[1;32m     40\u001b[0m         \u001b[0mscores\u001b[0m\u001b[0;34m.\u001b[0m\u001b[0mappend\u001b[0m\u001b[0;34m(\u001b[0m\u001b[0mclf\u001b[0m\u001b[0;34m.\u001b[0m\u001b[0mscore\u001b[0m\u001b[0;34m(\u001b[0m\u001b[0mX_dev\u001b[0m\u001b[0;34m@\u001b[0m\u001b[0mP_svd\u001b[0m\u001b[0;34m,\u001b[0m \u001b[0my_dev\u001b[0m\u001b[0;34m)\u001b[0m\u001b[0;34m)\u001b[0m\u001b[0;34m\u001b[0m\u001b[0;34m\u001b[0m\u001b[0m\n\u001b[1;32m     41\u001b[0m         \u001b[0mloss_vals\u001b[0m\u001b[0;34m.\u001b[0m\u001b[0mappend\u001b[0m\u001b[0;34m(\u001b[0m\u001b[0msklearn\u001b[0m\u001b[0;34m.\u001b[0m\u001b[0mmetrics\u001b[0m\u001b[0;34m.\u001b[0m\u001b[0mlog_loss\u001b[0m\u001b[0;34m(\u001b[0m\u001b[0my_dev\u001b[0m\u001b[0;34m,\u001b[0m \u001b[0mclf\u001b[0m\u001b[0;34m.\u001b[0m\u001b[0mpredict_proba\u001b[0m\u001b[0;34m(\u001b[0m\u001b[0mX_dev\u001b[0m\u001b[0;34m@\u001b[0m\u001b[0mP_svd\u001b[0m\u001b[0;34m)\u001b[0m\u001b[0;34m)\u001b[0m\u001b[0;34m)\u001b[0m\u001b[0;34m\u001b[0m\u001b[0;34m\u001b[0m\u001b[0m\n",
      "\u001b[0;32m~/anaconda3/envs/py3/lib/python3.7/site-packages/sklearn/linear_model/_stochastic_gradient.py\u001b[0m in \u001b[0;36mfit\u001b[0;34m(self, X, y, coef_init, intercept_init, sample_weight)\u001b[0m\n\u001b[1;32m    890\u001b[0m             \u001b[0mcoef_init\u001b[0m\u001b[0;34m=\u001b[0m\u001b[0mcoef_init\u001b[0m\u001b[0;34m,\u001b[0m\u001b[0;34m\u001b[0m\u001b[0;34m\u001b[0m\u001b[0m\n\u001b[1;32m    891\u001b[0m             \u001b[0mintercept_init\u001b[0m\u001b[0;34m=\u001b[0m\u001b[0mintercept_init\u001b[0m\u001b[0;34m,\u001b[0m\u001b[0;34m\u001b[0m\u001b[0;34m\u001b[0m\u001b[0m\n\u001b[0;32m--> 892\u001b[0;31m             \u001b[0msample_weight\u001b[0m\u001b[0;34m=\u001b[0m\u001b[0msample_weight\u001b[0m\u001b[0;34m,\u001b[0m\u001b[0;34m\u001b[0m\u001b[0;34m\u001b[0m\u001b[0m\n\u001b[0m\u001b[1;32m    893\u001b[0m         )\n\u001b[1;32m    894\u001b[0m \u001b[0;34m\u001b[0m\u001b[0m\n",
      "\u001b[0;32m~/anaconda3/envs/py3/lib/python3.7/site-packages/sklearn/linear_model/_stochastic_gradient.py\u001b[0m in \u001b[0;36m_fit\u001b[0;34m(self, X, y, alpha, C, loss, learning_rate, coef_init, intercept_init, sample_weight)\u001b[0m\n\u001b[1;32m    686\u001b[0m             \u001b[0msample_weight\u001b[0m\u001b[0;34m,\u001b[0m\u001b[0;34m\u001b[0m\u001b[0;34m\u001b[0m\u001b[0m\n\u001b[1;32m    687\u001b[0m             \u001b[0mcoef_init\u001b[0m\u001b[0;34m,\u001b[0m\u001b[0;34m\u001b[0m\u001b[0;34m\u001b[0m\u001b[0m\n\u001b[0;32m--> 688\u001b[0;31m             \u001b[0mintercept_init\u001b[0m\u001b[0;34m,\u001b[0m\u001b[0;34m\u001b[0m\u001b[0;34m\u001b[0m\u001b[0m\n\u001b[0m\u001b[1;32m    689\u001b[0m         )\n\u001b[1;32m    690\u001b[0m \u001b[0;34m\u001b[0m\u001b[0m\n",
      "\u001b[0;32m~/anaconda3/envs/py3/lib/python3.7/site-packages/sklearn/linear_model/_stochastic_gradient.py\u001b[0m in \u001b[0;36m_partial_fit\u001b[0;34m(self, X, y, alpha, C, loss, learning_rate, max_iter, classes, sample_weight, coef_init, intercept_init)\u001b[0m\n\u001b[1;32m    625\u001b[0m                 \u001b[0mlearning_rate\u001b[0m\u001b[0;34m=\u001b[0m\u001b[0mlearning_rate\u001b[0m\u001b[0;34m,\u001b[0m\u001b[0;34m\u001b[0m\u001b[0;34m\u001b[0m\u001b[0m\n\u001b[1;32m    626\u001b[0m                 \u001b[0msample_weight\u001b[0m\u001b[0;34m=\u001b[0m\u001b[0msample_weight\u001b[0m\u001b[0;34m,\u001b[0m\u001b[0;34m\u001b[0m\u001b[0;34m\u001b[0m\u001b[0m\n\u001b[0;32m--> 627\u001b[0;31m                 \u001b[0mmax_iter\u001b[0m\u001b[0;34m=\u001b[0m\u001b[0mmax_iter\u001b[0m\u001b[0;34m,\u001b[0m\u001b[0;34m\u001b[0m\u001b[0;34m\u001b[0m\u001b[0m\n\u001b[0m\u001b[1;32m    628\u001b[0m             )\n\u001b[1;32m    629\u001b[0m         \u001b[0;32melse\u001b[0m\u001b[0;34m:\u001b[0m\u001b[0;34m\u001b[0m\u001b[0;34m\u001b[0m\u001b[0m\n",
      "\u001b[0;32m~/anaconda3/envs/py3/lib/python3.7/site-packages/sklearn/linear_model/_stochastic_gradient.py\u001b[0m in \u001b[0;36m_fit_binary\u001b[0;34m(self, X, y, alpha, C, sample_weight, learning_rate, max_iter)\u001b[0m\n\u001b[1;32m    716\u001b[0m             \u001b[0mself\u001b[0m\u001b[0;34m.\u001b[0m\u001b[0m_expanded_class_weight\u001b[0m\u001b[0;34m[\u001b[0m\u001b[0;36m0\u001b[0m\u001b[0;34m]\u001b[0m\u001b[0;34m,\u001b[0m\u001b[0;34m\u001b[0m\u001b[0;34m\u001b[0m\u001b[0m\n\u001b[1;32m    717\u001b[0m             \u001b[0msample_weight\u001b[0m\u001b[0;34m,\u001b[0m\u001b[0;34m\u001b[0m\u001b[0;34m\u001b[0m\u001b[0m\n\u001b[0;32m--> 718\u001b[0;31m             \u001b[0mrandom_state\u001b[0m\u001b[0;34m=\u001b[0m\u001b[0mself\u001b[0m\u001b[0;34m.\u001b[0m\u001b[0mrandom_state\u001b[0m\u001b[0;34m,\u001b[0m\u001b[0;34m\u001b[0m\u001b[0;34m\u001b[0m\u001b[0m\n\u001b[0m\u001b[1;32m    719\u001b[0m         )\n\u001b[1;32m    720\u001b[0m \u001b[0;34m\u001b[0m\u001b[0m\n",
      "\u001b[0;32m~/anaconda3/envs/py3/lib/python3.7/site-packages/sklearn/linear_model/_stochastic_gradient.py\u001b[0m in \u001b[0;36mfit_binary\u001b[0;34m(est, i, X, y, alpha, C, learning_rate, max_iter, pos_weight, neg_weight, sample_weight, validation_mask, random_state)\u001b[0m\n\u001b[1;32m    476\u001b[0m         \u001b[0mest\u001b[0m\u001b[0;34m.\u001b[0m\u001b[0mt_\u001b[0m\u001b[0;34m,\u001b[0m\u001b[0;34m\u001b[0m\u001b[0;34m\u001b[0m\u001b[0m\n\u001b[1;32m    477\u001b[0m         \u001b[0mintercept_decay\u001b[0m\u001b[0;34m,\u001b[0m\u001b[0;34m\u001b[0m\u001b[0;34m\u001b[0m\u001b[0m\n\u001b[0;32m--> 478\u001b[0;31m         \u001b[0mest\u001b[0m\u001b[0;34m.\u001b[0m\u001b[0maverage\u001b[0m\u001b[0;34m,\u001b[0m\u001b[0;34m\u001b[0m\u001b[0;34m\u001b[0m\u001b[0m\n\u001b[0m\u001b[1;32m    479\u001b[0m     )\n\u001b[1;32m    480\u001b[0m \u001b[0;34m\u001b[0m\u001b[0m\n",
      "\u001b[0;31mKeyboardInterrupt\u001b[0m: "
     ]
    }
   ],
   "source": [
    "prof2frac2acc = defaultdict(dict)\n",
    "for (prof1, prof2) in [(\"nurse\", \"physician\"), (\"journalist\", \"attorney\"), (\"physician\", \"professor\")]:\n",
    "    for frac in [0.1, 0.2, 0.3, 0.4, 0.5]:\n",
    "        \n",
    "        with open(\"projs2/{}-{}-prop={}.pickle\".format(prof1, prof2, frac), \"rb\") as f:\n",
    "            data = pickle.load(f)\n",
    "            x_train_binary, train_profs_binary, train_gender_binary = data[\"train\"][\"x\"], data[\"train\"][\"profs\"], data[\"train\"][\"gender\"]\n",
    "            x_dev_binary, dev_profs_binary, dev_gender_binary = data[\"dev\"][\"x\"], data[\"dev\"][\"profs\"], data[\"dev\"][\"gender\"]\n",
    "            output = data[\"output\"]\n",
    "            \n",
    "        x_train_binary_projected = x_train_binary.copy()\n",
    "            \n",
    "        x_train_prof = x_train_binary[train_profs_binary==prof1]\n",
    "        y_train_prof = train_gender_binary[train_profs_binary==prof1]\n",
    "\n",
    "        output = solve_adv_game(x_train_prof, y_train_prof, x_train_prof, y_train_prof, rank=rank, device=\"cuda:1\", out_iters=num_iters, optimizer_class=optimizer_class, optimizer_params_P =optimizer_params_P, optimizer_params_predictor=optimizer_params_predictor, epsilon=epsilon,batch_size=batch_size)\n",
    "        P = output[\"P\"]\n",
    "        clf = init_classifier()\n",
    "        clf.fit(x_train_prof@P, y_train_prof)\n",
    "        prof2frac2acc[prof1][frac] = clf.score(x_train_prof@P, y_train_prof)"
   ]
  },
  {
   "cell_type": "code",
   "execution_count": 589,
   "metadata": {},
   "outputs": [
    {
     "name": "stderr",
     "output_type": "stream",
     "text": [
      "/home/nlp/ravfogs/anaconda3/envs/py3/lib/python3.7/site-packages/seaborn/_decorators.py:43: FutureWarning: Pass the following variables as keyword args: x, y. From version 0.12, the only valid positional argument will be `data`, and passing other arguments without an explicit keyword will result in an error or misinterpretation.\n",
      "  FutureWarning\n"
     ]
    },
    {
     "data": {
      "image/png": "[encoded data removed]",
      "text/plain": [
       "<Figure size 432x288 with 1 Axes>"
      ]
     },
     "metadata": {
      "needs_background": "light"
     },
     "output_type": "display_data"
    }
   ],
   "source": [
    "keys = [0.1, 0.2, 0.3, 0.4, 0.5]\n",
    "vals = [max(100*k, 100-100*k) - prof2frac2acc[\"nurse\"][k]*100 for k in keys]\n",
    "sn.lineplot(keys, vals, marker=\"*\", markersize=15)\n",
    "ax.set(ylabel=\"Gender leakage (%)\", xlabel=\"% imbalance\")\n",
    "#os.mkdir(\"acc-gender\")\n",
    "plt.savefig(\"acc-gender/{}-per-class.pdf\".format(\"nurse\"), dpi=500)"
   ]
  },
  {
   "cell_type": "code",
   "execution_count": null,
   "metadata": {},
   "outputs": [],
   "source": []
  }
 ],
 "metadata": {
  "kernelspec": {
   "display_name": "Python 3",
   "language": "python",
   "name": "python3"
  },
  "language_info": {
   "codemirror_mode": {
    "name": "ipython",
    "version": 3
   },
   "file_extension": ".py",
   "mimetype": "text/x-python",
   "name": "python",
   "nbconvert_exporter": "python",
   "pygments_lexer": "ipython3",
   "version": "3.7.6"
  }
 },
 "nbformat": 4,
 "nbformat_minor": 4
}
